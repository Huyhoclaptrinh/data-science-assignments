{
 "cells": [
  {
   "cell_type": "code",
   "execution_count": 1,
   "metadata": {
    "id": "G6Co_GLxcQXY"
   },
   "outputs": [],
   "source": [
    "import numpy as np\n",
    "import pandas as pd"
   ]
  },
  {
   "cell_type": "code",
   "execution_count": 2,
   "metadata": {
    "id": "CmGrgQppCG0_"
   },
   "outputs": [],
   "source": [
    "df = pd.read_csv('knnData.csv')\n",
    "\n",
    "# Extract features and labels for training data\n",
    "X_train = df[['trainPoints_x1', 'trainPoints_x2']].values\n",
    "y_train = df['trainLabel'].values\n",
    "\n",
    "# Extract features and labels for test data\n",
    "X_test = df[['testPoints_x1', 'testPoints_x2']].values\n",
    "y_test = df['testLabel'].values"
   ]
  },
  {
   "cell_type": "code",
   "execution_count": 3,
   "metadata": {
    "id": "Xy--n5iaeFNC"
   },
   "outputs": [],
   "source": [
    "class DistanceWeightedKNN:\n",
    "    def __init__(self, k=3, p=1):\n",
    "        \"\"\"\n",
    "        Initialize the Distance-Weighted KNN model.\n",
    "        :param k: Number of neighbors to consider.\n",
    "        :param p: Distance metric (1 for Manhattan, 2 for Euclidean, np.inf for Chebyshev).\n",
    "        \"\"\"\n",
    "        self.k = k\n",
    "        self.p = p\n",
    "        self.train_data = None\n",
    "        self.train_labels = None\n",
    "\n",
    "    def fit(self, train_data, train_labels):\n",
    "        \"\"\"\n",
    "        Fit the model with the training data.\n",
    "        :param train_data: Array of training points (features).\n",
    "        :param train_labels: Array of training labels.\n",
    "        \"\"\"\n",
    "        self.train_data = train_data\n",
    "        self.train_labels = train_labels\n",
    "\n",
    "    def _distance(self, point1, point2):\n",
    "        \"\"\"\n",
    "        Compute distance between two points based on the given metric.\n",
    "        \"\"\"\n",
    "        if self.p == 1:\n",
    "            return np.sum(np.abs(np.array(point1) - np.array(point2)))\n",
    "        elif self.p == 2:\n",
    "            return np.sqrt(np.sum((np.array(point1) - np.array(point2)) ** 2))\n",
    "        elif self.p == np.inf:\n",
    "            return np.max(np.abs(np.array(point1) - np.array(point2)))\n",
    "        else:\n",
    "            raise ValueError(\"Unsupported distance metric.\")\n",
    "\n",
    "    def _predict_point(self, test_point):\n",
    "        \"\"\"\n",
    "        Predict the label for a single test point.\n",
    "        :param test_point: Test point for which to predict the label.\n",
    "        \"\"\"\n",
    "        # Calculate distances and weights\n",
    "        distances = [self._distance(test_point, train_point) for train_point in self.train_data]\n",
    "        weights = [1 / (d ** 2) if d != 0 else float('inf') for d in distances]  # Avoid division by zero\n",
    "        neighbors = sorted(zip(distances, weights, self.train_labels))[:self.k]\n",
    "\n",
    "        numerator = 0\n",
    "        denominator = 0\n",
    "\n",
    "        for _, weight, label in neighbors:\n",
    "            numerator += weight * label\n",
    "            denominator += weight\n",
    "\n",
    "        return np.sign(numerator / denominator)\n",
    "\n",
    "        # Aggregate weighted votes\n",
    "        # weighted_votes = Counter()\n",
    "        # for _, weight, label in neighbors:\n",
    "        #     weighted_votes[label] += weight\n",
    "\n",
    "        # # Return the label with the highest weighted vote\n",
    "        # return weighted_votes.most_common(1)[0][0]\n",
    "\n",
    "    def predict(self, test_data):\n",
    "        \"\"\"\n",
    "        Predict labels for multiple test points.\n",
    "        :param test_data: Array of test points.\n",
    "        :return: Predicted labels for the test points.\n",
    "        \"\"\"\n",
    "        return [self._predict_point(test_point) for test_point in test_data]\n",
    "\n",
    "    def score(self, test_data, test_labels):\n",
    "        \"\"\"\n",
    "        Compute the accuracy of the model on test data.\n",
    "        :param test_data: Array of test points.\n",
    "        :param test_labels: Array of true labels for the test points.\n",
    "        :return: Accuracy score.\n",
    "        \"\"\"\n",
    "        predictions = self.predict(test_data)\n",
    "        correct = sum(p == t for p, t in zip(predictions, test_labels))\n",
    "        return correct / len(test_labels)\n",
    "\n",
    "# # Example Usage:\n",
    "# # Define dataset (replace with actual data)\n",
    "# train_data = np.array(df[['trainPoints_x1','trainPoints_x2']])\n",
    "# test_data = np.array(df[['testPoints_x1','testPoints_x2']])\n",
    "# train_labels = np.array(df['trainLabel'])\n",
    "# test_labels = np.array(df['testLabel'])\n",
    "\n",
    "# # Initialize and fit the model\n",
    "# knn = DistanceWeightedKNN(k=3, p=np.inf)  # Using Euclidean distance (p=2)\n",
    "# knn.fit(train_data, train_labels)\n",
    "\n",
    "# # Predict and evaluate\n",
    "# predictions = knn.predict(test_data)\n",
    "# accuracy = knn.score(test_data, test_labels)\n",
    "\n",
    "# print(f\"Predictions: {predictions}\")\n",
    "# print(f\"Accuracy: {accuracy:.2f}\")\n"
   ]
  },
  {
   "cell_type": "markdown",
   "metadata": {
    "id": "xSQcwMftaRBQ"
   },
   "source": [
    "## Manhattan distance"
   ]
  },
  {
   "cell_type": "code",
   "execution_count": 4,
   "metadata": {
    "id": "FE7AyiPAHipy"
   },
   "outputs": [],
   "source": [
    "knn_model = DistanceWeightedKNN()"
   ]
  },
  {
   "cell_type": "code",
   "execution_count": 5,
   "metadata": {
    "id": "R4uHLA66HoMu"
   },
   "outputs": [],
   "source": [
    "knn_model.fit(X_train,y_train)"
   ]
  },
  {
   "cell_type": "code",
   "execution_count": 6,
   "metadata": {
    "colab": {
     "base_uri": "https://localhost:8080/"
    },
    "id": "lasf2pXYHp8k",
    "outputId": "a24dcad9-46ee-4d13-bf6e-4fbb385d3a14"
   },
   "outputs": [
    {
     "name": "stdout",
     "output_type": "stream",
     "text": [
      "Predictions: [-1.0, 1.0, -1.0, -1.0, 1.0, 1.0, -1.0, -1.0, -1.0, -1.0, 1.0, -1.0, 1.0, 1.0, -1.0, -1.0, -1.0, -1.0, -1.0, -1.0, -1.0, -1.0, 1.0, -1.0, 1.0, 1.0, 1.0, -1.0, -1.0, -1.0, 1.0, -1.0, -1.0, -1.0, 1.0, -1.0, -1.0, -1.0, -1.0, 1.0]\n"
     ]
    }
   ],
   "source": [
    "y_pred = knn_model.predict(X_test)\n",
    "print(f\"Predictions: {y_pred}\")"
   ]
  },
  {
   "cell_type": "code",
   "execution_count": 7,
   "metadata": {
    "colab": {
     "base_uri": "https://localhost:8080/"
    },
    "id": "cm8sGIw_IdMc",
    "outputId": "af554503-77d0-4436-c018-f424848b6ffb"
   },
   "outputs": [
    {
     "name": "stdout",
     "output_type": "stream",
     "text": [
      "Accuracy: 0.875\n"
     ]
    }
   ],
   "source": [
    "# Calculate accuracy\n",
    "accuracy = knn_model.score(y_test, y_pred)\n",
    "print(\"Accuracy:\", accuracy)"
   ]
  },
  {
   "cell_type": "markdown",
   "metadata": {
    "id": "LRcEdT-tabk-"
   },
   "source": [
    "## Euclidean Distance"
   ]
  },
  {
   "cell_type": "code",
   "execution_count": 8,
   "metadata": {
    "colab": {
     "base_uri": "https://localhost:8080/"
    },
    "id": "JubDX1XGZbFQ",
    "outputId": "7ef4d0a6-1650-4a2e-9101-66576261f22a"
   },
   "outputs": [
    {
     "name": "stdout",
     "output_type": "stream",
     "text": [
      "Predictions: [-1.0, 1.0, -1.0, -1.0, 1.0, 1.0, -1.0, -1.0, -1.0, -1.0, 1.0, -1.0, 1.0, 1.0, -1.0, -1.0, -1.0, -1.0, -1.0, -1.0, -1.0, -1.0, 1.0, -1.0, 1.0, 1.0, -1.0, -1.0, -1.0, -1.0, 1.0, -1.0, -1.0, -1.0, 1.0, 1.0, -1.0, -1.0, -1.0, 1.0]\n",
      "Accuracy: 0.825\n"
     ]
    }
   ],
   "source": [
    "knn_model_1 = DistanceWeightedKNN(p=2)\n",
    "knn_model_1.fit(X_train,y_train)\n",
    "y_pred_1 = knn_model_1.predict(X_test)\n",
    "print(f\"Predictions: {y_pred_1}\")\n",
    "\n",
    "accuracy_1 = knn_model_1.score(y_test, y_pred_1)\n",
    "print(\"Accuracy:\", accuracy_1)"
   ]
  },
  {
   "cell_type": "markdown",
   "metadata": {
    "id": "fEtbIH3laff1"
   },
   "source": [
    "## Chebysev Distancce"
   ]
  },
  {
   "cell_type": "code",
   "execution_count": 9,
   "metadata": {
    "colab": {
     "base_uri": "https://localhost:8080/"
    },
    "id": "3NbZg_q9ZpkY",
    "outputId": "98f384b9-d526-4e37-98a8-e9ef0e8e40ca"
   },
   "outputs": [
    {
     "name": "stdout",
     "output_type": "stream",
     "text": [
      "Predictions: [-1.0, 1.0, -1.0, -1.0, 1.0, 1.0, -1.0, -1.0, -1.0, -1.0, 1.0, -1.0, 1.0, 1.0, -1.0, -1.0, -1.0, -1.0, -1.0, -1.0, -1.0, -1.0, 1.0, -1.0, 1.0, 1.0, 1.0, -1.0, -1.0, -1.0, 1.0, -1.0, -1.0, -1.0, 1.0, -1.0, -1.0, -1.0, -1.0, 1.0]\n",
      "Accuracy: 0.875\n"
     ]
    }
   ],
   "source": [
    "knn_model_2 = DistanceWeightedKNN(p=np.inf)\n",
    "knn_model_2.fit(X_train,y_train)\n",
    "y_pred_2 = knn_model_2.predict(X_test)\n",
    "print(f\"Predictions: {y_pred_2}\")\n",
    "\n",
    "accuracy_2 = knn_model_2.score(y_test, y_pred_2)\n",
    "print(\"Accuracy:\", accuracy_2)"
   ]
  }
 ],
 "metadata": {
  "colab": {
   "provenance": []
  },
  "kernelspec": {
   "display_name": "Python 3 (ipykernel)",
   "language": "python",
   "name": "python3"
  },
  "language_info": {
   "codemirror_mode": {
    "name": "ipython",
    "version": 3
   },
   "file_extension": ".py",
   "mimetype": "text/x-python",
   "name": "python",
   "nbconvert_exporter": "python",
   "pygments_lexer": "ipython3",
   "version": "3.12.4"
  }
 },
 "nbformat": 4,
 "nbformat_minor": 4
}
