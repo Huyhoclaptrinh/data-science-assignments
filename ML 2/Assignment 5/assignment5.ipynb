{
 "cells": [
  {
   "cell_type": "code",
   "execution_count": 1,
   "metadata": {
    "id": "GF4bH0rrx4E2"
   },
   "outputs": [],
   "source": [
    "import numpy as np\n",
    "import pandas as pd\n",
    "import matplotlib.pyplot as plt\n",
    "import seaborn as sns"
   ]
  },
  {
   "cell_type": "code",
   "execution_count": 2,
   "metadata": {
    "colab": {
     "base_uri": "https://localhost:8080/"
    },
    "id": "yVfQ43hY8b-P",
    "outputId": "5bbd0c41-460c-4481-cefa-851a7c62eaa4"
   },
   "outputs": [
    {
     "name": "stdout",
     "output_type": "stream",
     "text": [
      "Collecting line-profiler\n",
      "  Downloading line_profiler-4.2.0-cp312-cp312-win_amd64.whl.metadata (35 kB)\n",
      "Downloading line_profiler-4.2.0-cp312-cp312-win_amd64.whl (128 kB)\n",
      "   ---------------------------------------- 0.0/128.3 kB ? eta -:--:--\n",
      "   ------------------- -------------------- 61.4/128.3 kB 1.6 MB/s eta 0:00:01\n",
      "   ---------------------------------------- 128.3/128.3 kB 2.5 MB/s eta 0:00:00\n",
      "Installing collected packages: line-profiler\n",
      "Successfully installed line-profiler-4.2.0\n"
     ]
    }
   ],
   "source": [
    "!pip install line-profiler"
   ]
  },
  {
   "cell_type": "code",
   "execution_count": 3,
   "metadata": {
    "id": "kPG31s1Q63Rd"
   },
   "outputs": [],
   "source": [
    "import cProfile"
   ]
  },
  {
   "cell_type": "markdown",
   "metadata": {
    "id": "UUTTPlHAIzqd"
   },
   "source": [
    "# Problem 1"
   ]
  },
  {
   "cell_type": "markdown",
   "metadata": {
    "id": "6BinWgGfFdGO"
   },
   "source": [
    "## Loading Datasets"
   ]
  },
  {
   "cell_type": "code",
   "execution_count": 6,
   "metadata": {
    "id": "mLzOBPg0yMNW"
   },
   "outputs": [],
   "source": [
    "train = pd.read_csv('healthcareTrain.csv')\n",
    "test = pd.read_csv('healthcareTest.csv')"
   ]
  },
  {
   "cell_type": "code",
   "execution_count": 7,
   "metadata": {
    "colab": {
     "base_uri": "https://localhost:8080/"
    },
    "id": "Pa7QzmtGyUbv",
    "outputId": "428333a1-5133-4db5-9ba5-7dc8699c0bb6"
   },
   "outputs": [
    {
     "data": {
      "text/plain": [
       "Index(['patIndex', 'pdc', 'num_ip_post', 'total_los_post', 'num_op_post',\n",
       "       'num_er_post', 'num_ndc_post', 'num_gpi6_post', 'adjust_total_30d_post',\n",
       "       'generic_rate_post', 'post_ip_flag', 'post_er_flag', 'pdc_cat',\n",
       "       'post_ip_cost', 'post_er_cost', 'post_rx_cost', 'post_op_cost',\n",
       "       'post_total_cost', 'post_medical_cost', 'idx_copay', 'age_grpN', 'sexN',\n",
       "       'regionN', 'idx_prodtypeN', 'idx_paytypN', 'age_cat', 'log_idx_copay',\n",
       "       'ALCOHOL_DRUG', 'ASTHMA', 'CARDIAC_ARRYTHMIA', 'CARDIAC_VALVULAR',\n",
       "       'CEREBROVASCULAR', 'CHRONIC_KIDNEY', 'CHRONIC_PAIN_FIBRO', 'CHF',\n",
       "       'COPD', 'DEMENTIA', 'DEPRESSION', 'DIABETES', 'DYSLIPIDEMIA',\n",
       "       'EPILEPSY_SEIZURE', 'HEPATITIS', 'HIV_AIDS', 'HYPERTENSION',\n",
       "       'LIVER_GALLBLADDER_PANCREAS', 'MI_CAD', 'OSTEOARTHRITIS', 'PARALYSIS',\n",
       "       'PEPTIC_ULCER', 'PERIPHERAL_VASCULAR', 'RENAL_FAILURE', 'RHEUMATOLOGIC',\n",
       "       'SCHIZOPHRENIA', 'SLEEP_DISORDERS', 'SMOKING', 'THYROID', 'Solid_Tumor',\n",
       "       'Metastatic', 'Leukemia_Lymphoma', 'Other_Cancer', 'Cancer_In_Situ',\n",
       "       'pre_CCI', 'pre_ip_cost', 'pre_er_cost', 'pre_rx_cost', 'pre_op_cost',\n",
       "       'pre_total_cost', 'pre_medical_cost', 'num_ip', 'total_los', 'num_op',\n",
       "       'num_er', 'num_ndc', 'num_gpi6', 'adjust_total_30d', 'generic_rate',\n",
       "       'pre_ip_flag', 'pre_er_flag', 'log_pre_ip_cost', 'log_pre_er_cost',\n",
       "       'log_pre_op_cost', 'log_pre_rx_cost', 'pre_total_cat', 'numofgen',\n",
       "       'numofbrand', 'generic_cost', 'brand_cost', 'ratio_G_total_cost',\n",
       "       'numofgen_post', 'numofbrand_post', 'generic_cost_post',\n",
       "       'brand_cost_post', 'ratio_G_total_cost_post', 'pdc_80_flag',\n",
       "       'drug_class', 'patient_key'],\n",
       "      dtype='object')"
      ]
     },
     "execution_count": 7,
     "metadata": {},
     "output_type": "execute_result"
    }
   ],
   "source": [
    "train.columns"
   ]
  },
  {
   "cell_type": "code",
   "execution_count": 8,
   "metadata": {
    "id": "nub1jbayyAG4"
   },
   "outputs": [],
   "source": [
    "features = ['total_los','num_op','num_er','num_ndc','pre_total_cost','pre_CCI']"
   ]
  },
  {
   "cell_type": "markdown",
   "metadata": {
    "id": "beGZIyrXFf-i"
   },
   "source": [
    "## Checking and Solving Missing Values"
   ]
  },
  {
   "cell_type": "code",
   "execution_count": 10,
   "metadata": {
    "colab": {
     "base_uri": "https://localhost:8080/"
    },
    "id": "KwagomsgzhhT",
    "outputId": "a1ed82d9-38a3-4c01-8c77-9c267ba126c4"
   },
   "outputs": [
    {
     "name": "stdout",
     "output_type": "stream",
     "text": [
      "total_los         0\n",
      "num_op            0\n",
      "num_er            0\n",
      "num_ndc           0\n",
      "pre_total_cost    0\n",
      "pre_CCI           0\n",
      "dtype: int64\n"
     ]
    }
   ],
   "source": [
    "print(train[features].isnull().sum())"
   ]
  },
  {
   "cell_type": "code",
   "execution_count": 11,
   "metadata": {
    "colab": {
     "base_uri": "https://localhost:8080/"
    },
    "id": "HjytdHvXH56I",
    "outputId": "4a539fc1-5ab5-4901-d871-ff64d5afd0fe"
   },
   "outputs": [
    {
     "name": "stdout",
     "output_type": "stream",
     "text": [
      "0\n"
     ]
    }
   ],
   "source": [
    "print(train['pdc_80_flag'].isnull().sum())"
   ]
  },
  {
   "cell_type": "code",
   "execution_count": 12,
   "metadata": {
    "colab": {
     "base_uri": "https://localhost:8080/"
    },
    "id": "ldt8_RNgzGJC",
    "outputId": "15726acf-528b-4482-f393-07c158fbb0da"
   },
   "outputs": [
    {
     "name": "stdout",
     "output_type": "stream",
     "text": [
      "total_los         0\n",
      "num_op            0\n",
      "num_er            0\n",
      "num_ndc           0\n",
      "pre_total_cost    0\n",
      "pre_CCI           0\n",
      "dtype: int64\n"
     ]
    }
   ],
   "source": [
    "print(test[features].isnull().sum())"
   ]
  },
  {
   "cell_type": "code",
   "execution_count": 13,
   "metadata": {
    "colab": {
     "base_uri": "https://localhost:8080/"
    },
    "id": "iwcH8QlgH-Pz",
    "outputId": "b02557d1-6771-4773-a31e-64ea08d51743"
   },
   "outputs": [
    {
     "name": "stdout",
     "output_type": "stream",
     "text": [
      "0\n"
     ]
    }
   ],
   "source": [
    "print(test['pdc_80_flag'].isnull().sum())"
   ]
  },
  {
   "cell_type": "markdown",
   "metadata": {
    "id": "WV3XwccMFmkh"
   },
   "source": [
    "## Normalizing/Standardizing Datasets (If Need)"
   ]
  },
  {
   "cell_type": "code",
   "execution_count": 15,
   "metadata": {
    "colab": {
     "base_uri": "https://localhost:8080/"
    },
    "id": "7je-ghXUHTWX",
    "outputId": "b5322acf-1ee2-4e5e-a1c2-ef00c6da6b6e"
   },
   "outputs": [
    {
     "name": "stdout",
     "output_type": "stream",
     "text": [
      "         total_los       num_op       num_er      num_ndc  pre_total_cost  \\\n",
      "count  1378.000000  1378.000000  1378.000000  1378.000000     1378.000000   \n",
      "mean      0.386067     6.258345     0.245283    12.615385     5137.492252   \n",
      "std       1.769304     8.076973     0.625699    11.797189    10278.008826   \n",
      "min       0.000000     0.000000     0.000000     0.000000        0.000000   \n",
      "25%       0.000000     2.000000     0.000000     4.000000      784.549932   \n",
      "50%       0.000000     4.000000     0.000000     9.000000     1974.442045   \n",
      "75%       0.000000     8.000000     0.000000    18.000000     4633.353826   \n",
      "max      25.000000   180.000000     8.000000    82.000000   103510.802200   \n",
      "\n",
      "           pre_CCI  \n",
      "count  1378.000000  \n",
      "mean      1.042816  \n",
      "std       1.155478  \n",
      "min       0.000000  \n",
      "25%       0.000000  \n",
      "50%       1.000000  \n",
      "75%       1.000000  \n",
      "max      10.000000  \n"
     ]
    }
   ],
   "source": [
    "print(train[features].describe())"
   ]
  },
  {
   "cell_type": "code",
   "execution_count": 16,
   "metadata": {
    "colab": {
     "base_uri": "https://localhost:8080/"
    },
    "id": "UcJcbI071YeW",
    "outputId": "d7268e9e-f0fc-4eb9-fda8-ac52d0069f7b"
   },
   "outputs": [
    {
     "name": "stdout",
     "output_type": "stream",
     "text": [
      "        total_los      num_op      num_er     num_ndc  pre_total_cost  \\\n",
      "count  344.000000  344.000000  344.000000  344.000000      344.000000   \n",
      "mean     0.485465    6.462209    0.299419   10.802326     5040.464796   \n",
      "std      2.786853    7.363037    0.840241   10.732442     9791.459769   \n",
      "min      0.000000    0.000000    0.000000    0.000000        0.000000   \n",
      "25%      0.000000    2.000000    0.000000    3.000000      850.720970   \n",
      "50%      0.000000    4.000000    0.000000    8.000000     1997.317788   \n",
      "75%      0.000000    8.000000    0.000000   15.000000     4509.738902   \n",
      "max     34.000000   55.000000    7.000000   67.000000    80441.174770   \n",
      "\n",
      "          pre_CCI  \n",
      "count  344.000000  \n",
      "mean     1.031977  \n",
      "std      1.188684  \n",
      "min      0.000000  \n",
      "25%      0.000000  \n",
      "50%      1.000000  \n",
      "75%      1.000000  \n",
      "max      8.000000  \n"
     ]
    }
   ],
   "source": [
    "print(test[features].describe())"
   ]
  },
  {
   "cell_type": "markdown",
   "metadata": {
    "id": "iXE-C8bfGjjb"
   },
   "source": [
    "Some features have values in the hundreds or thousands (e.g., total_cost_post, brand_cost_post) and others have values close to zero (e.g., generic_rate_post, ratio_g_total_cost). So they have a large range among values\n",
    "\n",
    "=> We should normalize/standardize"
   ]
  },
  {
   "cell_type": "code",
   "execution_count": 18,
   "metadata": {
    "id": "RtQ9T0Wa1KKl"
   },
   "outputs": [],
   "source": [
    "from sklearn.preprocessing import MinMaxScaler"
   ]
  },
  {
   "cell_type": "code",
   "execution_count": 19,
   "metadata": {
    "id": "vRMv8vJh1K7q"
   },
   "outputs": [],
   "source": [
    "scaler = MinMaxScaler()"
   ]
  },
  {
   "cell_type": "code",
   "execution_count": 20,
   "metadata": {
    "id": "uhDT5oW41NtQ"
   },
   "outputs": [],
   "source": [
    "X_train_scaled = pd.DataFrame(scaler.fit_transform(train[features]), columns=features)\n",
    "X_test_scaled = pd.DataFrame(scaler.transform(test[features]), columns=features)"
   ]
  },
  {
   "cell_type": "markdown",
   "metadata": {
    "id": "dn9KPKULFz7-"
   },
   "source": [
    "## Implement 10-Fold Cross-Validation"
   ]
  },
  {
   "cell_type": "code",
   "execution_count": 22,
   "metadata": {
    "id": "kNUiJ1OC16PC"
   },
   "outputs": [],
   "source": [
    "k_values = list(range(31, 102, 2))"
   ]
  },
  {
   "cell_type": "code",
   "execution_count": 23,
   "metadata": {
    "id": "ccJERqu18eql"
   },
   "outputs": [],
   "source": [
    "from sklearn.neighbors import KNeighborsClassifier\n",
    "from sklearn.model_selection import KFold\n",
    "from sklearn.metrics import accuracy_score"
   ]
  },
  {
   "cell_type": "code",
   "execution_count": 24,
   "metadata": {
    "id": "y7BL5cYw88WQ"
   },
   "outputs": [],
   "source": [
    "X_train = train[features]\n",
    "y_train = train['pdc_80_flag']"
   ]
  },
  {
   "cell_type": "code",
   "execution_count": 25,
   "metadata": {
    "id": "ak0KbKtXDs61"
   },
   "outputs": [],
   "source": [
    "from sklearn.metrics import mean_squared_error"
   ]
  },
  {
   "cell_type": "markdown",
   "metadata": {
    "id": "-XrXgqrcQYZa"
   },
   "source": [
    "Reference for k-fold cross validation : https://www.analyticsvidhya.com/blog/2022/02/k-fold-cross-validation-technique-and-its-essentials/#:~:text=K%2Dfold%20cross%20validation%20in%20machine%20learning%20cross%2Dvalidation%20is,folds%20are%20used%20for%20training."
   ]
  },
  {
   "cell_type": "code",
   "execution_count": 27,
   "metadata": {
    "id": "pxaAdEb1mJQC"
   },
   "outputs": [],
   "source": [
    "def generate_folds(n_samples, n_folds, random_state=42):\n",
    "    \"\"\"\n",
    "    Generate a list of index arrays for each fold.\n",
    "\n",
    "    Parameters:\n",
    "        n_samples : int\n",
    "            Total number of samples in the dataset.\n",
    "        n_folds : int\n",
    "            Number of folds to generate.\n",
    "        random_state : int\n",
    "            Seed for reproducibility.\n",
    "\n",
    "    Returns:\n",
    "        folds : list of numpy arrays\n",
    "            List where each element is an array of indices for that fold.\n",
    "    \"\"\"\n",
    "    np.random.seed(random_state)\n",
    "    indices = np.arange(n_samples)\n",
    "    np.random.shuffle(indices)  # Fix: Shuffle before partitioning\n",
    "    fold_sizes = np.full(n_folds, n_samples // n_folds, dtype=int)\n",
    "    fold_sizes[:n_samples % n_folds] += 1  # Distribute remainder\n",
    "    folds = []\n",
    "    current = 0\n",
    "    for fold_size in fold_sizes:\n",
    "        folds.append(indices[current:current + fold_size])\n",
    "        current += fold_size\n",
    "    return folds"
   ]
  },
  {
   "cell_type": "code",
   "execution_count": 28,
   "metadata": {
    "id": "KgDksCRa89wG"
   },
   "outputs": [],
   "source": [
    "from line_profiler import LineProfiler\n"
   ]
  },
  {
   "cell_type": "code",
   "execution_count": 29,
   "metadata": {
    "id": "sPZ3IC_f8o4Z"
   },
   "outputs": [],
   "source": [
    "def cross_validate_knn(X, y, k_values, n_folds=10):\n",
    "    \"\"\"\n",
    "    Perform k-fold cross-validation manually for KNN without using KFold.\n",
    "\n",
    "    Parameters:\n",
    "        X : pandas DataFrame\n",
    "            Feature matrix.\n",
    "        y : pandas Series or array-like\n",
    "            Target vector.\n",
    "        k_values : list or iterable of int\n",
    "            List of k values (number of neighbors) to evaluate.\n",
    "        n_folds : int, default=10\n",
    "            Number of folds for cross-validation.\n",
    "\n",
    "    Returns:\n",
    "        results : dict\n",
    "            Dictionary mapping each k value to the average accuracy over all folds.\n",
    "    \"\"\"\n",
    "    n_samples = len(X)\n",
    "    folds = generate_folds(n_samples, n_folds, random_state=42)\n",
    "    results = {}\n",
    "\n",
    "    for k in k_values:\n",
    "        accuracy_scores = []\n",
    "\n",
    "        # Iterate over each fold as the validation set\n",
    "        for i in range(n_folds):\n",
    "            val_indices = folds[i]\n",
    "            # Use all other folds as the training set\n",
    "            train_indices = np.concatenate([folds[j] for j in range(n_folds) if j != i])\n",
    "\n",
    "            X_train, X_val = X.iloc[train_indices], X.iloc[val_indices]\n",
    "            y_train, y_val = y.iloc[train_indices], y.iloc[val_indices]\n",
    "\n",
    "            knn = KNeighborsClassifier(n_neighbors=k)\n",
    "            knn.fit(X_train, y_train)\n",
    "            y_pred = knn.predict(X_val)\n",
    "            accuracy = accuracy_score(y_val, y_pred)\n",
    "            accuracy_scores.append(accuracy)\n",
    "\n",
    "        results[k] = np.mean(accuracy_scores)\n",
    "\n",
    "    return results\n",
    "\n",
    "# Example usage:\n",
    "# k_values = list(range(31, 102, 2))\n",
    "# cv_results = cross_validate_knn(X_train, y_train, k_values)\n",
    "# for k, acc in cv_results.items():\n",
    "#     print(f\"k = {k}: Average Accuracy = {acc*100:.2f}%\")\n"
   ]
  },
  {
   "cell_type": "code",
   "execution_count": 30,
   "metadata": {
    "id": "9y1uGMn39XMd"
   },
   "outputs": [],
   "source": [
    "# Create a LineProfiler instance\n",
    "lp = LineProfiler()\n",
    "lp.add_function(cross_validate_knn)  # Profile this function\n",
    "lp.add_function(generate_folds)  # Profile the generate_folds function inside it"
   ]
  },
  {
   "cell_type": "code",
   "execution_count": 31,
   "metadata": {
    "id": "s67gx6Cf9sSF"
   },
   "outputs": [],
   "source": [
    "lp.enable()  # Start profiling\n",
    "cv_results = cross_validate_knn(X_train, y_train, k_values)\n",
    "# lp.disable()  # Stop profiling\n",
    "\n",
    "# lp.print_stats()  # Print the profiling results"
   ]
  },
  {
   "cell_type": "code",
   "execution_count": 32,
   "metadata": {
    "colab": {
     "base_uri": "https://localhost:8080/"
    },
    "id": "o34wT4VB-9ev",
    "outputId": "e9f9d944-935c-4a2c-eb49-e219182cfdfe"
   },
   "outputs": [
    {
     "name": "stdout",
     "output_type": "stream",
     "text": [
      "k=31: 59.44%\n",
      "k=33: 60.24%\n",
      "k=35: 59.73%\n",
      "k=37: 59.22%\n",
      "k=39: 58.71%\n",
      "k=41: 59.51%\n",
      "k=43: 60.6%\n",
      "k=45: 60.31%\n",
      "k=47: 59.94%\n",
      "k=49: 60.02%\n",
      "k=51: 60.38%\n",
      "k=53: 60.23%\n",
      "k=55: 60.24%\n",
      "k=57: 60.38%\n",
      "k=59: 60.96%\n",
      "k=61: 60.67%\n",
      "k=63: 60.38%\n",
      "k=65: 59.73%\n",
      "k=67: 59.44%\n",
      "k=69: 59.58%\n",
      "k=71: 59.87%\n",
      "k=73: 59.66%\n",
      "k=75: 59.51%\n",
      "k=77: 59.44%\n",
      "k=79: 59.66%\n",
      "k=81: 59.58%\n",
      "k=83: 59.73%\n",
      "k=85: 59.73%\n",
      "k=87: 59.73%\n",
      "k=89: 59.87%\n",
      "k=91: 60.09%\n",
      "k=93: 59.95%\n",
      "k=95: 59.95%\n",
      "k=97: 60.16%\n",
      "k=99: 59.88%\n",
      "k=101: 59.95%\n"
     ]
    }
   ],
   "source": [
    "# Convert accuracy values to percentages\n",
    "cv_results_percent = {k: round(v * 100, 2) for k, v in cv_results.items()}\n",
    "\n",
    "# Print results with percentage formatting\n",
    "for k, acc in cv_results_percent.items():\n",
    "    print(f\"k={k}: {acc}%\")"
   ]
  },
  {
   "cell_type": "code",
   "execution_count": 33,
   "metadata": {
    "id": "mTujQL5P9pUz"
   },
   "outputs": [],
   "source": [
    "# lp.enable()\n",
    "cv_scaled_results = cross_validate_knn(X_train_scaled, y_train, k_values)\n",
    "# lp.disable()\n",
    "\n",
    "# lp.print_stats()"
   ]
  },
  {
   "cell_type": "code",
   "execution_count": 34,
   "metadata": {
    "colab": {
     "base_uri": "https://localhost:8080/"
    },
    "id": "0B8UmUJVLxnM",
    "outputId": "9350c654-c9b1-47c7-aef2-e62013bb5e5d"
   },
   "outputs": [
    {
     "name": "stdout",
     "output_type": "stream",
     "text": [
      "k=31: 60.01%\n",
      "k=33: 60.08%\n",
      "k=35: 59.36%\n",
      "k=37: 59.72%\n",
      "k=39: 59.94%\n",
      "k=41: 59.94%\n",
      "k=43: 59.65%\n",
      "k=45: 59.36%\n",
      "k=47: 60.16%\n",
      "k=49: 59.58%\n",
      "k=51: 58.85%\n",
      "k=53: 58.85%\n",
      "k=55: 58.56%\n",
      "k=57: 59.0%\n",
      "k=59: 59.07%\n",
      "k=61: 58.63%\n",
      "k=63: 58.78%\n",
      "k=65: 58.71%\n",
      "k=67: 59.5%\n",
      "k=69: 59.28%\n",
      "k=71: 59.28%\n",
      "k=73: 59.22%\n",
      "k=75: 59.65%\n",
      "k=77: 59.65%\n",
      "k=79: 59.22%\n",
      "k=81: 59.51%\n",
      "k=83: 59.36%\n",
      "k=85: 60.23%\n",
      "k=87: 59.29%\n",
      "k=89: 59.07%\n",
      "k=91: 58.92%\n",
      "k=93: 58.93%\n",
      "k=95: 58.85%\n",
      "k=97: 59.07%\n",
      "k=99: 59.0%\n",
      "k=101: 58.49%\n"
     ]
    }
   ],
   "source": [
    "# Convert accuracy values to percentages\n",
    "cv_scaled_results_percent = {k: round(v * 100, 2) for k, v in cv_scaled_results.items()}\n",
    "\n",
    "# Print results with percentage formatting\n",
    "for k, acc in cv_scaled_results_percent.items():\n",
    "    print(f\"k={k}: {acc}%\")"
   ]
  },
  {
   "cell_type": "markdown",
   "metadata": {
    "id": "7uxA6AzdGBlc"
   },
   "source": [
    "## Find the Best K"
   ]
  },
  {
   "cell_type": "code",
   "execution_count": 36,
   "metadata": {
    "colab": {
     "base_uri": "https://localhost:8080/"
    },
    "id": "sl9ZIC2zAiSL",
    "outputId": "6334bc80-7113-4434-e3a2-6323aa7c3a83"
   },
   "outputs": [
    {
     "name": "stdout",
     "output_type": "stream",
     "text": [
      "Best K: 59\n",
      "Best Validation Accuracy:60.96%\n"
     ]
    }
   ],
   "source": [
    "best_k = max(cv_results, key=cv_results.get)\n",
    "print(\"Best K:\", best_k)\n",
    "print(f\"Best Validation Accuracy:{cv_results[best_k] * 100:.2f}%\")"
   ]
  },
  {
   "cell_type": "code",
   "execution_count": 37,
   "metadata": {
    "colab": {
     "base_uri": "https://localhost:8080/"
    },
    "id": "WxjOqBhHL_HJ",
    "outputId": "35326982-e91c-45b5-cb47-e86c97347e71"
   },
   "outputs": [
    {
     "name": "stdout",
     "output_type": "stream",
     "text": [
      "Best K: 85\n",
      "Best Validation Accuracy (With Normalization/Standardization):59.07%\n"
     ]
    }
   ],
   "source": [
    "best_scaled_k = max(cv_scaled_results, key=cv_scaled_results.get)\n",
    "print(\"Best K:\", best_scaled_k)\n",
    "print(f\"Best Validation Accuracy (With Normalization/Standardization):{cv_scaled_results[best_k] * 100:.2f}%\")"
   ]
  },
  {
   "cell_type": "markdown",
   "metadata": {
    "id": "1u9NbnNEGGOq"
   },
   "source": [
    "## Plot Accuracy vs K\n"
   ]
  },
  {
   "cell_type": "code",
   "execution_count": 39,
   "metadata": {
    "colab": {
     "base_uri": "https://localhost:8080/",
     "height": 472
    },
    "id": "U4o187sg_SBG",
    "outputId": "64817ce5-275a-42cd-bed8-ce60e0e74036"
   },
   "outputs": [
    {
     "data": {
      "image/png": "[encoded data removed]",
      "text/plain": [
       "<Figure size 640x480 with 1 Axes>"
      ]
     },
     "metadata": {},
     "output_type": "display_data"
    }
   ],
   "source": [
    "# Plotting accuracy vs. K values\n",
    "plt.plot(list(cv_results.keys()), list(cv_results.values()))\n",
    "plt.xlabel('K')\n",
    "plt.ylabel('Accuracy')\n",
    "plt.title('Accuracy vs. K')\n",
    "plt.show()"
   ]
  },
  {
   "cell_type": "code",
   "execution_count": 40,
   "metadata": {
    "colab": {
     "base_uri": "https://localhost:8080/",
     "height": 472
    },
    "id": "1VhtHBfIMPTY",
    "outputId": "b291145c-a6b1-481d-9217-f770f579a61a"
   },
   "outputs": [
    {
     "data": {
      "image/png": "[encoded data removed]",
      "text/plain": [
       "<Figure size 640x480 with 1 Axes>"
      ]
     },
     "metadata": {},
     "output_type": "display_data"
    }
   ],
   "source": [
    "# Plotting accuracy vs. K values\n",
    "plt.plot(list(cv_scaled_results.keys()), list(cv_scaled_results.values()))\n",
    "plt.xlabel('K')\n",
    "plt.ylabel('Accuracy')\n",
    "plt.title('Accuracy vs. K (With Normalization/Standardization)')\n",
    "plt.show()"
   ]
  },
  {
   "cell_type": "markdown",
   "metadata": {
    "id": "tXMgNyvwGNUp"
   },
   "source": [
    "## Train Final Model and Evaluate on Test Set"
   ]
  },
  {
   "cell_type": "code",
   "execution_count": 42,
   "metadata": {
    "id": "JFfwebEHBaqn"
   },
   "outputs": [],
   "source": [
    "X_test = test[features]\n",
    "y_test = test['pdc_80_flag']"
   ]
  },
  {
   "cell_type": "code",
   "execution_count": 43,
   "metadata": {
    "colab": {
     "base_uri": "https://localhost:8080/"
    },
    "id": "sZrctxBdBb2d",
    "outputId": "bc4ec548-d904-485b-f7aa-6e4c49a164f8"
   },
   "outputs": [
    {
     "name": "stdout",
     "output_type": "stream",
     "text": [
      "Test Accuracy: 58.14%\n"
     ]
    }
   ],
   "source": [
    "test_knn = KNeighborsClassifier(n_neighbors = best_k)\n",
    "test_knn.fit(X_train, y_train)\n",
    "y_pred_test = test_knn.predict(X_test)\n",
    "test_accuracy = accuracy_score(y_test, y_pred_test)\n",
    "print(f\"Test Accuracy: {test_accuracy * 100:.2f}%\")"
   ]
  },
  {
   "cell_type": "code",
   "execution_count": 44,
   "metadata": {
    "colab": {
     "base_uri": "https://localhost:8080/"
    },
    "id": "QDcLL5KmMe9f",
    "outputId": "d06b2ec6-30c3-4021-ae36-26d3dc2e324a"
   },
   "outputs": [
    {
     "name": "stdout",
     "output_type": "stream",
     "text": [
      "Test Accuracy (With Normalization/Standardization): 62.50%\n"
     ]
    }
   ],
   "source": [
    "test_scaled_knn = KNeighborsClassifier(n_neighbors = best_k)\n",
    "test_scaled_knn.fit(X_train_scaled, y_train)\n",
    "y_pred_scaled_test = test_knn.predict(X_test_scaled)\n",
    "test_scaled_accuracy = accuracy_score(y_test, y_pred_scaled_test)\n",
    "print(f\"Test Accuracy (With Normalization/Standardization): {test_scaled_accuracy * 100:.2f}%\")"
   ]
  },
  {
   "cell_type": "markdown",
   "metadata": {
    "id": "288D3fIOGRpd"
   },
   "source": [
    "## Compare Validation and Test Error"
   ]
  },
  {
   "cell_type": "code",
   "execution_count": 46,
   "metadata": {
    "colab": {
     "base_uri": "https://localhost:8080/"
    },
    "id": "PSHBMiKDBQaE",
    "outputId": "9bfcc1ed-648f-40bf-a179-6da7974bc57c"
   },
   "outputs": [
    {
     "name": "stdout",
     "output_type": "stream",
     "text": [
      "Validation Error: 39.04%\n"
     ]
    }
   ],
   "source": [
    "validation_error = 1 - cv_results[best_k]\n",
    "print(f\"Validation Error: {validation_error * 100:.2f}%\")"
   ]
  },
  {
   "cell_type": "code",
   "execution_count": 47,
   "metadata": {
    "colab": {
     "base_uri": "https://localhost:8080/"
    },
    "id": "VYleeXykM0Rw",
    "outputId": "5622256c-b6c0-4434-a3ef-e2539b99e2bb"
   },
   "outputs": [
    {
     "name": "stdout",
     "output_type": "stream",
     "text": [
      "Validation Error (With Normalization/Standardization): 40.93%\n"
     ]
    }
   ],
   "source": [
    "validation_error = 1 - cv_scaled_results[best_k]\n",
    "print(f\"Validation Error (With Normalization/Standardization): {validation_error * 100:.2f}%\")"
   ]
  },
  {
   "cell_type": "code",
   "execution_count": 48,
   "metadata": {
    "colab": {
     "base_uri": "https://localhost:8080/"
    },
    "id": "bv3qL9XgD1zP",
    "outputId": "fd040102-cb1f-460c-e99d-15e53007d5e9"
   },
   "outputs": [
    {
     "name": "stdout",
     "output_type": "stream",
     "text": [
      "Test Error:41.86%\n"
     ]
    }
   ],
   "source": [
    "# test_error = mean_squared_error(y_test, y_pred_test)\n",
    "test_error = 1 - test_accuracy\n",
    "print(f\"Test Error:{test_error * 100:.2f}%\")"
   ]
  },
  {
   "cell_type": "code",
   "execution_count": 49,
   "metadata": {
    "colab": {
     "base_uri": "https://localhost:8080/"
    },
    "id": "MG5jlMcQM1Le",
    "outputId": "1440a975-4efd-4d89-ae1c-c282b5f41327"
   },
   "outputs": [
    {
     "name": "stdout",
     "output_type": "stream",
     "text": [
      "Test Error (With Normalization/Standardization):37.50%\n"
     ]
    }
   ],
   "source": [
    "test_error = 1 - test_scaled_accuracy\n",
    "print(f\"Test Error (With Normalization/Standardization):{test_error * 100:.2f}%\")"
   ]
  },
  {
   "cell_type": "markdown",
   "metadata": {
    "id": "z3IA_SqfN6HC"
   },
   "source": [
    "From the results, we analyzed the validation and test errors for K-Nearest Neighbors (KNN) with and without normalization/standardization. Here are the key findings:\n",
    "\n",
    "Without Normalization/Standardization:\n",
    "\n",
    "- Validation Error: 39.04%\n",
    "\n",
    "- Test Error: 41.86%\n",
    "\n",
    "- The test error is slightly higher than the validation error, indicating that the model has some degree of overfitting—it performs slightly better on the validation set compared to the unseen test set.\n",
    "\n",
    "With Normalization/Standardization:\n",
    "\n",
    "- Validation Error: 40.93%\n",
    "\n",
    "- Test Error: 37.50%\n",
    "\n",
    "- After applying normalization/standardization, we observe that the test error decreases significantly (from 41.86% to 37.50%), suggesting that feature scaling improves generalization.\n",
    "\n",
    "- The validation error slightly increased (from 39.04% to 40.93%), which might indicate a better distribution of distances in KNN after normalization."
   ]
  },
  {
   "cell_type": "markdown",
   "metadata": {
    "id": "bUqDpXTiOVhi"
   },
   "source": [
    "# Problem 2"
   ]
  },
  {
   "cell_type": "markdown",
   "metadata": {
    "id": "wvJwKaFDNdeK"
   },
   "source": [
    "## Define the target function f(x) = sin(πx)"
   ]
  },
  {
   "cell_type": "code",
   "execution_count": 53,
   "metadata": {
    "id": "JYhv6yDkObgd"
   },
   "outputs": [],
   "source": [
    "def target_function(x):\n",
    "    return np.sin(np.pi * x)"
   ]
  },
  {
   "cell_type": "code",
   "execution_count": 54,
   "metadata": {
    "id": "ZCchTwvL-WCR"
   },
   "outputs": [],
   "source": [
    "lp.add_function(target_function)"
   ]
  },
  {
   "cell_type": "markdown",
   "metadata": {
    "id": "Jm1WopJWNb2p"
   },
   "source": [
    "## Generate 10,000 training sets with two points each, sampled uniformly from [-1,1]\n"
   ]
  },
  {
   "cell_type": "code",
   "execution_count": 56,
   "metadata": {
    "id": "LQWZNVVeObit"
   },
   "outputs": [],
   "source": [
    "np.random.seed(42)\n",
    "num_hypotheses = 10000\n",
    "x_train = np.random.uniform(-1, 1, (num_hypotheses, 2))\n",
    "y_train = target_function(x_train)\n"
   ]
  },
  {
   "cell_type": "markdown",
   "metadata": {
    "id": "7og7FKWC4jbq"
   },
   "source": [
    "## Unregularized Linear Regression"
   ]
  },
  {
   "cell_type": "code",
   "execution_count": 58,
   "metadata": {
    "id": "7BtlyFn24i7K"
   },
   "outputs": [],
   "source": [
    "# Unregularized Linear Regression\n",
    "m_unreg = np.zeros(num_hypotheses)\n",
    "b_unreg = np.zeros(num_hypotheses)"
   ]
  },
  {
   "cell_type": "code",
   "execution_count": 59,
   "metadata": {
    "id": "0kvuszI3PGm0"
   },
   "outputs": [],
   "source": [
    "for i in range(num_hypotheses):\n",
    "    X = np.vstack((x_train[i], np.ones(2))).T  # Design matrix with bias term\n",
    "    y = y_train[i]\n",
    "\n",
    "    # Compute unregularized weights using normal equation\n",
    "    theta_unreg = np.linalg.pinv(X) @ y\n",
    "    m_unreg[i], b_unreg[i] = theta_unreg"
   ]
  },
  {
   "cell_type": "markdown",
   "metadata": {
    "id": "Iezc1Iib5Ovm"
   },
   "source": [
    "## Compute average hypothesis ḡ(x) for unregularized model"
   ]
  },
  {
   "cell_type": "code",
   "execution_count": 61,
   "metadata": {
    "id": "NUEHm90G5O1F"
   },
   "outputs": [],
   "source": [
    "avg_m_unreg = np.mean(m_unreg)\n",
    "avg_b_unreg = np.mean(b_unreg)"
   ]
  },
  {
   "cell_type": "code",
   "execution_count": 62,
   "metadata": {
    "id": "7uAb7cKO5UZK"
   },
   "outputs": [],
   "source": [
    "# Define ḡ(x) function\n",
    "def g_bar_unreg(x):\n",
    "    return avg_m_unreg * x + avg_b_unreg"
   ]
  },
  {
   "cell_type": "code",
   "execution_count": 63,
   "metadata": {
    "id": "-Q7tsX0N-Zlc"
   },
   "outputs": [],
   "source": [
    "lp.add_function(g_bar_unreg)"
   ]
  },
  {
   "cell_type": "markdown",
   "metadata": {
    "id": "dP2PSW0D5Z-w"
   },
   "source": [
    "## Compute bias²"
   ]
  },
  {
   "cell_type": "code",
   "execution_count": 65,
   "metadata": {
    "id": "HqYjePtaPKAL"
   },
   "outputs": [],
   "source": [
    "x_vals = np.linspace(-1, 1, 100)\n",
    "bias_sq_unreg = np.mean((g_bar_unreg(x_vals) - target_function(x_vals))**2)"
   ]
  },
  {
   "cell_type": "markdown",
   "metadata": {
    "id": "tdecd0-t5bX3"
   },
   "source": [
    "## Compute variance"
   ]
  },
  {
   "cell_type": "code",
   "execution_count": 67,
   "metadata": {
    "id": "5tgZXIgl5bfQ"
   },
   "outputs": [],
   "source": [
    "variance_unreg = np.mean((m_unreg * x_vals[:, None] + b_unreg - g_bar_unreg(x_vals)[:, None])**2, axis=1)"
   ]
  },
  {
   "cell_type": "markdown",
   "metadata": {
    "id": "uvrA2_mO6Vcc"
   },
   "source": [
    "## Compute total error"
   ]
  },
  {
   "cell_type": "code",
   "execution_count": 69,
   "metadata": {
    "id": "aFCTzBjN6ViP"
   },
   "outputs": [],
   "source": [
    "total_error_unreg = bias_sq_unreg + np.mean(variance_unreg)"
   ]
  },
  {
   "cell_type": "markdown",
   "metadata": {
    "id": "VEtnbt7NQ1PW"
   },
   "source": [
    "## Regularization parameter"
   ]
  },
  {
   "cell_type": "code",
   "execution_count": 71,
   "metadata": {
    "id": "u2-RhrCwOblP"
   },
   "outputs": [],
   "source": [
    "lambda_reg = 0.1\n",
    "identity_matrix = np.eye(2)  # Identity matrix for regularization"
   ]
  },
  {
   "cell_type": "code",
   "execution_count": 72,
   "metadata": {
    "id": "Cgr6c5nN5lf-"
   },
   "outputs": [],
   "source": [
    "m_reg_alt = np.zeros(num_hypotheses)\n",
    "b_reg_alt = np.zeros(num_hypotheses)"
   ]
  },
  {
   "cell_type": "code",
   "execution_count": 73,
   "metadata": {
    "id": "kHEOGUG35nP_"
   },
   "outputs": [],
   "source": [
    "for i in range(num_hypotheses):\n",
    "    X = np.vstack((x_train[i], np.ones(2))).T  # Design matrix with bias term\n",
    "    y = y_train[i]\n",
    "\n",
    "    # Compute regularized weights using the given formula\n",
    "    XtX = X.T @ X\n",
    "    XtX_reg = XtX + lambda_reg * identity_matrix\n",
    "    XtX_inv = np.linalg.inv(XtX_reg)\n",
    "    theta_reg_alt = XtX_inv @ X.T @ y\n",
    "\n",
    "    m_reg_alt[i], b_reg_alt[i] = theta_reg_alt"
   ]
  },
  {
   "cell_type": "code",
   "execution_count": 74,
   "metadata": {
    "id": "qCRxGDHF5ujT"
   },
   "outputs": [],
   "source": [
    "# Compute the new average hypothesis ḡ(x) for the alternative regularized model\n",
    "avg_m_reg_alt = np.mean(m_reg_alt)\n",
    "avg_b_reg_alt = np.mean(b_reg_alt)"
   ]
  },
  {
   "cell_type": "markdown",
   "metadata": {
    "id": "DwULRRn04zVH"
   },
   "source": [
    "## Compute the new average hypothesis ḡ(x) for the alternative regularized model"
   ]
  },
  {
   "cell_type": "code",
   "execution_count": 76,
   "metadata": {
    "id": "HlA_87ZbObqQ"
   },
   "outputs": [],
   "source": [
    "def g_bar_reg_alt(x):\n",
    "    return avg_m_reg_alt * x + avg_b_reg_alt"
   ]
  },
  {
   "cell_type": "code",
   "execution_count": 77,
   "metadata": {
    "id": "cchnfdVG-bZ4"
   },
   "outputs": [],
   "source": [
    "lp.add_function(g_bar_reg_alt)"
   ]
  },
  {
   "cell_type": "code",
   "execution_count": 78,
   "metadata": {
    "colab": {
     "base_uri": "https://localhost:8080/"
    },
    "id": "wh_J7qXH-e6d",
    "outputId": "4b224e53-c508-44b3-d7a1-47088fd5f294"
   },
   "outputs": [
    {
     "name": "stdout",
     "output_type": "stream",
     "text": [
      "Timer unit: 1e-07 s\n",
      "\n",
      "Total time: 19.4335 s\n",
      "File: C:\\Users\\admin\\AppData\\Local\\Temp\\ipykernel_10436\\1285789462.py\n",
      "Function: cross_validate_knn at line 1\n",
      "\n",
      "Line #      Hits         Time  Per Hit   % Time  Line Contents\n",
      "==============================================================\n",
      "     1                                           def cross_validate_knn(X, y, k_values, n_folds=10):\n",
      "     2                                               \"\"\"\n",
      "     3                                               Perform k-fold cross-validation manually for KNN without using KFold.\n",
      "     4                                           \n",
      "     5                                               Parameters:\n",
      "     6                                                   X : pandas DataFrame\n",
      "     7                                                       Feature matrix.\n",
      "     8                                                   y : pandas Series or array-like\n",
      "     9                                                       Target vector.\n",
      "    10                                                   k_values : list or iterable of int\n",
      "    11                                                       List of k values (number of neighbors) to evaluate.\n",
      "    12                                                   n_folds : int, default=10\n",
      "    13                                                       Number of folds for cross-validation.\n",
      "    14                                           \n",
      "    15                                               Returns:\n",
      "    16                                                   results : dict\n",
      "    17                                                       Dictionary mapping each k value to the average accuracy over all folds.\n",
      "    18                                               \"\"\"\n",
      "    19         2        243.0    121.5      0.0      n_samples = len(X)\n",
      "    20         2      16009.0   8004.5      0.0      folds = generate_folds(n_samples, n_folds, random_state=42)\n",
      "    21         2          9.0      4.5      0.0      results = {}\n",
      "    22                                           \n",
      "    23        74        499.0      6.7      0.0      for k in k_values:\n",
      "    24        72        371.0      5.2      0.0          accuracy_scores = []\n",
      "    25                                           \n",
      "    26                                                   # Iterate over each fold as the validation set\n",
      "    27       792       3758.0      4.7      0.0          for i in range(n_folds):\n",
      "    28       720       3146.0      4.4      0.0              val_indices = folds[i]\n",
      "    29                                                       # Use all other folds as the training set\n",
      "    30      7920     106722.0     13.5      0.1              train_indices = np.concatenate([folds[j] for j in range(n_folds) if j != i])\n",
      "    31                                           \n",
      "    32       720    4309826.0   5985.9      2.2              X_train, X_val = X.iloc[train_indices], X.iloc[val_indices]\n",
      "    33       720    3340179.0   4639.1      1.7              y_train, y_val = y.iloc[train_indices], y.iloc[val_indices]\n",
      "    34                                           \n",
      "    35       720     126717.0    176.0      0.1              knn = KNeighborsClassifier(n_neighbors=k)\n",
      "    36       720   34395893.0  47772.1     17.7              knn.fit(X_train, y_train)\n",
      "    37       720  136491233.0 189571.2     70.2              y_pred = knn.predict(X_val)\n",
      "    38       720   15511580.0  21543.9      8.0              accuracy = accuracy_score(y_val, y_pred)\n",
      "    39       720       4188.0      5.8      0.0              accuracy_scores.append(accuracy)\n",
      "    40                                           \n",
      "    41        72      24533.0    340.7      0.0          results[k] = np.mean(accuracy_scores)\n",
      "    42                                           \n",
      "    43         2         27.0     13.5      0.0      return results\n",
      "\n",
      "Total time: 0 s\n",
      "File: C:\\Users\\admin\\AppData\\Local\\Temp\\ipykernel_10436\\2074931588.py\n",
      "Function: g_bar_reg_alt at line 1\n",
      "\n",
      "Line #      Hits         Time  Per Hit   % Time  Line Contents\n",
      "==============================================================\n",
      "     1                                           def g_bar_reg_alt(x):\n",
      "     2                                               return avg_m_reg_alt * x + avg_b_reg_alt\n",
      "\n",
      "Total time: 0.0008349 s\n",
      "File: C:\\Users\\admin\\AppData\\Local\\Temp\\ipykernel_10436\\2896769522.py\n",
      "Function: target_function at line 1\n",
      "\n",
      "Line #      Hits         Time  Per Hit   % Time  Line Contents\n",
      "==============================================================\n",
      "     1                                           def target_function(x):\n",
      "     2         2       8349.0   4174.5    100.0      return np.sin(np.pi * x)\n",
      "\n",
      "Total time: 0.0015668 s\n",
      "File: C:\\Users\\admin\\AppData\\Local\\Temp\\ipykernel_10436\\3549895801.py\n",
      "Function: generate_folds at line 1\n",
      "\n",
      "Line #      Hits         Time  Per Hit   % Time  Line Contents\n",
      "==============================================================\n",
      "     1                                           def generate_folds(n_samples, n_folds, random_state=42):\n",
      "     2                                               \"\"\"\n",
      "     3                                               Generate a list of index arrays for each fold.\n",
      "     4                                           \n",
      "     5                                               Parameters:\n",
      "     6                                                   n_samples : int\n",
      "     7                                                       Total number of samples in the dataset.\n",
      "     8                                                   n_folds : int\n",
      "     9                                                       Number of folds to generate.\n",
      "    10                                                   random_state : int\n",
      "    11                                                       Seed for reproducibility.\n",
      "    12                                           \n",
      "    13                                               Returns:\n",
      "    14                                                   folds : list of numpy arrays\n",
      "    15                                                       List where each element is an array of indices for that fold.\n",
      "    16                                               \"\"\"\n",
      "    17         2       8806.0   4403.0     56.2      np.random.seed(random_state)\n",
      "    18         2        361.0    180.5      2.3      indices = np.arange(n_samples)\n",
      "    19         2       5332.0   2666.0     34.0      np.random.shuffle(indices)  # Fix: Shuffle before partitioning\n",
      "    20         2        398.0    199.0      2.5      fold_sizes = np.full(n_folds, n_samples // n_folds, dtype=int)\n",
      "    21         2        300.0    150.0      1.9      fold_sizes[:n_samples % n_folds] += 1  # Distribute remainder\n",
      "    22         2          8.0      4.0      0.1      folds = []\n",
      "    23         2          6.0      3.0      0.0      current = 0\n",
      "    24        22        203.0      9.2      1.3      for fold_size in fold_sizes:\n",
      "    25        20        172.0      8.6      1.1          folds.append(indices[current:current + fold_size])\n",
      "    26        20         64.0      3.2      0.4          current += fold_size\n",
      "    27         2         18.0      9.0      0.1      return folds\n",
      "\n",
      "Total time: 4.58e-05 s\n",
      "File: C:\\Users\\admin\\AppData\\Local\\Temp\\ipykernel_10436\\4093347888.py\n",
      "Function: g_bar_unreg at line 2\n",
      "\n",
      "Line #      Hits         Time  Per Hit   % Time  Line Contents\n",
      "==============================================================\n",
      "     2                                           def g_bar_unreg(x):\n",
      "     3         2        458.0    229.0    100.0      return avg_m_unreg * x + avg_b_unreg\n",
      "\n"
     ]
    }
   ],
   "source": [
    "lp.disable()\n",
    "\n",
    "lp.print_stats()"
   ]
  },
  {
   "cell_type": "markdown",
   "metadata": {
    "id": "COhD7CxRSJWm"
   },
   "source": [
    "## Compute bias²"
   ]
  },
  {
   "cell_type": "code",
   "execution_count": 80,
   "metadata": {
    "id": "p4bvNlXIObs1"
   },
   "outputs": [],
   "source": [
    "# Compute bias²\n",
    "bias_sq_reg_alt = np.mean((g_bar_reg_alt(x_vals) - target_function(x_vals))**2)"
   ]
  },
  {
   "cell_type": "markdown",
   "metadata": {
    "id": "F2JtHr8mSLuY"
   },
   "source": [
    "## Compute variance"
   ]
  },
  {
   "cell_type": "code",
   "execution_count": 82,
   "metadata": {
    "id": "Dy4fkWz2Obvi"
   },
   "outputs": [],
   "source": [
    "variance_reg_alt = np.mean((m_reg_alt * x_vals[:, None] + b_reg_alt - g_bar_reg_alt(x_vals)[:, None])**2, axis=1)"
   ]
  },
  {
   "cell_type": "markdown",
   "metadata": {
    "id": "QQDJFfZg6RBm"
   },
   "source": [
    "## Compute total error"
   ]
  },
  {
   "cell_type": "code",
   "execution_count": 84,
   "metadata": {
    "id": "rDISgy1l6RJ7"
   },
   "outputs": [],
   "source": [
    "total_error_reg_alt = bias_sq_reg_alt + np.mean(variance_reg_alt)"
   ]
  },
  {
   "cell_type": "markdown",
   "metadata": {
    "id": "bysdneC766TH"
   },
   "source": [
    "## Unregularized Model Plot"
   ]
  },
  {
   "cell_type": "code",
   "execution_count": 86,
   "metadata": {
    "colab": {
     "base_uri": "https://localhost:8080/",
     "height": 562
    },
    "id": "VsQ9TQG219ou",
    "outputId": "259b1232-2a5d-44ca-da58-4b9ece69f3bd"
   },
   "outputs": [
    {
     "data": {
      "text/plain": [
       "<matplotlib.legend.Legend at 0x20e44133590>"
      ]
     },
     "execution_count": 86,
     "metadata": {},
     "output_type": "execute_result"
    },
    {
     "data": {
      "image/png": "[encoded data removed]",
      "text/plain": [
       "<Figure size 1200x600 with 1 Axes>"
      ]
     },
     "metadata": {},
     "output_type": "display_data"
    }
   ],
   "source": [
    "# Plot the models\n",
    "plt.figure(figsize=(12, 6))\n",
    "\n",
    "# Unregularized Model Plot\n",
    "plt.subplot(1, 2, 1)\n",
    "plt.plot(x_vals, target_function(x_vals), label=\"Target Function f(x)\", color='black', linestyle='dashed')\n",
    "plt.plot(x_vals, g_bar_unreg(x_vals), label=\"Average Hypothesis ḡ(x) (Unreg)\", color='blue')\n",
    "plt.fill_between(x_vals, g_bar_unreg(x_vals) - np.sqrt(variance_unreg), g_bar_unreg(x_vals) + np.sqrt(variance_unreg),\n",
    "                 color='blue', alpha=0.2, label=\"±√var(x)\")\n",
    "plt.title(\"Unregularized Model\")\n",
    "plt.legend()"
   ]
  },
  {
   "cell_type": "markdown",
   "metadata": {
    "id": "emODPonm68LN"
   },
   "source": [
    "## Regularized Model Plot"
   ]
  },
  {
   "cell_type": "code",
   "execution_count": 88,
   "metadata": {
    "colab": {
     "base_uri": "https://localhost:8080/",
     "height": 452
    },
    "id": "HMHrHTMbObyQ",
    "outputId": "3cd92d60-6c4b-452f-ce6f-2875f09cf4ec"
   },
   "outputs": [
    {
     "data": {
      "image/png": "[encoded data removed]",
      "text/plain": [
       "<Figure size 640x480 with 1 Axes>"
      ]
     },
     "metadata": {},
     "output_type": "display_data"
    }
   ],
   "source": [
    "# Regularized Model Plot\n",
    "plt.subplot(1, 2, 2)\n",
    "plt.plot(x_vals, target_function(x_vals), label=\"Target Function f(x)\", color='black', linestyle='dashed')\n",
    "plt.plot(x_vals, g_bar_reg_alt(x_vals), label=\"Average Hypothesis ḡ(x) (Reg - Manual)\", color='green')\n",
    "plt.fill_between(x_vals, g_bar_reg_alt(x_vals) - np.sqrt(variance_reg_alt), g_bar_reg_alt(x_vals) + np.sqrt(variance_reg_alt),\n",
    "                 color='green', alpha=0.2, label=\"±√var(x)\")\n",
    "plt.title(\"Regularized Model (Manual)\")\n",
    "plt.legend()\n",
    "\n",
    "plt.show()"
   ]
  },
  {
   "cell_type": "code",
   "execution_count": 89,
   "metadata": {
    "colab": {
     "base_uri": "https://localhost:8080/"
    },
    "id": "UTowisiuS5gQ",
    "outputId": "57cd7c5c-538e-44fd-efc0-74d8269bd9b7"
   },
   "outputs": [
    {
     "name": "stdout",
     "output_type": "stream",
     "text": [
      "Unregularized Model Results:\n",
      "Average Hypothesis: ḡ(x) = 0.78x + -0.008\n",
      "Bias^2: 0.211\n",
      "Variance: 1.671\n",
      "Total Error: 1.881\n",
      "\n",
      "Alternative Regularized Model Results:\n",
      "Average Hypothesis: ḡ(x) = 0.626x + -0.005\n",
      "Bias^2: 0.234\n",
      "Variance: 0.33\n",
      "Total Error: 0.563\n"
     ]
    }
   ],
   "source": [
    "print(\"Unregularized Model Results:\")\n",
    "print(f\"Average Hypothesis: ḡ(x) = {round(avg_m_unreg, 3)}x + {round(avg_b_unreg, 3)}\")\n",
    "print(f\"Bias^2: {round(bias_sq_unreg, 3)}\")\n",
    "print(f\"Variance: {round(np.mean(variance_unreg), 3)}\")\n",
    "print(f\"Total Error: {round(total_error_unreg, 3)}\")\n",
    "\n",
    "print(\"\\nAlternative Regularized Model Results:\")\n",
    "print(f\"Average Hypothesis: ḡ(x) = {round(avg_m_reg_alt, 3)}x + {round(avg_b_reg_alt, 3)}\")\n",
    "print(f\"Bias^2: {round(bias_sq_reg_alt, 3)}\")\n",
    "print(f\"Variance: {round(np.mean(variance_reg_alt), 3)}\")\n",
    "print(f\"Total Error: {round(total_error_reg_alt, 3)}\")"
   ]
  },
  {
   "cell_type": "markdown",
   "metadata": {
    "id": "XLRGmljkTVb2"
   },
   "source": [
    "Based on Total error, I will choose regualrized model"
   ]
  }
 ],
 "metadata": {
  "colab": {
   "provenance": []
  },
  "kernelspec": {
   "display_name": "Python 3 (ipykernel)",
   "language": "python",
   "name": "python3"
  },
  "language_info": {
   "codemirror_mode": {
    "name": "ipython",
    "version": 3
   },
   "file_extension": ".py",
   "mimetype": "text/x-python",
   "name": "python",
   "nbconvert_exporter": "python",
   "pygments_lexer": "ipython3",
   "version": "3.12.4"
  }
 },
 "nbformat": 4,
 "nbformat_minor": 4
}
