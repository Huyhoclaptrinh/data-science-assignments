{
  "nbformat": 4,
  "nbformat_minor": 0,
  "metadata": {
    "colab": {
      "provenance": []
    },
    "kernelspec": {
      "name": "python3",
      "display_name": "Python 3"
    },
    "language_info": {
      "name": "python"
    }
  },
  "cells": [
    {
      "cell_type": "code",
      "execution_count": 1,
      "metadata": {
        "id": "7iJ6xblIWRBw"
      },
      "outputs": [],
      "source": [
        "import pandas as pd\n",
        "import numpy as np\n",
        "from scipy.stats import ttest_1samp"
      ]
    },
    {
      "cell_type": "code",
      "source": [
        "college_data = pd.read_csv('collegeData.csv')\n",
        "college_data"
      ],
      "metadata": {
        "colab": {
          "base_uri": "https://localhost:8080/",
          "height": 443
        },
        "id": "RhHwaZjeWbUv",
        "outputId": "24509a20-0343-4e7c-c5c4-6326471c3c38"
      },
      "execution_count": 2,
      "outputs": [
        {
          "output_type": "execute_result",
          "data": {
            "text/plain": [
              "     SexCode MaritalCode PrevEdCode  DDVeteran  DaysEnrollToStart  AgeAtStart  \\\n",
              "0          M           M       BACH          0                 55          24   \n",
              "1          F           M       BACH          0                143          22   \n",
              "2          F           S       BACH          0                 98          30   \n",
              "3          F          UN       BACH          0                101          24   \n",
              "4          M         NaN   SOMECOLL          0                 61          19   \n",
              "...      ...         ...        ...        ...                ...         ...   \n",
              "2779       F          UN   SOMECOLL          0                101          26   \n",
              "2780       F           S         HS          0                109          23   \n",
              "2781       M           S   SOMECOLL          0                103          22   \n",
              "2782       F          UN   SOMECOLL          0                 47          26   \n",
              "2783       F         NaN   SOMECOLL          0                 82          41   \n",
              "\n",
              "      AgeAtGrad   GPA  MinutesAttended  HoursAttempt  HoursEarned  HoursReq  \\\n",
              "0            27  3.22           145953        2925.0       2550.0      2565   \n",
              "1            25  3.02           129045        2640.0       2565.0      2565   \n",
              "2            33  3.47           111385        2559.0       2514.0      2565   \n",
              "3            27  3.19           135401        2520.0       2520.0      2565   \n",
              "4            22  3.84           115660        2520.0       2520.0      2565   \n",
              "...         ...   ...              ...           ...          ...       ...   \n",
              "2779         29  3.11           117301        2325.0       2295.0      2250   \n",
              "2780         25  2.50            99735        1890.0       1620.0      2565   \n",
              "2781         23  3.30           165378        3135.0       2460.0         0   \n",
              "2782         28  3.19            31915         840.0        690.0      2415   \n",
              "2783         43  3.48           102338        2250.0       2250.0      2250   \n",
              "\n",
              "      MinutesAbsent  TransferCredits  TransferGPA  MinEFC  \\\n",
              "0              3475            19.00         2.55     0.0   \n",
              "1             11840            12.00          NaN     0.0   \n",
              "2               935            37.67         2.84     0.0   \n",
              "3              4549             6.00          NaN     0.0   \n",
              "4              1340            22.00          NaN  3141.0   \n",
              "...             ...              ...          ...     ...   \n",
              "2779           9619            10.00          NaN     0.0   \n",
              "2780          13950              NaN          NaN  5562.0   \n",
              "2781           6042              NaN          NaN     0.0   \n",
              "2782           4995            26.00          NaN  5772.0   \n",
              "2783           3637            38.00         2.92  1024.0   \n",
              "\n",
              "      MaxENTEntranceScore  gradFlag  \n",
              "0                   81.00         1  \n",
              "1                   89.50         1  \n",
              "2                     NaN         1  \n",
              "3                   87.50         1  \n",
              "4                     NaN         1  \n",
              "...                   ...       ...  \n",
              "2779                86.00         1  \n",
              "2780                80.87         0  \n",
              "2781                91.91         1  \n",
              "2782                84.50         0  \n",
              "2783                85.50         1  \n",
              "\n",
              "[2784 rows x 18 columns]"
            ],
            "text/html": [
              "\n",
              "  <div id=\"df-fac3f2d6-6a5c-43e3-8387-dbbaad5e6696\" class=\"colab-df-container\">\n",
              "    <div>\n",
              "<style scoped>\n",
              "    .dataframe tbody tr th:only-of-type {\n",
              "        vertical-align: middle;\n",
              "    }\n",
              "\n",
              "    .dataframe tbody tr th {\n",
              "        vertical-align: top;\n",
              "    }\n",
              "\n",
              "    .dataframe thead th {\n",
              "        text-align: right;\n",
              "    }\n",
              "</style>\n",
              "<table border=\"1\" class=\"dataframe\">\n",
              "  <thead>\n",
              "    <tr style=\"text-align: right;\">\n",
              "      <th></th>\n",
              "      <th>SexCode</th>\n",
              "      <th>MaritalCode</th>\n",
              "      <th>PrevEdCode</th>\n",
              "      <th>DDVeteran</th>\n",
              "      <th>DaysEnrollToStart</th>\n",
              "      <th>AgeAtStart</th>\n",
              "      <th>AgeAtGrad</th>\n",
              "      <th>GPA</th>\n",
              "      <th>MinutesAttended</th>\n",
              "      <th>HoursAttempt</th>\n",
              "      <th>HoursEarned</th>\n",
              "      <th>HoursReq</th>\n",
              "      <th>MinutesAbsent</th>\n",
              "      <th>TransferCredits</th>\n",
              "      <th>TransferGPA</th>\n",
              "      <th>MinEFC</th>\n",
              "      <th>MaxENTEntranceScore</th>\n",
              "      <th>gradFlag</th>\n",
              "    </tr>\n",
              "  </thead>\n",
              "  <tbody>\n",
              "    <tr>\n",
              "      <th>0</th>\n",
              "      <td>M</td>\n",
              "      <td>M</td>\n",
              "      <td>BACH</td>\n",
              "      <td>0</td>\n",
              "      <td>55</td>\n",
              "      <td>24</td>\n",
              "      <td>27</td>\n",
              "      <td>3.22</td>\n",
              "      <td>145953</td>\n",
              "      <td>2925.0</td>\n",
              "      <td>2550.0</td>\n",
              "      <td>2565</td>\n",
              "      <td>3475</td>\n",
              "      <td>19.00</td>\n",
              "      <td>2.55</td>\n",
              "      <td>0.0</td>\n",
              "      <td>81.00</td>\n",
              "      <td>1</td>\n",
              "    </tr>\n",
              "    <tr>\n",
              "      <th>1</th>\n",
              "      <td>F</td>\n",
              "      <td>M</td>\n",
              "      <td>BACH</td>\n",
              "      <td>0</td>\n",
              "      <td>143</td>\n",
              "      <td>22</td>\n",
              "      <td>25</td>\n",
              "      <td>3.02</td>\n",
              "      <td>129045</td>\n",
              "      <td>2640.0</td>\n",
              "      <td>2565.0</td>\n",
              "      <td>2565</td>\n",
              "      <td>11840</td>\n",
              "      <td>12.00</td>\n",
              "      <td>NaN</td>\n",
              "      <td>0.0</td>\n",
              "      <td>89.50</td>\n",
              "      <td>1</td>\n",
              "    </tr>\n",
              "    <tr>\n",
              "      <th>2</th>\n",
              "      <td>F</td>\n",
              "      <td>S</td>\n",
              "      <td>BACH</td>\n",
              "      <td>0</td>\n",
              "      <td>98</td>\n",
              "      <td>30</td>\n",
              "      <td>33</td>\n",
              "      <td>3.47</td>\n",
              "      <td>111385</td>\n",
              "      <td>2559.0</td>\n",
              "      <td>2514.0</td>\n",
              "      <td>2565</td>\n",
              "      <td>935</td>\n",
              "      <td>37.67</td>\n",
              "      <td>2.84</td>\n",
              "      <td>0.0</td>\n",
              "      <td>NaN</td>\n",
              "      <td>1</td>\n",
              "    </tr>\n",
              "    <tr>\n",
              "      <th>3</th>\n",
              "      <td>F</td>\n",
              "      <td>UN</td>\n",
              "      <td>BACH</td>\n",
              "      <td>0</td>\n",
              "      <td>101</td>\n",
              "      <td>24</td>\n",
              "      <td>27</td>\n",
              "      <td>3.19</td>\n",
              "      <td>135401</td>\n",
              "      <td>2520.0</td>\n",
              "      <td>2520.0</td>\n",
              "      <td>2565</td>\n",
              "      <td>4549</td>\n",
              "      <td>6.00</td>\n",
              "      <td>NaN</td>\n",
              "      <td>0.0</td>\n",
              "      <td>87.50</td>\n",
              "      <td>1</td>\n",
              "    </tr>\n",
              "    <tr>\n",
              "      <th>4</th>\n",
              "      <td>M</td>\n",
              "      <td>NaN</td>\n",
              "      <td>SOMECOLL</td>\n",
              "      <td>0</td>\n",
              "      <td>61</td>\n",
              "      <td>19</td>\n",
              "      <td>22</td>\n",
              "      <td>3.84</td>\n",
              "      <td>115660</td>\n",
              "      <td>2520.0</td>\n",
              "      <td>2520.0</td>\n",
              "      <td>2565</td>\n",
              "      <td>1340</td>\n",
              "      <td>22.00</td>\n",
              "      <td>NaN</td>\n",
              "      <td>3141.0</td>\n",
              "      <td>NaN</td>\n",
              "      <td>1</td>\n",
              "    </tr>\n",
              "    <tr>\n",
              "      <th>...</th>\n",
              "      <td>...</td>\n",
              "      <td>...</td>\n",
              "      <td>...</td>\n",
              "      <td>...</td>\n",
              "      <td>...</td>\n",
              "      <td>...</td>\n",
              "      <td>...</td>\n",
              "      <td>...</td>\n",
              "      <td>...</td>\n",
              "      <td>...</td>\n",
              "      <td>...</td>\n",
              "      <td>...</td>\n",
              "      <td>...</td>\n",
              "      <td>...</td>\n",
              "      <td>...</td>\n",
              "      <td>...</td>\n",
              "      <td>...</td>\n",
              "      <td>...</td>\n",
              "    </tr>\n",
              "    <tr>\n",
              "      <th>2779</th>\n",
              "      <td>F</td>\n",
              "      <td>UN</td>\n",
              "      <td>SOMECOLL</td>\n",
              "      <td>0</td>\n",
              "      <td>101</td>\n",
              "      <td>26</td>\n",
              "      <td>29</td>\n",
              "      <td>3.11</td>\n",
              "      <td>117301</td>\n",
              "      <td>2325.0</td>\n",
              "      <td>2295.0</td>\n",
              "      <td>2250</td>\n",
              "      <td>9619</td>\n",
              "      <td>10.00</td>\n",
              "      <td>NaN</td>\n",
              "      <td>0.0</td>\n",
              "      <td>86.00</td>\n",
              "      <td>1</td>\n",
              "    </tr>\n",
              "    <tr>\n",
              "      <th>2780</th>\n",
              "      <td>F</td>\n",
              "      <td>S</td>\n",
              "      <td>HS</td>\n",
              "      <td>0</td>\n",
              "      <td>109</td>\n",
              "      <td>23</td>\n",
              "      <td>25</td>\n",
              "      <td>2.50</td>\n",
              "      <td>99735</td>\n",
              "      <td>1890.0</td>\n",
              "      <td>1620.0</td>\n",
              "      <td>2565</td>\n",
              "      <td>13950</td>\n",
              "      <td>NaN</td>\n",
              "      <td>NaN</td>\n",
              "      <td>5562.0</td>\n",
              "      <td>80.87</td>\n",
              "      <td>0</td>\n",
              "    </tr>\n",
              "    <tr>\n",
              "      <th>2781</th>\n",
              "      <td>M</td>\n",
              "      <td>S</td>\n",
              "      <td>SOMECOLL</td>\n",
              "      <td>0</td>\n",
              "      <td>103</td>\n",
              "      <td>22</td>\n",
              "      <td>23</td>\n",
              "      <td>3.30</td>\n",
              "      <td>165378</td>\n",
              "      <td>3135.0</td>\n",
              "      <td>2460.0</td>\n",
              "      <td>0</td>\n",
              "      <td>6042</td>\n",
              "      <td>NaN</td>\n",
              "      <td>NaN</td>\n",
              "      <td>0.0</td>\n",
              "      <td>91.91</td>\n",
              "      <td>1</td>\n",
              "    </tr>\n",
              "    <tr>\n",
              "      <th>2782</th>\n",
              "      <td>F</td>\n",
              "      <td>UN</td>\n",
              "      <td>SOMECOLL</td>\n",
              "      <td>0</td>\n",
              "      <td>47</td>\n",
              "      <td>26</td>\n",
              "      <td>28</td>\n",
              "      <td>3.19</td>\n",
              "      <td>31915</td>\n",
              "      <td>840.0</td>\n",
              "      <td>690.0</td>\n",
              "      <td>2415</td>\n",
              "      <td>4995</td>\n",
              "      <td>26.00</td>\n",
              "      <td>NaN</td>\n",
              "      <td>5772.0</td>\n",
              "      <td>84.50</td>\n",
              "      <td>0</td>\n",
              "    </tr>\n",
              "    <tr>\n",
              "      <th>2783</th>\n",
              "      <td>F</td>\n",
              "      <td>NaN</td>\n",
              "      <td>SOMECOLL</td>\n",
              "      <td>0</td>\n",
              "      <td>82</td>\n",
              "      <td>41</td>\n",
              "      <td>43</td>\n",
              "      <td>3.48</td>\n",
              "      <td>102338</td>\n",
              "      <td>2250.0</td>\n",
              "      <td>2250.0</td>\n",
              "      <td>2250</td>\n",
              "      <td>3637</td>\n",
              "      <td>38.00</td>\n",
              "      <td>2.92</td>\n",
              "      <td>1024.0</td>\n",
              "      <td>85.50</td>\n",
              "      <td>1</td>\n",
              "    </tr>\n",
              "  </tbody>\n",
              "</table>\n",
              "<p>2784 rows × 18 columns</p>\n",
              "</div>\n",
              "    <div class=\"colab-df-buttons\">\n",
              "\n",
              "  <div class=\"colab-df-container\">\n",
              "    <button class=\"colab-df-convert\" onclick=\"convertToInteractive('df-fac3f2d6-6a5c-43e3-8387-dbbaad5e6696')\"\n",
              "            title=\"Convert this dataframe to an interactive table.\"\n",
              "            style=\"display:none;\">\n",
              "\n",
              "  <svg xmlns=\"http://www.w3.org/2000/svg\" height=\"24px\" viewBox=\"0 -960 960 960\">\n",
              "    <path d=\"M120-120v-720h720v720H120Zm60-500h600v-160H180v160Zm220 220h160v-160H400v160Zm0 220h160v-160H400v160ZM180-400h160v-160H180v160Zm440 0h160v-160H620v160ZM180-180h160v-160H180v160Zm440 0h160v-160H620v160Z\"/>\n",
              "  </svg>\n",
              "    </button>\n",
              "\n",
              "  <style>\n",
              "    .colab-df-container {\n",
              "      display:flex;\n",
              "      gap: 12px;\n",
              "    }\n",
              "\n",
              "    .colab-df-convert {\n",
              "      background-color: #E8F0FE;\n",
              "      border: none;\n",
              "      border-radius: 50%;\n",
              "      cursor: pointer;\n",
              "      display: none;\n",
              "      fill: #1967D2;\n",
              "      height: 32px;\n",
              "      padding: 0 0 0 0;\n",
              "      width: 32px;\n",
              "    }\n",
              "\n",
              "    .colab-df-convert:hover {\n",
              "      background-color: #E2EBFA;\n",
              "      box-shadow: 0px 1px 2px rgba(60, 64, 67, 0.3), 0px 1px 3px 1px rgba(60, 64, 67, 0.15);\n",
              "      fill: #174EA6;\n",
              "    }\n",
              "\n",
              "    .colab-df-buttons div {\n",
              "      margin-bottom: 4px;\n",
              "    }\n",
              "\n",
              "    [theme=dark] .colab-df-convert {\n",
              "      background-color: #3B4455;\n",
              "      fill: #D2E3FC;\n",
              "    }\n",
              "\n",
              "    [theme=dark] .colab-df-convert:hover {\n",
              "      background-color: #434B5C;\n",
              "      box-shadow: 0px 1px 3px 1px rgba(0, 0, 0, 0.15);\n",
              "      filter: drop-shadow(0px 1px 2px rgba(0, 0, 0, 0.3));\n",
              "      fill: #FFFFFF;\n",
              "    }\n",
              "  </style>\n",
              "\n",
              "    <script>\n",
              "      const buttonEl =\n",
              "        document.querySelector('#df-fac3f2d6-6a5c-43e3-8387-dbbaad5e6696 button.colab-df-convert');\n",
              "      buttonEl.style.display =\n",
              "        google.colab.kernel.accessAllowed ? 'block' : 'none';\n",
              "\n",
              "      async function convertToInteractive(key) {\n",
              "        const element = document.querySelector('#df-fac3f2d6-6a5c-43e3-8387-dbbaad5e6696');\n",
              "        const dataTable =\n",
              "          await google.colab.kernel.invokeFunction('convertToInteractive',\n",
              "                                                    [key], {});\n",
              "        if (!dataTable) return;\n",
              "\n",
              "        const docLinkHtml = 'Like what you see? Visit the ' +\n",
              "          '<a target=\"_blank\" href=https://colab.research.google.com/notebooks/data_table.ipynb>data table notebook</a>'\n",
              "          + ' to learn more about interactive tables.';\n",
              "        element.innerHTML = '';\n",
              "        dataTable['output_type'] = 'display_data';\n",
              "        await google.colab.output.renderOutput(dataTable, element);\n",
              "        const docLink = document.createElement('div');\n",
              "        docLink.innerHTML = docLinkHtml;\n",
              "        element.appendChild(docLink);\n",
              "      }\n",
              "    </script>\n",
              "  </div>\n",
              "\n",
              "\n",
              "<div id=\"df-696ba4e8-0bf3-4906-875a-2b9ef439ff5d\">\n",
              "  <button class=\"colab-df-quickchart\" onclick=\"quickchart('df-696ba4e8-0bf3-4906-875a-2b9ef439ff5d')\"\n",
              "            title=\"Suggest charts\"\n",
              "            style=\"display:none;\">\n",
              "\n",
              "<svg xmlns=\"http://www.w3.org/2000/svg\" height=\"24px\"viewBox=\"0 0 24 24\"\n",
              "     width=\"24px\">\n",
              "    <g>\n",
              "        <path d=\"M19 3H5c-1.1 0-2 .9-2 2v14c0 1.1.9 2 2 2h14c1.1 0 2-.9 2-2V5c0-1.1-.9-2-2-2zM9 17H7v-7h2v7zm4 0h-2V7h2v10zm4 0h-2v-4h2v4z\"/>\n",
              "    </g>\n",
              "</svg>\n",
              "  </button>\n",
              "\n",
              "<style>\n",
              "  .colab-df-quickchart {\n",
              "      --bg-color: #E8F0FE;\n",
              "      --fill-color: #1967D2;\n",
              "      --hover-bg-color: #E2EBFA;\n",
              "      --hover-fill-color: #174EA6;\n",
              "      --disabled-fill-color: #AAA;\n",
              "      --disabled-bg-color: #DDD;\n",
              "  }\n",
              "\n",
              "  [theme=dark] .colab-df-quickchart {\n",
              "      --bg-color: #3B4455;\n",
              "      --fill-color: #D2E3FC;\n",
              "      --hover-bg-color: #434B5C;\n",
              "      --hover-fill-color: #FFFFFF;\n",
              "      --disabled-bg-color: #3B4455;\n",
              "      --disabled-fill-color: #666;\n",
              "  }\n",
              "\n",
              "  .colab-df-quickchart {\n",
              "    background-color: var(--bg-color);\n",
              "    border: none;\n",
              "    border-radius: 50%;\n",
              "    cursor: pointer;\n",
              "    display: none;\n",
              "    fill: var(--fill-color);\n",
              "    height: 32px;\n",
              "    padding: 0;\n",
              "    width: 32px;\n",
              "  }\n",
              "\n",
              "  .colab-df-quickchart:hover {\n",
              "    background-color: var(--hover-bg-color);\n",
              "    box-shadow: 0 1px 2px rgba(60, 64, 67, 0.3), 0 1px 3px 1px rgba(60, 64, 67, 0.15);\n",
              "    fill: var(--button-hover-fill-color);\n",
              "  }\n",
              "\n",
              "  .colab-df-quickchart-complete:disabled,\n",
              "  .colab-df-quickchart-complete:disabled:hover {\n",
              "    background-color: var(--disabled-bg-color);\n",
              "    fill: var(--disabled-fill-color);\n",
              "    box-shadow: none;\n",
              "  }\n",
              "\n",
              "  .colab-df-spinner {\n",
              "    border: 2px solid var(--fill-color);\n",
              "    border-color: transparent;\n",
              "    border-bottom-color: var(--fill-color);\n",
              "    animation:\n",
              "      spin 1s steps(1) infinite;\n",
              "  }\n",
              "\n",
              "  @keyframes spin {\n",
              "    0% {\n",
              "      border-color: transparent;\n",
              "      border-bottom-color: var(--fill-color);\n",
              "      border-left-color: var(--fill-color);\n",
              "    }\n",
              "    20% {\n",
              "      border-color: transparent;\n",
              "      border-left-color: var(--fill-color);\n",
              "      border-top-color: var(--fill-color);\n",
              "    }\n",
              "    30% {\n",
              "      border-color: transparent;\n",
              "      border-left-color: var(--fill-color);\n",
              "      border-top-color: var(--fill-color);\n",
              "      border-right-color: var(--fill-color);\n",
              "    }\n",
              "    40% {\n",
              "      border-color: transparent;\n",
              "      border-right-color: var(--fill-color);\n",
              "      border-top-color: var(--fill-color);\n",
              "    }\n",
              "    60% {\n",
              "      border-color: transparent;\n",
              "      border-right-color: var(--fill-color);\n",
              "    }\n",
              "    80% {\n",
              "      border-color: transparent;\n",
              "      border-right-color: var(--fill-color);\n",
              "      border-bottom-color: var(--fill-color);\n",
              "    }\n",
              "    90% {\n",
              "      border-color: transparent;\n",
              "      border-bottom-color: var(--fill-color);\n",
              "    }\n",
              "  }\n",
              "</style>\n",
              "\n",
              "  <script>\n",
              "    async function quickchart(key) {\n",
              "      const quickchartButtonEl =\n",
              "        document.querySelector('#' + key + ' button');\n",
              "      quickchartButtonEl.disabled = true;  // To prevent multiple clicks.\n",
              "      quickchartButtonEl.classList.add('colab-df-spinner');\n",
              "      try {\n",
              "        const charts = await google.colab.kernel.invokeFunction(\n",
              "            'suggestCharts', [key], {});\n",
              "      } catch (error) {\n",
              "        console.error('Error during call to suggestCharts:', error);\n",
              "      }\n",
              "      quickchartButtonEl.classList.remove('colab-df-spinner');\n",
              "      quickchartButtonEl.classList.add('colab-df-quickchart-complete');\n",
              "    }\n",
              "    (() => {\n",
              "      let quickchartButtonEl =\n",
              "        document.querySelector('#df-696ba4e8-0bf3-4906-875a-2b9ef439ff5d button');\n",
              "      quickchartButtonEl.style.display =\n",
              "        google.colab.kernel.accessAllowed ? 'block' : 'none';\n",
              "    })();\n",
              "  </script>\n",
              "</div>\n",
              "\n",
              "  <div id=\"id_e646be6f-d126-421f-98f7-a69cf9ad2db6\">\n",
              "    <style>\n",
              "      .colab-df-generate {\n",
              "        background-color: #E8F0FE;\n",
              "        border: none;\n",
              "        border-radius: 50%;\n",
              "        cursor: pointer;\n",
              "        display: none;\n",
              "        fill: #1967D2;\n",
              "        height: 32px;\n",
              "        padding: 0 0 0 0;\n",
              "        width: 32px;\n",
              "      }\n",
              "\n",
              "      .colab-df-generate:hover {\n",
              "        background-color: #E2EBFA;\n",
              "        box-shadow: 0px 1px 2px rgba(60, 64, 67, 0.3), 0px 1px 3px 1px rgba(60, 64, 67, 0.15);\n",
              "        fill: #174EA6;\n",
              "      }\n",
              "\n",
              "      [theme=dark] .colab-df-generate {\n",
              "        background-color: #3B4455;\n",
              "        fill: #D2E3FC;\n",
              "      }\n",
              "\n",
              "      [theme=dark] .colab-df-generate:hover {\n",
              "        background-color: #434B5C;\n",
              "        box-shadow: 0px 1px 3px 1px rgba(0, 0, 0, 0.15);\n",
              "        filter: drop-shadow(0px 1px 2px rgba(0, 0, 0, 0.3));\n",
              "        fill: #FFFFFF;\n",
              "      }\n",
              "    </style>\n",
              "    <button class=\"colab-df-generate\" onclick=\"generateWithVariable('college_data')\"\n",
              "            title=\"Generate code using this dataframe.\"\n",
              "            style=\"display:none;\">\n",
              "\n",
              "  <svg xmlns=\"http://www.w3.org/2000/svg\" height=\"24px\"viewBox=\"0 0 24 24\"\n",
              "       width=\"24px\">\n",
              "    <path d=\"M7,19H8.4L18.45,9,17,7.55,7,17.6ZM5,21V16.75L18.45,3.32a2,2,0,0,1,2.83,0l1.4,1.43a1.91,1.91,0,0,1,.58,1.4,1.91,1.91,0,0,1-.58,1.4L9.25,21ZM18.45,9,17,7.55Zm-12,3A5.31,5.31,0,0,0,4.9,8.1,5.31,5.31,0,0,0,1,6.5,5.31,5.31,0,0,0,4.9,4.9,5.31,5.31,0,0,0,6.5,1,5.31,5.31,0,0,0,8.1,4.9,5.31,5.31,0,0,0,12,6.5,5.46,5.46,0,0,0,6.5,12Z\"/>\n",
              "  </svg>\n",
              "    </button>\n",
              "    <script>\n",
              "      (() => {\n",
              "      const buttonEl =\n",
              "        document.querySelector('#id_e646be6f-d126-421f-98f7-a69cf9ad2db6 button.colab-df-generate');\n",
              "      buttonEl.style.display =\n",
              "        google.colab.kernel.accessAllowed ? 'block' : 'none';\n",
              "\n",
              "      buttonEl.onclick = () => {\n",
              "        google.colab.notebook.generateWithVariable('college_data');\n",
              "      }\n",
              "      })();\n",
              "    </script>\n",
              "  </div>\n",
              "\n",
              "    </div>\n",
              "  </div>\n"
            ],
            "application/vnd.google.colaboratory.intrinsic+json": {
              "type": "dataframe",
              "variable_name": "college_data",
              "summary": "{\n  \"name\": \"college_data\",\n  \"rows\": 2784,\n  \"fields\": [\n    {\n      \"column\": \"SexCode\",\n      \"properties\": {\n        \"dtype\": \"category\",\n        \"num_unique_values\": 2,\n        \"samples\": [\n          \"F\",\n          \"M\"\n        ],\n        \"semantic_type\": \"\",\n        \"description\": \"\"\n      }\n    },\n    {\n      \"column\": \"MaritalCode\",\n      \"properties\": {\n        \"dtype\": \"category\",\n        \"num_unique_values\": 5,\n        \"samples\": [\n          \"S\",\n          \"P\"\n        ],\n        \"semantic_type\": \"\",\n        \"description\": \"\"\n      }\n    },\n    {\n      \"column\": \"PrevEdCode\",\n      \"properties\": {\n        \"dtype\": \"category\",\n        \"num_unique_values\": 8,\n        \"samples\": [\n          \"SOMECOLL\",\n          \"MAST\"\n        ],\n        \"semantic_type\": \"\",\n        \"description\": \"\"\n      }\n    },\n    {\n      \"column\": \"DDVeteran\",\n      \"properties\": {\n        \"dtype\": \"number\",\n        \"std\": 0,\n        \"min\": 0,\n        \"max\": 1,\n        \"num_unique_values\": 2,\n        \"samples\": [\n          1,\n          0\n        ],\n        \"semantic_type\": \"\",\n        \"description\": \"\"\n      }\n    },\n    {\n      \"column\": \"DaysEnrollToStart\",\n      \"properties\": {\n        \"dtype\": \"number\",\n        \"std\": 44,\n        \"min\": 0,\n        \"max\": 580,\n        \"num_unique_values\": 170,\n        \"samples\": [\n          44,\n          119\n        ],\n        \"semantic_type\": \"\",\n        \"description\": \"\"\n      }\n    },\n    {\n      \"column\": \"AgeAtStart\",\n      \"properties\": {\n        \"dtype\": \"number\",\n        \"std\": 6,\n        \"min\": 16,\n        \"max\": 57,\n        \"num_unique_values\": 40,\n        \"samples\": [\n          29,\n          32\n        ],\n        \"semantic_type\": \"\",\n        \"description\": \"\"\n      }\n    },\n    {\n      \"column\": \"AgeAtGrad\",\n      \"properties\": {\n        \"dtype\": \"number\",\n        \"std\": 5,\n        \"min\": 19,\n        \"max\": 60,\n        \"num_unique_values\": 39,\n        \"samples\": [\n          60,\n          54\n        ],\n        \"semantic_type\": \"\",\n        \"description\": \"\"\n      }\n    },\n    {\n      \"column\": \"GPA\",\n      \"properties\": {\n        \"dtype\": \"number\",\n        \"std\": 0.7721949745554618,\n        \"min\": 0.0,\n        \"max\": 4.0,\n        \"num_unique_values\": 278,\n        \"samples\": [\n          3.2,\n          3.39\n        ],\n        \"semantic_type\": \"\",\n        \"description\": \"\"\n      }\n    },\n    {\n      \"column\": \"MinutesAttended\",\n      \"properties\": {\n        \"dtype\": \"number\",\n        \"std\": 43139,\n        \"min\": 600,\n        \"max\": 181870,\n        \"num_unique_values\": 2684,\n        \"samples\": [\n          97660,\n          37795\n        ],\n        \"semantic_type\": \"\",\n        \"description\": \"\"\n      }\n    },\n    {\n      \"column\": \"HoursAttempt\",\n      \"properties\": {\n        \"dtype\": \"number\",\n        \"std\": 806.1050224507703,\n        \"min\": 0.0,\n        \"max\": 3390.0,\n        \"num_unique_values\": 397,\n        \"samples\": [\n          1545.0,\n          1164.0\n        ],\n        \"semantic_type\": \"\",\n        \"description\": \"\"\n      }\n    },\n    {\n      \"column\": \"HoursEarned\",\n      \"properties\": {\n        \"dtype\": \"number\",\n        \"std\": 842.358187274616,\n        \"min\": 0.0,\n        \"max\": 2850.0,\n        \"num_unique_values\": 269,\n        \"samples\": [\n          1425.0,\n          486.0\n        ],\n        \"semantic_type\": \"\",\n        \"description\": \"\"\n      }\n    },\n    {\n      \"column\": \"HoursReq\",\n      \"properties\": {\n        \"dtype\": \"number\",\n        \"std\": 525,\n        \"min\": 0,\n        \"max\": 2565,\n        \"num_unique_values\": 4,\n        \"samples\": [\n          2250,\n          2415\n        ],\n        \"semantic_type\": \"\",\n        \"description\": \"\"\n      }\n    },\n    {\n      \"column\": \"MinutesAbsent\",\n      \"properties\": {\n        \"dtype\": \"number\",\n        \"std\": 2897,\n        \"min\": 0,\n        \"max\": 21621,\n        \"num_unique_values\": 1956,\n        \"samples\": [\n          7670,\n          4310\n        ],\n        \"semantic_type\": \"\",\n        \"description\": \"\"\n      }\n    },\n    {\n      \"column\": \"TransferCredits\",\n      \"properties\": {\n        \"dtype\": \"number\",\n        \"std\": 12.286023068433769,\n        \"min\": 3.0,\n        \"max\": 64.0,\n        \"num_unique_values\": 217,\n        \"samples\": [\n          41.01,\n          32.01\n        ],\n        \"semantic_type\": \"\",\n        \"description\": \"\"\n      }\n    },\n    {\n      \"column\": \"TransferGPA\",\n      \"properties\": {\n        \"dtype\": \"number\",\n        \"std\": 0.46490209570899743,\n        \"min\": 0.35,\n        \"max\": 4.0,\n        \"num_unique_values\": 217,\n        \"samples\": [\n          3.6,\n          2.16\n        ],\n        \"semantic_type\": \"\",\n        \"description\": \"\"\n      }\n    },\n    {\n      \"column\": \"MinEFC\",\n      \"properties\": {\n        \"dtype\": \"number\",\n        \"std\": 23005.982034899353,\n        \"min\": 0.0,\n        \"max\": 999999.0,\n        \"num_unique_values\": 805,\n        \"samples\": [\n          7979.0,\n          488.0\n        ],\n        \"semantic_type\": \"\",\n        \"description\": \"\"\n      }\n    },\n    {\n      \"column\": \"MaxENTEntranceScore\",\n      \"properties\": {\n        \"dtype\": \"number\",\n        \"std\": 216.7466795368721,\n        \"min\": 58.5,\n        \"max\": 9124.0,\n        \"num_unique_values\": 202,\n        \"samples\": [\n          84.2,\n          81.43\n        ],\n        \"semantic_type\": \"\",\n        \"description\": \"\"\n      }\n    },\n    {\n      \"column\": \"gradFlag\",\n      \"properties\": {\n        \"dtype\": \"number\",\n        \"std\": 0,\n        \"min\": 0,\n        \"max\": 1,\n        \"num_unique_values\": 2,\n        \"samples\": [\n          0,\n          1\n        ],\n        \"semantic_type\": \"\",\n        \"description\": \"\"\n      }\n    }\n  ]\n}"
            }
          },
          "metadata": {},
          "execution_count": 2
        }
      ]
    },
    {
      "cell_type": "code",
      "source": [
        "dropouts = college_data[college_data['gradFlag'] == 0]\n",
        "graduates = college_data[college_data['gradFlag'] == 1]"
      ],
      "metadata": {
        "id": "KaXJMrzdWxcZ"
      },
      "execution_count": 3,
      "outputs": []
    },
    {
      "cell_type": "markdown",
      "source": [
        "### Research Question 1: Do students who drop out tend to have lower transferred GPA compared to those who graduate?"
      ],
      "metadata": {
        "id": "h2-Iyjhabmh5"
      }
    },
    {
      "cell_type": "markdown",
      "source": [
        "#### a) For students who do not graduate: The average transfer GPA is less than 2.75.\n",
        "\n"
      ],
      "metadata": {
        "id": "EsxcUbCtbyIh"
      }
    },
    {
      "cell_type": "markdown",
      "source": [
        "Ho​: The average transfer GPA = 2.75\n",
        "\n",
        "Ha: The average transfer GPA < 2.75"
      ],
      "metadata": {
        "id": "r14se6z8cibo"
      }
    },
    {
      "cell_type": "code",
      "source": [
        "dropouts_transfer_gpa = dropouts['TransferGPA'].dropna()\n",
        "test_stat_dropout, p_value_dropout = ttest_1samp(dropouts_transfer_gpa, 2.75, alternative='less')"
      ],
      "metadata": {
        "id": "K3aknSufZL1-"
      },
      "execution_count": 4,
      "outputs": []
    },
    {
      "cell_type": "code",
      "source": [
        "print(f\"Test Statistic For Dropout Students: {test_stat_dropout}\")\n",
        "print(f\"P-value For Dropout Students: {p_value_dropout}\")"
      ],
      "metadata": {
        "colab": {
          "base_uri": "https://localhost:8080/"
        },
        "id": "_ajtf3F8bW93",
        "outputId": "b282e01c-992e-4db7-8128-f33dee3c29df"
      },
      "execution_count": 5,
      "outputs": [
        {
          "output_type": "stream",
          "name": "stdout",
          "text": [
            "Test Statistic For Dropout Students: -2.2076632896626656\n",
            "P-value For Dropout Students: 0.013896284659651276\n"
          ]
        }
      ]
    },
    {
      "cell_type": "markdown",
      "source": [
        "Since the p-value (0.0139) is less than the 5% significance level, we reject the null hypothesis. This suggests that, for students who did not graduate, the average transfer GPA is indeed less than 2.75."
      ],
      "metadata": {
        "id": "BNgxGIEgb0zW"
      }
    },
    {
      "cell_type": "markdown",
      "source": [
        "#### b) For students who graduate: The average transfer GPA is greater than 2.8."
      ],
      "metadata": {
        "id": "-wQYph7Wb08G"
      }
    },
    {
      "cell_type": "markdown",
      "source": [
        "Ho​: The average transfer GPA = 2.8\n",
        "\n",
        "Ha: The average transfer GPA > 2.8"
      ],
      "metadata": {
        "id": "pcDHtnVNc1i7"
      }
    },
    {
      "cell_type": "code",
      "source": [
        "graduates_transfer_gpa = graduates['TransferGPA'].dropna()\n",
        "test_stat_graduate, p_value_graduate = ttest_1samp(graduates_transfer_gpa, 2.8, alternative='greater')"
      ],
      "metadata": {
        "id": "MLjf21SQbeTX"
      },
      "execution_count": 6,
      "outputs": []
    },
    {
      "cell_type": "code",
      "source": [
        "print(f\"Test Statistic For Graduate Students: {test_stat_graduate}\")\n",
        "print(f\"P-value For Graduate Students: {p_value_graduate}\")"
      ],
      "metadata": {
        "colab": {
          "base_uri": "https://localhost:8080/"
        },
        "id": "4gWpCSkxbiLo",
        "outputId": "63e524c9-7bb0-4748-aca9-68b6d5d9b642"
      },
      "execution_count": 7,
      "outputs": [
        {
          "output_type": "stream",
          "name": "stdout",
          "text": [
            "Test Statistic For Graduate Students: 7.269468232482056\n",
            "P-value For Graduate Students: 3.484567369010292e-13\n"
          ]
        }
      ]
    },
    {
      "cell_type": "markdown",
      "source": [
        "The p-value is extremely low, well below the 5% significance level, so we reject the null hypothesis. This indicates that, for students who graduated, the average transfer GPA is significantly greater than 2.8."
      ],
      "metadata": {
        "id": "itXM-zpZdzSs"
      }
    },
    {
      "cell_type": "markdown",
      "source": [
        "### Research Question 2: Do students who drop out tend to have a shorter time gap between enrollment and the start of the semester compared to those who graduate?"
      ],
      "metadata": {
        "id": "EEtrzuFxdTwg"
      }
    },
    {
      "cell_type": "markdown",
      "source": [
        "#### a) For students who do not graduate: The average number of days between enrollment and the start of the semester is less than 71 days."
      ],
      "metadata": {
        "id": "BoH5iU3jdYWF"
      }
    },
    {
      "cell_type": "markdown",
      "source": [
        "Ho​: The average days between enrollment and semester start = 71\n",
        "\n",
        "Ha: The average days between enrollment and semester start < 71"
      ],
      "metadata": {
        "id": "I_q-X5nJehx1"
      }
    },
    {
      "cell_type": "code",
      "source": [
        "dropouts_days_enroll = dropouts['DaysEnrollToStart'].dropna()\n",
        "test_stat_dropouts, p_value_dropouts = ttest_1samp(dropouts_days_enroll, 71, alternative='less')"
      ],
      "metadata": {
        "id": "Z9tFjNtmfCRo"
      },
      "execution_count": 8,
      "outputs": []
    },
    {
      "cell_type": "code",
      "source": [
        "print(f\"Test Statistic For Dropout Students: {test_stat_dropouts}\")\n",
        "print(f\"P-value For Dropout Students: {p_value_dropouts}\")"
      ],
      "metadata": {
        "colab": {
          "base_uri": "https://localhost:8080/"
        },
        "id": "KMzvqRHCf_yB",
        "outputId": "8c7ab8b8-9b8e-49f7-f7d2-ec175231b5c8"
      },
      "execution_count": 9,
      "outputs": [
        {
          "output_type": "stream",
          "name": "stdout",
          "text": [
            "Test Statistic For Dropout Students: -0.006328839851492547\n",
            "P-value For Dropout Students: 0.49747584434110703\n"
          ]
        }
      ]
    },
    {
      "cell_type": "markdown",
      "source": [
        "The p-value (0.4975) is greater than the 5% significance level, so we do not reject the null hypothesis. This indicates that we lack sufficient evidence to conclude that students who did not graduate had a shorter enrollment-to-start time than 71 days.\n",
        "\n"
      ],
      "metadata": {
        "id": "Av1VvlSzgPdg"
      }
    },
    {
      "cell_type": "markdown",
      "source": [
        "#### b) For students who graduate: The average number of days between enrollment and the start of the semester is greater than 71 days."
      ],
      "metadata": {
        "id": "NRDF9zwLgSHq"
      }
    },
    {
      "cell_type": "markdown",
      "source": [
        "Ho​: The average days between enrollment and semester start = 71\n",
        "\n",
        "Ha: The average days between enrollment and semester start > 71"
      ],
      "metadata": {
        "id": "pMtwYiT-gZTZ"
      }
    },
    {
      "cell_type": "code",
      "source": [
        "graduates_days_enroll = graduates['DaysEnrollToStart'].dropna()\n",
        "test_stat_graduates, p_value_graduates = ttest_1samp(graduates_days_enroll, 71, alternative='greater')"
      ],
      "metadata": {
        "id": "2FGEAaHXggXR"
      },
      "execution_count": 10,
      "outputs": []
    },
    {
      "cell_type": "code",
      "source": [
        "print(f\"Test Statistic For Graduate Students: {test_stat_graduates}\")\n",
        "print(f\"P-value For Graduate Students: {p_value_graduates}\")"
      ],
      "metadata": {
        "colab": {
          "base_uri": "https://localhost:8080/"
        },
        "id": "XSY2BMAOgobZ",
        "outputId": "49542787-8d58-40e1-f68e-30c2a6514c74"
      },
      "execution_count": 11,
      "outputs": [
        {
          "output_type": "stream",
          "name": "stdout",
          "text": [
            "Test Statistic For Graduate Students: 0.19628723532239142\n",
            "P-value For Graduate Students: 0.4222035197119946\n"
          ]
        }
      ]
    },
    {
      "cell_type": "markdown",
      "source": [
        "The p-value (0.4222) is also greater than 5%, so we do not reject the null hypothesis here either. This suggests we lack sufficient evidence to claim that students who graduated had a longer enrollment-to-start time than 71 days."
      ],
      "metadata": {
        "id": "9oABjBTLgs4V"
      }
    },
    {
      "cell_type": "markdown",
      "source": [
        "### Research Question 3: Do students who drop out tend to have lower entrance exam score compared to those who graduate?"
      ],
      "metadata": {
        "id": "9uR8LI1Ggvbk"
      }
    },
    {
      "cell_type": "markdown",
      "source": [
        "#### a) For students who do not graduate: The average entrance exam score is less than 83."
      ],
      "metadata": {
        "id": "vZTPhwIigy5L"
      }
    },
    {
      "cell_type": "markdown",
      "source": [
        "Ho​: The average entrance exam score = 83\n",
        "\n",
        "Ha: The average entrance exam score < 83"
      ],
      "metadata": {
        "id": "wxg9lXZhg3_S"
      }
    },
    {
      "cell_type": "code",
      "source": [
        "dropouts_exam_score = dropouts['MaxENTEntranceScore'].dropna()\n",
        "test_stat_dropouts, p_value_dropouts = ttest_1samp(dropouts_exam_score, 83, alternative='less')"
      ],
      "metadata": {
        "id": "1ADx2Kw7g3SK"
      },
      "execution_count": 12,
      "outputs": []
    },
    {
      "cell_type": "code",
      "source": [
        "print(f\"Test Statistic For Dropout Students: {test_stat_dropouts}\")\n",
        "print(f\"P-value For Dropout Students: {p_value_dropouts}\")"
      ],
      "metadata": {
        "colab": {
          "base_uri": "https://localhost:8080/"
        },
        "id": "iPd6Hk1fhVUI",
        "outputId": "0d833951-1506-4b4c-aa90-4272d1f5903e"
      },
      "execution_count": 13,
      "outputs": [
        {
          "output_type": "stream",
          "name": "stdout",
          "text": [
            "Test Statistic For Dropout Students: -2.9398551944074094\n",
            "P-value For Dropout Students: 0.0016966364249860896\n"
          ]
        }
      ]
    },
    {
      "cell_type": "markdown",
      "source": [
        "The p-value (0.0017) is less than the 5% significance level, so we reject the null hypothesis. This suggests that students who did not graduate had an average entrance exam score lower than 83."
      ],
      "metadata": {
        "id": "3uf7NPv4hhgP"
      }
    },
    {
      "cell_type": "markdown",
      "source": [
        "#### b) For students who graduate: The average entrance exam score is greater than 90.\n",
        "\n"
      ],
      "metadata": {
        "id": "PcjWHbdahkVn"
      }
    },
    {
      "cell_type": "markdown",
      "source": [
        "Ho​: The average entrance exam score = 90\n",
        "\n",
        "Ha: The average entrance exam score > 90"
      ],
      "metadata": {
        "id": "zb0GnPehhnc9"
      }
    },
    {
      "cell_type": "code",
      "source": [
        "graduates_exam_score = graduates['MaxENTEntranceScore'].dropna()\n",
        "test_stat_graduates, p_value_graduates = ttest_1samp(graduates_exam_score, 90, alternative='greater')"
      ],
      "metadata": {
        "id": "n3xqhFTKhtTt"
      },
      "execution_count": 14,
      "outputs": []
    },
    {
      "cell_type": "code",
      "source": [
        "print(f\"Test Statistic For Graduate Students: {test_stat_graduates}\")\n",
        "print(f\"P-value For Graduate Students: {p_value_graduates}\")"
      ],
      "metadata": {
        "colab": {
          "base_uri": "https://localhost:8080/"
        },
        "id": "b0CRZkdKhtay",
        "outputId": "2fec6c7f-83ee-40d8-fc48-bd615390622c"
      },
      "execution_count": 15,
      "outputs": [
        {
          "output_type": "stream",
          "name": "stdout",
          "text": [
            "Test Statistic For Graduate Students: 0.4259083577037395\n",
            "P-value For Graduate Students: 0.3351288593129971\n"
          ]
        }
      ]
    },
    {
      "cell_type": "markdown",
      "source": [
        "The p-value (0.3351) is greater than 5%, so we do not reject the null hypothesis. This indicates that there is insufficient evidence to conclude that students who graduated had an entrance exam score greater than 90."
      ],
      "metadata": {
        "id": "Q7MieOAoihYv"
      }
    }
  ]
}