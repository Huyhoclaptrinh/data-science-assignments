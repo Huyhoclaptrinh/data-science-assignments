{
  "nbformat": 4,
  "nbformat_minor": 0,
  "metadata": {
    "colab": {
      "provenance": []
    },
    "kernelspec": {
      "name": "python3",
      "display_name": "Python 3"
    },
    "language_info": {
      "name": "python"
    }
  },
  "cells": [
    {
      "cell_type": "markdown",
      "source": [
        "# **Useful Hints and Code Snippets for Assignment 2.**\n",
        "Brandon Inoshita\n"
      ],
      "metadata": {
        "id": "YjWAagpBjUMH"
      }
    },
    {
      "cell_type": "markdown",
      "source": [
        "### **Importing Pandas and Numpy**"
      ],
      "metadata": {
        "id": "eFTeq1e9lnwk"
      }
    },
    {
      "cell_type": "code",
      "execution_count": null,
      "metadata": {
        "id": "sX9OFw2zii81"
      },
      "outputs": [],
      "source": []
    },
    {
      "cell_type": "markdown",
      "source": [
        "### **Loading data using `.read_csv()`**\n",
        "\n",
        "\n",
        "\n"
      ],
      "metadata": {
        "id": "rl1MlF6jlssq"
      }
    },
    {
      "cell_type": "markdown",
      "source": [
        "* The `.read_csv()` function is used to read a comma-separated values (csv) file into DataFrame.\n",
        "\n",
        "* The `.read_csv()` require the user to specify the path where the file is locate.\n",
        "\n"
      ],
      "metadata": {
        "id": "DDHDROIFeVw2"
      }
    },
    {
      "cell_type": "code",
      "source": [],
      "metadata": {
        "id": "sIdUZpo1lvlp"
      },
      "execution_count": null,
      "outputs": []
    },
    {
      "cell_type": "markdown",
      "source": [
        "### **Preliminary exploritory steps.**"
      ],
      "metadata": {
        "id": "lP6Bj2OkCXRc"
      }
    },
    {
      "cell_type": "markdown",
      "source": [
        " **Viewing a sample of data using `.head()`**\n"
      ],
      "metadata": {
        "id": "VvD9QmaNA6we"
      }
    },
    {
      "cell_type": "markdown",
      "source": [
        "* The .head() function allows us to preview the data.\n",
        "* By default, it displays the first 5 rows of the DataFrame.\n",
        "* You can pass an argument to the .head() method to change the number of rows displayed."
      ],
      "metadata": {
        "id": "0Yl5JcjJfKLx"
      }
    },
    {
      "cell_type": "code",
      "source": [],
      "metadata": {
        "id": "r8Ep-Bv8BH-I"
      },
      "execution_count": null,
      "outputs": []
    },
    {
      "cell_type": "markdown",
      "source": [
        "**Viewing additional information about your data using `.info()`**\n",
        "\n"
      ],
      "metadata": {
        "id": "mSqUbqHHBLZZ"
      }
    },
    {
      "cell_type": "markdown",
      "source": [
        "* The `.info()` method is useful for diagnosising potential problems with the data.\n",
        "\n"
      ],
      "metadata": {
        "id": "sVA9RTArgHFm"
      }
    },
    {
      "cell_type": "code",
      "source": [],
      "metadata": {
        "id": "L6bB5K00BV9N"
      },
      "execution_count": null,
      "outputs": []
    },
    {
      "cell_type": "markdown",
      "source": [
        "### **Slicing and selecting data**\n"
      ],
      "metadata": {
        "id": "Kj03PFp0BaHg"
      }
    },
    {
      "cell_type": "markdown",
      "source": [
        "**Isolating a single coumn using brackets `['var name']`**"
      ],
      "metadata": {
        "id": "8itUCCT8EU3R"
      }
    },
    {
      "cell_type": "markdown",
      "source": [
        "* You can isolate a single column from a DataFrame by using square brackets [ ] with the column name inside. The output will be a pandas Series object. A pandas Series is a one-dimensional array that can contain data of any type, including integers, floats, strings, booleans, and Python objects.\n",
        "* In the following example, we will isolate the \"diagnosis\" column and save it to a variable called `outcome`."
      ],
      "metadata": {
        "id": "T9aDyx2Nos8W"
      }
    },
    {
      "cell_type": "code",
      "source": [],
      "metadata": {
        "id": "OU7kV-P8DZI6"
      },
      "execution_count": null,
      "outputs": []
    },
    {
      "cell_type": "markdown",
      "source": [
        "**Isolating two or more columns using `[['var name1', 'var name2']]`**\n",
        "\n",
        "\n"
      ],
      "metadata": {
        "id": "MhgLcgtEFsqy"
      }
    },
    {
      "cell_type": "markdown",
      "source": [
        "* You can also provide a list of column names inside the square brackets to fetch more than one column.\n",
        "* In the following example, we will isolate the columns 'id', 'diagnosis', and 'radius_mean', and store this subset in a new variable called `my_subset`."
      ],
      "metadata": {
        "id": "kPO7QPpcpTwG"
      }
    },
    {
      "cell_type": "code",
      "source": [],
      "metadata": {
        "id": "PaXEEW7tE107"
      },
      "execution_count": null,
      "outputs": []
    },
    {
      "cell_type": "markdown",
      "source": [
        "**Isolating columns based on column index using `.iloc[:,column_index]`**"
      ],
      "metadata": {
        "id": "ffaUk1AIH324"
      }
    },
    {
      "cell_type": "markdown",
      "source": [
        "* Instead of relying on column names, you can isolate columns based on their index using the `iloc[]` method.\n",
        "* Here is an alternative way of completing the previous example using the `iloc[]` method.:"
      ],
      "metadata": {
        "id": "dnx67IdAqR44"
      }
    },
    {
      "cell_type": "code",
      "source": [],
      "metadata": {
        "id": "XQvG6pOLHGP1"
      },
      "execution_count": null,
      "outputs": []
    },
    {
      "cell_type": "markdown",
      "source": [
        "**Isolating rows based on row index using .iloc[row_index]**"
      ],
      "metadata": {
        "id": "QRSUoqlFvjO0"
      }
    },
    {
      "cell_type": "markdown",
      "source": [
        "* The `iloc` method can also be used for isolating specific row(s:).\n",
        "* In the following example, we will print the first 3 rows."
      ],
      "metadata": {
        "id": "1rM7CKXMwUAd"
      }
    },
    {
      "cell_type": "code",
      "source": [],
      "metadata": {
        "id": "3dWV8BCTwQvv"
      },
      "execution_count": null,
      "outputs": []
    },
    {
      "cell_type": "markdown",
      "source": [
        "**Slicing rows using `.iloc[start_index:end_index]`**"
      ],
      "metadata": {
        "id": "bKosJyjcxJeq"
      }
    },
    {
      "cell_type": "markdown",
      "source": [
        "* You can use .iloc[start_index:end_index] to isolate all rows from start_index to end_index, excluding the row at end_index.\n",
        "\n",
        "* For example, here is an alternative way to print the first 3 rows:"
      ],
      "metadata": {
        "id": "AZ0DSgSGxV45"
      }
    },
    {
      "cell_type": "code",
      "source": [],
      "metadata": {
        "id": "Mbmll-rayAHS"
      },
      "execution_count": null,
      "outputs": []
    },
    {
      "cell_type": "markdown",
      "source": [
        "**Slicing columns using `.iloc[:,start_index:end_index]`**"
      ],
      "metadata": {
        "id": "e67zMzHPx_UO"
      }
    },
    {
      "cell_type": "markdown",
      "source": [
        "* You can use .iloc[:,start_index:end_index] to isolate all columns from start_index to end_index, excluding the column at end_index.\n",
        "\n",
        "* In the following example, we will isolate the tumor measurement columns and save the result in a variable called tumor_measurements."
      ],
      "metadata": {
        "id": "m12OfcATyT5Q"
      }
    },
    {
      "cell_type": "code",
      "source": [],
      "metadata": {
        "id": "O2QsGmz4QIjm"
      },
      "execution_count": null,
      "outputs": []
    },
    {
      "cell_type": "markdown",
      "source": [
        "**Isolating a row by a condition:**"
      ],
      "metadata": {
        "id": "aM2oAxHRINf-"
      }
    },
    {
      "cell_type": "markdown",
      "source": [
        "* Instead of isolating rows by index, you can also do so based on logical conditions.\n",
        "\n",
        "* In the following example, we will isolate the row corresponding to the patient ID 84300903."
      ],
      "metadata": {
        "id": "0ca50onJzvi6"
      }
    },
    {
      "cell_type": "code",
      "source": [],
      "metadata": {
        "id": "gzTOvQxiHbXC"
      },
      "execution_count": null,
      "outputs": []
    },
    {
      "cell_type": "markdown",
      "source": [
        "* In the following example, we will isolate all rows corresponding to the benign diagnisis."
      ],
      "metadata": {
        "id": "xGzbdxn_I5oJ"
      }
    },
    {
      "cell_type": "code",
      "source": [],
      "metadata": {
        "id": "2pWcGpt9IvKO"
      },
      "execution_count": null,
      "outputs": []
    },
    {
      "cell_type": "markdown",
      "source": [
        "**Selecting random rows using`.sample(sample_size, random_state = 42)`**"
      ],
      "metadata": {
        "id": "lpJR5sUwI9EK"
      }
    },
    {
      "cell_type": "markdown",
      "source": [
        "* You can use the .sample method to select random rows from a DataFrame.\n",
        "* Note: specifying a random_state is effectively the same thing as specifying a random seed."
      ],
      "metadata": {
        "id": "4adDmZc105OJ"
      }
    },
    {
      "cell_type": "code",
      "source": [],
      "metadata": {
        "id": "fmHf5kNbI8ZR"
      },
      "execution_count": null,
      "outputs": []
    },
    {
      "cell_type": "markdown",
      "source": [
        "**Understanding check:**"
      ],
      "metadata": {
        "id": "vwdEHk832UL0"
      }
    },
    {
      "cell_type": "markdown",
      "source": [
        "**Take the next 15 minutes to complete the following:**\n",
        "\n",
        "1. Create a variable called subject_a_measurements that stores the tumor measurements (columns 3 to 32) for the patient with ID 87930.\n",
        "2. Create a variable called subject_b_measurements that stores the tumor measurements (columns 3 to 32) for the patient with ID 92751.\n",
        "3. Print 5 random rows corresponding to malignant diagnoses. Be sure to set random_state to 42."
      ],
      "metadata": {
        "id": "p3apy6Qp2Zyy"
      }
    },
    {
      "cell_type": "code",
      "source": [
        "# Write your answer for question 1 here:\n"
      ],
      "metadata": {
        "id": "eeanNwBya6iA"
      },
      "execution_count": 2,
      "outputs": []
    },
    {
      "cell_type": "code",
      "source": [
        "# Write your answer for question 2 here:\n"
      ],
      "metadata": {
        "id": "XlJID06U4xo7"
      },
      "execution_count": 1,
      "outputs": []
    },
    {
      "cell_type": "code",
      "source": [
        "# Write your answer for question 3 here:\n"
      ],
      "metadata": {
        "id": "BEoRNmAy4xwo"
      },
      "execution_count": 3,
      "outputs": []
    },
    {
      "cell_type": "markdown",
      "source": [
        "### **User Defined Function**\n",
        "\n",
        "\n"
      ],
      "metadata": {
        "id": "sxhMUK3f8fNr"
      }
    },
    {
      "cell_type": "markdown",
      "source": [
        "* While Python has many useful features, there are some cases where you might want to create your own functions\n",
        "* In python, you can use the `def` function to create your own functions that satisfy your use cases."
      ],
      "metadata": {
        "id": "5LavtIc68T_v"
      }
    },
    {
      "cell_type": "markdown",
      "source": [
        "**Syntax for user-defined functions:**"
      ],
      "metadata": {
        "id": "4Y1eL_RR-0yP"
      }
    },
    {
      "cell_type": "markdown",
      "source": [
        "```python\n",
        "def function_name(arguments):\n",
        "    # Block of codes\n",
        "    return output\n",
        "```"
      ],
      "metadata": {
        "id": "ifJ-yXlp8RX0"
      }
    },
    {
      "cell_type": "markdown",
      "source": [
        "**A simple example:**"
      ],
      "metadata": {
        "id": "tZi0xZ_d-22e"
      }
    },
    {
      "cell_type": "markdown",
      "source": [
        "The following function will accept a temperature in Fahrenheit and convert the value to Celsius using the conversion formula\n",
        "(temp_f - 32)*5/9."
      ],
      "metadata": {
        "id": "4OXMmx40_JIj"
      }
    },
    {
      "cell_type": "code",
      "source": [],
      "metadata": {
        "id": "NJUuIm-2aGW0"
      },
      "execution_count": 3,
      "outputs": []
    },
    {
      "cell_type": "markdown",
      "source": [
        "### **Misc. Pandas**"
      ],
      "metadata": {
        "id": "Q-EqdHpjChk4"
      }
    },
    {
      "cell_type": "markdown",
      "source": [
        "**Sorting data using the .sort_values() method**"
      ],
      "metadata": {
        "id": "co76AM4oDzok"
      }
    },
    {
      "cell_type": "markdown",
      "source": [
        "* The .sort_values() will sort a DataFrame by the values along either axis.\n",
        "\n"
      ],
      "metadata": {
        "id": "g3uFB19GD-yD"
      }
    },
    {
      "cell_type": "code",
      "source": [],
      "metadata": {
        "id": "PM6YTh_jNu8Z"
      },
      "execution_count": null,
      "outputs": []
    },
    {
      "cell_type": "markdown",
      "source": [
        "**Potential issue you may encounter**"
      ],
      "metadata": {
        "id": "ZWCN6-QXGTep"
      }
    },
    {
      "cell_type": "code",
      "source": [],
      "metadata": {
        "id": "sLVOx66ZRKRm"
      },
      "execution_count": null,
      "outputs": []
    },
    {
      "cell_type": "markdown",
      "source": [
        "### **In class activity:**"
      ],
      "metadata": {
        "id": "I6oKCwzcIZT-"
      }
    },
    {
      "cell_type": "markdown",
      "source": [
        "1. Create a function called euclidean_distance that accepts arguments a and b and returns the Euclidean distance between a and b.\n",
        "\n",
        "2. Create a variable called subject_a_measurements that stores the tumor measurements for the patient with the ID 8611555.\n",
        "\n",
        "3. Convert subject_a_measurements to a 1D NumPy array. Save these values as a variable called sub_a_numpy.\n",
        "\n",
        "4. Modify the df.iloc[].to_numpy() line so that it isolates the tumor measurements for the i-th patient.\n",
        "\n",
        "5. Calculate the Euclidean distance between the sub_a_numpy array and row_i. Set this value to dis_a_to_row_i.\n",
        "\n",
        "6. Sort the DataFrame based on the distance column in ascending order. Save the result in a variable called similarity_to_a.\n",
        "\n",
        "7. Print out just the first 6 rows for the id, diagnosis, and distance columns of the similarity_to_a variable."
      ],
      "metadata": {
        "id": "0PUdTAmmC_sJ"
      }
    },
    {
      "cell_type": "code",
      "source": [
        "# 1 Create a function to calculate the euclian distances.\n",
        "\n",
        "# 2. Create a variable called 'subject_a_measurements.'\n",
        "\n",
        "# 3. Convert subject_a_measurements to a 1d numpy array.\n",
        "\n",
        "distances = []\n",
        "\n",
        "for i in range(len(df)):\n",
        "  # 4. Modify the df.iloc[].to_numpy() line\n",
        "  row_i = df.iloc[].to_numpy()\n",
        "\n",
        "  # 5. Apply the euclidian distance function\n",
        "  dis_a_to_row_i =\n",
        "  distances.append(dis_a_to_row_i)\n",
        "\n",
        "df['distances'] = distances\n",
        "\n",
        "# 6. Sort the dataframe based on the distance column and ascending order.\n",
        "\n",
        "# 7. Print  out just the first 6 rows for the id, diagnosis, and distance columns of the similarity_to_a variable.\n"
      ],
      "metadata": {
        "id": "sYmiv6MCOZET"
      },
      "execution_count": null,
      "outputs": []
    }
  ]
}