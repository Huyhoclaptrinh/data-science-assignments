{
 "cells": [
  {
   "cell_type": "markdown",
   "metadata": {
    "id": "oeuL6ldJFE6h"
   },
   "source": [
    "#Assignment 2"
   ]
  },
  {
   "cell_type": "code",
   "execution_count": 2,
   "metadata": {
    "id": "S0JHU0-i37-i"
   },
   "outputs": [],
   "source": [
    "import pandas as pd\n",
    "import numpy as np"
   ]
  },
  {
   "cell_type": "code",
   "execution_count": 3,
   "metadata": {
    "colab": {
     "base_uri": "https://localhost:8080/",
     "height": 424
    },
    "id": "k7s21AjR4c60",
    "outputId": "ce700cdb-ac11-4b3f-91a3-83045e942e84"
   },
   "outputs": [
    {
     "data": {
      "text/html": [
       "<div>\n",
       "<style scoped>\n",
       "    .dataframe tbody tr th:only-of-type {\n",
       "        vertical-align: middle;\n",
       "    }\n",
       "\n",
       "    .dataframe tbody tr th {\n",
       "        vertical-align: top;\n",
       "    }\n",
       "\n",
       "    .dataframe thead th {\n",
       "        text-align: right;\n",
       "    }\n",
       "</style>\n",
       "<table border=\"1\" class=\"dataframe\">\n",
       "  <thead>\n",
       "    <tr style=\"text-align: right;\">\n",
       "      <th></th>\n",
       "      <th>Name</th>\n",
       "      <th>Party</th>\n",
       "      <th>State</th>\n",
       "      <th>B1</th>\n",
       "      <th>B2</th>\n",
       "      <th>B3</th>\n",
       "      <th>B4</th>\n",
       "      <th>B5</th>\n",
       "      <th>B6</th>\n",
       "      <th>B7</th>\n",
       "      <th>...</th>\n",
       "      <th>B37</th>\n",
       "      <th>B38</th>\n",
       "      <th>B39</th>\n",
       "      <th>B40</th>\n",
       "      <th>B41</th>\n",
       "      <th>B42</th>\n",
       "      <th>B43</th>\n",
       "      <th>B44</th>\n",
       "      <th>B45</th>\n",
       "      <th>B46</th>\n",
       "    </tr>\n",
       "  </thead>\n",
       "  <tbody>\n",
       "    <tr>\n",
       "      <th>0</th>\n",
       "      <td>Akaka</td>\n",
       "      <td>D</td>\n",
       "      <td>HI</td>\n",
       "      <td>-1</td>\n",
       "      <td>-1</td>\n",
       "      <td>1</td>\n",
       "      <td>1</td>\n",
       "      <td>1</td>\n",
       "      <td>-1</td>\n",
       "      <td>-1</td>\n",
       "      <td>...</td>\n",
       "      <td>1</td>\n",
       "      <td>-1</td>\n",
       "      <td>-1</td>\n",
       "      <td>1</td>\n",
       "      <td>-1</td>\n",
       "      <td>1</td>\n",
       "      <td>-1</td>\n",
       "      <td>1</td>\n",
       "      <td>1</td>\n",
       "      <td>-1</td>\n",
       "    </tr>\n",
       "    <tr>\n",
       "      <th>1</th>\n",
       "      <td>Alexander</td>\n",
       "      <td>R</td>\n",
       "      <td>TN</td>\n",
       "      <td>1</td>\n",
       "      <td>1</td>\n",
       "      <td>1</td>\n",
       "      <td>1</td>\n",
       "      <td>1</td>\n",
       "      <td>1</td>\n",
       "      <td>1</td>\n",
       "      <td>...</td>\n",
       "      <td>1</td>\n",
       "      <td>1</td>\n",
       "      <td>1</td>\n",
       "      <td>1</td>\n",
       "      <td>1</td>\n",
       "      <td>1</td>\n",
       "      <td>1</td>\n",
       "      <td>0</td>\n",
       "      <td>1</td>\n",
       "      <td>1</td>\n",
       "    </tr>\n",
       "    <tr>\n",
       "      <th>2</th>\n",
       "      <td>Allard</td>\n",
       "      <td>R</td>\n",
       "      <td>CO</td>\n",
       "      <td>1</td>\n",
       "      <td>1</td>\n",
       "      <td>1</td>\n",
       "      <td>1</td>\n",
       "      <td>1</td>\n",
       "      <td>1</td>\n",
       "      <td>1</td>\n",
       "      <td>...</td>\n",
       "      <td>1</td>\n",
       "      <td>1</td>\n",
       "      <td>1</td>\n",
       "      <td>1</td>\n",
       "      <td>1</td>\n",
       "      <td>1</td>\n",
       "      <td>1</td>\n",
       "      <td>1</td>\n",
       "      <td>1</td>\n",
       "      <td>1</td>\n",
       "    </tr>\n",
       "    <tr>\n",
       "      <th>3</th>\n",
       "      <td>Allen</td>\n",
       "      <td>R</td>\n",
       "      <td>VA</td>\n",
       "      <td>1</td>\n",
       "      <td>1</td>\n",
       "      <td>1</td>\n",
       "      <td>1</td>\n",
       "      <td>1</td>\n",
       "      <td>1</td>\n",
       "      <td>1</td>\n",
       "      <td>...</td>\n",
       "      <td>1</td>\n",
       "      <td>1</td>\n",
       "      <td>1</td>\n",
       "      <td>1</td>\n",
       "      <td>1</td>\n",
       "      <td>1</td>\n",
       "      <td>1</td>\n",
       "      <td>1</td>\n",
       "      <td>1</td>\n",
       "      <td>1</td>\n",
       "    </tr>\n",
       "    <tr>\n",
       "      <th>4</th>\n",
       "      <td>Baucus</td>\n",
       "      <td>D</td>\n",
       "      <td>MT</td>\n",
       "      <td>-1</td>\n",
       "      <td>1</td>\n",
       "      <td>1</td>\n",
       "      <td>1</td>\n",
       "      <td>1</td>\n",
       "      <td>1</td>\n",
       "      <td>-1</td>\n",
       "      <td>...</td>\n",
       "      <td>1</td>\n",
       "      <td>-1</td>\n",
       "      <td>1</td>\n",
       "      <td>0</td>\n",
       "      <td>1</td>\n",
       "      <td>1</td>\n",
       "      <td>-1</td>\n",
       "      <td>1</td>\n",
       "      <td>1</td>\n",
       "      <td>1</td>\n",
       "    </tr>\n",
       "    <tr>\n",
       "      <th>...</th>\n",
       "      <td>...</td>\n",
       "      <td>...</td>\n",
       "      <td>...</td>\n",
       "      <td>...</td>\n",
       "      <td>...</td>\n",
       "      <td>...</td>\n",
       "      <td>...</td>\n",
       "      <td>...</td>\n",
       "      <td>...</td>\n",
       "      <td>...</td>\n",
       "      <td>...</td>\n",
       "      <td>...</td>\n",
       "      <td>...</td>\n",
       "      <td>...</td>\n",
       "      <td>...</td>\n",
       "      <td>...</td>\n",
       "      <td>...</td>\n",
       "      <td>...</td>\n",
       "      <td>...</td>\n",
       "      <td>...</td>\n",
       "      <td>...</td>\n",
       "    </tr>\n",
       "    <tr>\n",
       "      <th>94</th>\n",
       "      <td>Thune</td>\n",
       "      <td>R</td>\n",
       "      <td>SD</td>\n",
       "      <td>1</td>\n",
       "      <td>1</td>\n",
       "      <td>1</td>\n",
       "      <td>1</td>\n",
       "      <td>1</td>\n",
       "      <td>1</td>\n",
       "      <td>1</td>\n",
       "      <td>...</td>\n",
       "      <td>1</td>\n",
       "      <td>1</td>\n",
       "      <td>1</td>\n",
       "      <td>1</td>\n",
       "      <td>1</td>\n",
       "      <td>1</td>\n",
       "      <td>1</td>\n",
       "      <td>1</td>\n",
       "      <td>1</td>\n",
       "      <td>1</td>\n",
       "    </tr>\n",
       "    <tr>\n",
       "      <th>95</th>\n",
       "      <td>Vitter</td>\n",
       "      <td>R</td>\n",
       "      <td>LA</td>\n",
       "      <td>1</td>\n",
       "      <td>1</td>\n",
       "      <td>1</td>\n",
       "      <td>1</td>\n",
       "      <td>1</td>\n",
       "      <td>1</td>\n",
       "      <td>1</td>\n",
       "      <td>...</td>\n",
       "      <td>1</td>\n",
       "      <td>1</td>\n",
       "      <td>1</td>\n",
       "      <td>1</td>\n",
       "      <td>1</td>\n",
       "      <td>1</td>\n",
       "      <td>1</td>\n",
       "      <td>1</td>\n",
       "      <td>1</td>\n",
       "      <td>1</td>\n",
       "    </tr>\n",
       "    <tr>\n",
       "      <th>96</th>\n",
       "      <td>Voinovich</td>\n",
       "      <td>R</td>\n",
       "      <td>OH</td>\n",
       "      <td>1</td>\n",
       "      <td>-1</td>\n",
       "      <td>1</td>\n",
       "      <td>1</td>\n",
       "      <td>1</td>\n",
       "      <td>1</td>\n",
       "      <td>1</td>\n",
       "      <td>...</td>\n",
       "      <td>1</td>\n",
       "      <td>1</td>\n",
       "      <td>1</td>\n",
       "      <td>1</td>\n",
       "      <td>1</td>\n",
       "      <td>1</td>\n",
       "      <td>1</td>\n",
       "      <td>1</td>\n",
       "      <td>1</td>\n",
       "      <td>-1</td>\n",
       "    </tr>\n",
       "    <tr>\n",
       "      <th>97</th>\n",
       "      <td>Warner</td>\n",
       "      <td>R</td>\n",
       "      <td>VA</td>\n",
       "      <td>1</td>\n",
       "      <td>1</td>\n",
       "      <td>1</td>\n",
       "      <td>1</td>\n",
       "      <td>1</td>\n",
       "      <td>1</td>\n",
       "      <td>1</td>\n",
       "      <td>...</td>\n",
       "      <td>1</td>\n",
       "      <td>1</td>\n",
       "      <td>1</td>\n",
       "      <td>1</td>\n",
       "      <td>1</td>\n",
       "      <td>1</td>\n",
       "      <td>1</td>\n",
       "      <td>1</td>\n",
       "      <td>1</td>\n",
       "      <td>1</td>\n",
       "    </tr>\n",
       "    <tr>\n",
       "      <th>98</th>\n",
       "      <td>Wyden</td>\n",
       "      <td>D</td>\n",
       "      <td>OR</td>\n",
       "      <td>-1</td>\n",
       "      <td>-1</td>\n",
       "      <td>1</td>\n",
       "      <td>1</td>\n",
       "      <td>1</td>\n",
       "      <td>-1</td>\n",
       "      <td>-1</td>\n",
       "      <td>...</td>\n",
       "      <td>1</td>\n",
       "      <td>-1</td>\n",
       "      <td>1</td>\n",
       "      <td>1</td>\n",
       "      <td>1</td>\n",
       "      <td>1</td>\n",
       "      <td>-1</td>\n",
       "      <td>1</td>\n",
       "      <td>1</td>\n",
       "      <td>-1</td>\n",
       "    </tr>\n",
       "  </tbody>\n",
       "</table>\n",
       "<p>99 rows × 49 columns</p>\n",
       "</div>"
      ],
      "text/plain": [
       "         Name Party State  B1  B2  B3  B4  B5  B6  B7  ...  B37  B38  B39  \\\n",
       "0       Akaka     D    HI  -1  -1   1   1   1  -1  -1  ...    1   -1   -1   \n",
       "1   Alexander     R    TN   1   1   1   1   1   1   1  ...    1    1    1   \n",
       "2      Allard     R    CO   1   1   1   1   1   1   1  ...    1    1    1   \n",
       "3       Allen     R    VA   1   1   1   1   1   1   1  ...    1    1    1   \n",
       "4      Baucus     D    MT  -1   1   1   1   1   1  -1  ...    1   -1    1   \n",
       "..        ...   ...   ...  ..  ..  ..  ..  ..  ..  ..  ...  ...  ...  ...   \n",
       "94      Thune     R    SD   1   1   1   1   1   1   1  ...    1    1    1   \n",
       "95     Vitter     R    LA   1   1   1   1   1   1   1  ...    1    1    1   \n",
       "96  Voinovich     R    OH   1  -1   1   1   1   1   1  ...    1    1    1   \n",
       "97     Warner     R    VA   1   1   1   1   1   1   1  ...    1    1    1   \n",
       "98      Wyden     D    OR  -1  -1   1   1   1  -1  -1  ...    1   -1    1   \n",
       "\n",
       "    B40  B41  B42  B43  B44  B45  B46  \n",
       "0     1   -1    1   -1    1    1   -1  \n",
       "1     1    1    1    1    0    1    1  \n",
       "2     1    1    1    1    1    1    1  \n",
       "3     1    1    1    1    1    1    1  \n",
       "4     0    1    1   -1    1    1    1  \n",
       "..  ...  ...  ...  ...  ...  ...  ...  \n",
       "94    1    1    1    1    1    1    1  \n",
       "95    1    1    1    1    1    1    1  \n",
       "96    1    1    1    1    1    1   -1  \n",
       "97    1    1    1    1    1    1    1  \n",
       "98    1    1    1   -1    1    1   -1  \n",
       "\n",
       "[99 rows x 49 columns]"
      ]
     },
     "execution_count": 3,
     "metadata": {},
     "output_type": "execute_result"
    }
   ],
   "source": [
    "df = pd.read_csv('senate_votes.csv')\n",
    "df"
   ]
  },
  {
   "cell_type": "markdown",
   "metadata": {
    "id": "br1CgC2kFTZH"
   },
   "source": [
    "####Find the senator whose voting record is closest to Rhode Island senator, Lincoln Chafee"
   ]
  },
  {
   "cell_type": "code",
   "execution_count": 5,
   "metadata": {
    "colab": {
     "base_uri": "https://localhost:8080/"
    },
    "id": "g-HKWHpD4tdn",
    "outputId": "99c5879d-39fe-4f26-c6bf-ce38f69c7683"
   },
   "outputs": [
    {
     "data": {
      "text/plain": [
       "array([ 1, -1,  1,  1,  1,  1, -1,  1,  1,  1,  1,  1,  1,  1,  1,  1,  1,\n",
       "        1,  0,  1,  1,  1,  1,  1,  1,  1, -1,  1,  1,  1,  1,  0,  1,  1,\n",
       "        0,  1,  1, -1, -1,  1,  1,  1, -1,  1,  1, -1], dtype=int64)"
      ]
     },
     "execution_count": 5,
     "metadata": {},
     "output_type": "execute_result"
    }
   ],
   "source": [
    "chafee_senator = df[df['Name']=='Chafee'].iloc[:,3:].to_numpy()[0]\n",
    "chafee_senator"
   ]
  },
  {
   "cell_type": "code",
   "execution_count": 6,
   "metadata": {
    "colab": {
     "base_uri": "https://localhost:8080/"
    },
    "id": "N8jV9uOr8yIt",
    "outputId": "4b5fe1c5-1426-4853-8bc8-3a90cdf6164d"
   },
   "outputs": [
    {
     "data": {
      "text/plain": [
       "array([[-1, -1,  1, ...,  1,  1, -1],\n",
       "       [ 1,  1,  1, ...,  0,  1,  1],\n",
       "       [ 1,  1,  1, ...,  1,  1,  1],\n",
       "       ...,\n",
       "       [ 1, -1,  1, ...,  1,  1, -1],\n",
       "       [ 1,  1,  1, ...,  1,  1,  1],\n",
       "       [-1, -1,  1, ...,  1,  1, -1]], dtype=int64)"
      ]
     },
     "execution_count": 6,
     "metadata": {},
     "output_type": "execute_result"
    }
   ],
   "source": [
    "df1 = df[df['Name'] != 'Chafee'].iloc[:,3:].to_numpy()\n",
    "df1"
   ]
  },
  {
   "cell_type": "code",
   "execution_count": 7,
   "metadata": {
    "id": "Ls5rxBz65kN_"
   },
   "outputs": [],
   "source": [
    "from scipy.spatial.distance import cdist\n",
    "\n",
    "def closest_cosine_distance(x, A):\n",
    "    # Calculate cosine distances between x and all rows in A at once\n",
    "    cosine_distances = cdist([x], A, metric='cosine')[0]\n",
    "\n",
    "    # Find the index of the minimum distance\n",
    "    min_index = np.argmin(cosine_distances)\n",
    "\n",
    "    # Get the minimum distance and the corresponding row\n",
    "    min_distance = cosine_distances[min_index]\n",
    "\n",
    "    print(\"The minimum distance is:\", min_distance)\n",
    "    print(\"The corresponding row index is:\", min_index)\n",
    "\n",
    "    return min_index, min_distance\n"
   ]
  },
  {
   "cell_type": "code",
   "execution_count": 8,
   "metadata": {
    "colab": {
     "base_uri": "https://localhost:8080/"
    },
    "id": "t8QyWL_a8neY",
    "outputId": "d3a50497-cf5c-4597-9b37-3c1a14b27a01"
   },
   "outputs": [
    {
     "name": "stdout",
     "output_type": "stream",
     "text": [
      "The minimum distance is: 0.0906742140393687\n",
      "The corresponding row index is: 51\n"
     ]
    }
   ],
   "source": [
    "arr = closest_cosine_distance(chafee_senator,df1)"
   ]
  },
  {
   "cell_type": "code",
   "execution_count": 9,
   "metadata": {
    "colab": {
     "base_uri": "https://localhost:8080/",
     "height": 110
    },
    "id": "lycjJxXUCwse",
    "outputId": "88a03e57-e230-41b9-d3f7-58f3b7221736"
   },
   "outputs": [
    {
     "data": {
      "text/html": [
       "<div>\n",
       "<style scoped>\n",
       "    .dataframe tbody tr th:only-of-type {\n",
       "        vertical-align: middle;\n",
       "    }\n",
       "\n",
       "    .dataframe tbody tr th {\n",
       "        vertical-align: top;\n",
       "    }\n",
       "\n",
       "    .dataframe thead th {\n",
       "        text-align: right;\n",
       "    }\n",
       "</style>\n",
       "<table border=\"1\" class=\"dataframe\">\n",
       "  <thead>\n",
       "    <tr style=\"text-align: right;\">\n",
       "      <th></th>\n",
       "      <th>Name</th>\n",
       "      <th>Party</th>\n",
       "      <th>State</th>\n",
       "      <th>B1</th>\n",
       "      <th>B2</th>\n",
       "      <th>B3</th>\n",
       "      <th>B4</th>\n",
       "      <th>B5</th>\n",
       "      <th>B6</th>\n",
       "      <th>B7</th>\n",
       "      <th>...</th>\n",
       "      <th>B37</th>\n",
       "      <th>B38</th>\n",
       "      <th>B39</th>\n",
       "      <th>B40</th>\n",
       "      <th>B41</th>\n",
       "      <th>B42</th>\n",
       "      <th>B43</th>\n",
       "      <th>B44</th>\n",
       "      <th>B45</th>\n",
       "      <th>B46</th>\n",
       "    </tr>\n",
       "  </thead>\n",
       "  <tbody>\n",
       "    <tr>\n",
       "      <th>52</th>\n",
       "      <td>Jeffords</td>\n",
       "      <td>I</td>\n",
       "      <td>VT</td>\n",
       "      <td>1</td>\n",
       "      <td>-1</td>\n",
       "      <td>1</td>\n",
       "      <td>-1</td>\n",
       "      <td>1</td>\n",
       "      <td>1</td>\n",
       "      <td>-1</td>\n",
       "      <td>...</td>\n",
       "      <td>1</td>\n",
       "      <td>-1</td>\n",
       "      <td>-1</td>\n",
       "      <td>1</td>\n",
       "      <td>0</td>\n",
       "      <td>1</td>\n",
       "      <td>-1</td>\n",
       "      <td>1</td>\n",
       "      <td>1</td>\n",
       "      <td>-1</td>\n",
       "    </tr>\n",
       "  </tbody>\n",
       "</table>\n",
       "<p>1 rows × 49 columns</p>\n",
       "</div>"
      ],
      "text/plain": [
       "        Name Party State  B1  B2  B3  B4  B5  B6  B7  ...  B37  B38  B39  B40  \\\n",
       "52  Jeffords     I    VT   1  -1   1  -1   1   1  -1  ...    1   -1   -1    1   \n",
       "\n",
       "    B41  B42  B43  B44  B45  B46  \n",
       "52    0    1   -1    1    1   -1  \n",
       "\n",
       "[1 rows x 49 columns]"
      ]
     },
     "execution_count": 9,
     "metadata": {},
     "output_type": "execute_result"
    }
   ],
   "source": [
    "df1 = df[df['Name'] != 'Chafee']\n",
    "closest_chafee = df1.iloc[[51]]\n",
    "closest_chafee"
   ]
  },
  {
   "cell_type": "code",
   "execution_count": 10,
   "metadata": {
    "colab": {
     "base_uri": "https://localhost:8080/"
    },
    "id": "BqeVCTqEDT-t",
    "outputId": "0da31c2f-581f-4043-8af7-22e246d6b423"
   },
   "outputs": [
    {
     "data": {
      "text/plain": [
       "array([ 1, -1,  1, -1,  1,  1, -1,  1,  1,  1,  1,  1,  1,  1,  1,  1,  1,\n",
       "        1,  1,  1,  1,  1,  1,  1,  1,  1, -1,  1,  1,  1,  1,  1,  1,  1,\n",
       "        1,  1,  1, -1, -1,  1,  0,  1, -1,  1,  1, -1], dtype=int64)"
      ]
     },
     "execution_count": 10,
     "metadata": {},
     "output_type": "execute_result"
    }
   ],
   "source": [
    "jefford_senator = df[df['Name']=='Jeffords'].iloc[:,3:].to_numpy()[0]\n",
    "jefford_senator"
   ]
  },
  {
   "cell_type": "code",
   "execution_count": 11,
   "metadata": {
    "colab": {
     "base_uri": "https://localhost:8080/"
    },
    "id": "tBUjgFpdDbXI",
    "outputId": "a0b79da2-4efd-4298-ff33-fad8ce8ca199"
   },
   "outputs": [
    {
     "data": {
      "text/plain": [
       "0.0906742140393687"
      ]
     },
     "execution_count": 11,
     "metadata": {},
     "output_type": "execute_result"
    }
   ],
   "source": [
    "cosine_distance = cdist([chafee_senator], [jefford_senator], metric='cosine')[0, 0]\n",
    "cosine_distance"
   ]
  },
  {
   "cell_type": "markdown",
   "metadata": {
    "id": "RHj7qjb4FdOp"
   },
   "source": [
    "####Find the senator who disagrees most with Pennsylvania senator, Rick Santorum.\n",
    "\n"
   ]
  },
  {
   "cell_type": "code",
   "execution_count": 13,
   "metadata": {
    "colab": {
     "base_uri": "https://localhost:8080/"
    },
    "id": "iA-GZVHiFghE",
    "outputId": "5b81c81a-d0a0-4205-952e-61cffc87d1db"
   },
   "outputs": [
    {
     "data": {
      "text/plain": [
       "array([ 0,  1,  1,  1,  1,  1,  1,  1,  1,  1,  1, -1,  1,  1,  1,  1,  1,\n",
       "        1,  1,  1,  1,  1,  1, -1,  1,  1,  1,  1,  1,  1,  1,  1,  1,  1,\n",
       "        1,  1,  1,  1,  1,  1,  1,  1,  1,  1,  1,  1], dtype=int64)"
      ]
     },
     "execution_count": 13,
     "metadata": {},
     "output_type": "execute_result"
    }
   ],
   "source": [
    "santorum_senator = df[df['Name']=='Santorum'].iloc[:,3:].to_numpy()[0]\n",
    "santorum_senator"
   ]
  },
  {
   "cell_type": "code",
   "execution_count": 14,
   "metadata": {
    "colab": {
     "base_uri": "https://localhost:8080/"
    },
    "id": "7rZpoyi3H_L8",
    "outputId": "a47eee67-95d0-4aa3-bf43-2683c46dd410"
   },
   "outputs": [
    {
     "data": {
      "text/plain": [
       "array([[-1, -1,  1, ...,  1,  1, -1],\n",
       "       [ 1,  1,  1, ...,  0,  1,  1],\n",
       "       [ 1,  1,  1, ...,  1,  1,  1],\n",
       "       ...,\n",
       "       [ 1, -1,  1, ...,  1,  1, -1],\n",
       "       [ 1,  1,  1, ...,  1,  1,  1],\n",
       "       [-1, -1,  1, ...,  1,  1, -1]], dtype=int64)"
      ]
     },
     "execution_count": 14,
     "metadata": {},
     "output_type": "execute_result"
    }
   ],
   "source": [
    "df2 = df[df['Name'] != 'Santorum'].iloc[:,3:].to_numpy()\n",
    "df2"
   ]
  },
  {
   "cell_type": "code",
   "execution_count": 15,
   "metadata": {
    "id": "agU0JSQvGsmf"
   },
   "outputs": [],
   "source": [
    "def farthest_cosine_distance(x, A):\n",
    "    # Calculate cosine distances between x and all rows in A at once\n",
    "    cosine_distances = cdist([x], A, metric='cosine')[0]\n",
    "\n",
    "    # Find the index of the maximum distance\n",
    "    max_index = np.argmax(cosine_distances)\n",
    "\n",
    "    # Get the maximum distance and the corresponding row\n",
    "    max_distance = cosine_distances[max_index]\n",
    "\n",
    "    print(\"The maximum distance is:\", max_distance)\n",
    "    print(\"The corresponding row index is:\", max_index)\n",
    "\n",
    "    return max_index, max_distance"
   ]
  },
  {
   "cell_type": "code",
   "execution_count": 16,
   "metadata": {
    "colab": {
     "base_uri": "https://localhost:8080/"
    },
    "id": "WUvvc-UgGy1E",
    "outputId": "6f88ea1a-7026-4e2e-e6f7-11da38f097a8"
   },
   "outputs": [
    {
     "name": "stdout",
     "output_type": "stream",
     "text": [
      "The maximum distance is: 0.9340619526604212\n",
      "The corresponding row index is: 39\n"
     ]
    }
   ],
   "source": [
    "arr = farthest_cosine_distance(santorum_senator,df2)"
   ]
  },
  {
   "cell_type": "code",
   "execution_count": 17,
   "metadata": {
    "colab": {
     "base_uri": "https://localhost:8080/",
     "height": 110
    },
    "id": "SaX0WSASHBnR",
    "outputId": "4ae87d2c-fac0-46e4-b9c3-26ee7d45df64"
   },
   "outputs": [
    {
     "data": {
      "text/html": [
       "<div>\n",
       "<style scoped>\n",
       "    .dataframe tbody tr th:only-of-type {\n",
       "        vertical-align: middle;\n",
       "    }\n",
       "\n",
       "    .dataframe tbody tr th {\n",
       "        vertical-align: top;\n",
       "    }\n",
       "\n",
       "    .dataframe thead th {\n",
       "        text-align: right;\n",
       "    }\n",
       "</style>\n",
       "<table border=\"1\" class=\"dataframe\">\n",
       "  <thead>\n",
       "    <tr style=\"text-align: right;\">\n",
       "      <th></th>\n",
       "      <th>Name</th>\n",
       "      <th>Party</th>\n",
       "      <th>State</th>\n",
       "      <th>B1</th>\n",
       "      <th>B2</th>\n",
       "      <th>B3</th>\n",
       "      <th>B4</th>\n",
       "      <th>B5</th>\n",
       "      <th>B6</th>\n",
       "      <th>B7</th>\n",
       "      <th>...</th>\n",
       "      <th>B37</th>\n",
       "      <th>B38</th>\n",
       "      <th>B39</th>\n",
       "      <th>B40</th>\n",
       "      <th>B41</th>\n",
       "      <th>B42</th>\n",
       "      <th>B43</th>\n",
       "      <th>B44</th>\n",
       "      <th>B45</th>\n",
       "      <th>B46</th>\n",
       "    </tr>\n",
       "  </thead>\n",
       "  <tbody>\n",
       "    <tr>\n",
       "      <th>39</th>\n",
       "      <td>Feingold</td>\n",
       "      <td>D</td>\n",
       "      <td>WI</td>\n",
       "      <td>-1</td>\n",
       "      <td>-1</td>\n",
       "      <td>1</td>\n",
       "      <td>-1</td>\n",
       "      <td>1</td>\n",
       "      <td>-1</td>\n",
       "      <td>-1</td>\n",
       "      <td>...</td>\n",
       "      <td>1</td>\n",
       "      <td>-1</td>\n",
       "      <td>-1</td>\n",
       "      <td>1</td>\n",
       "      <td>-1</td>\n",
       "      <td>1</td>\n",
       "      <td>-1</td>\n",
       "      <td>1</td>\n",
       "      <td>1</td>\n",
       "      <td>-1</td>\n",
       "    </tr>\n",
       "  </tbody>\n",
       "</table>\n",
       "<p>1 rows × 49 columns</p>\n",
       "</div>"
      ],
      "text/plain": [
       "        Name Party State  B1  B2  B3  B4  B5  B6  B7  ...  B37  B38  B39  B40  \\\n",
       "39  Feingold     D    WI  -1  -1   1  -1   1  -1  -1  ...    1   -1   -1    1   \n",
       "\n",
       "    B41  B42  B43  B44  B45  B46  \n",
       "39   -1    1   -1    1    1   -1  \n",
       "\n",
       "[1 rows x 49 columns]"
      ]
     },
     "execution_count": 17,
     "metadata": {},
     "output_type": "execute_result"
    }
   ],
   "source": [
    "df2 = df[df['Name'] != 'Santorum']\n",
    "farthest_santorum = df2.iloc[[39]]\n",
    "farthest_santorum"
   ]
  },
  {
   "cell_type": "code",
   "execution_count": 18,
   "metadata": {
    "colab": {
     "base_uri": "https://localhost:8080/"
    },
    "id": "aeet8aKlIjwz",
    "outputId": "6187f0d6-fb33-41f1-9f5e-1e7a2cf4da2f"
   },
   "outputs": [
    {
     "data": {
      "text/plain": [
       "0.9340619526604212"
      ]
     },
     "execution_count": 18,
     "metadata": {},
     "output_type": "execute_result"
    }
   ],
   "source": [
    "feingold_senator = df[df['Name']=='Feingold'].iloc[:,3:].to_numpy()[0]\n",
    "\n",
    "cosine_distance = cdist([santorum_senator], [feingold_senator], metric='cosine')[0, 0]\n",
    "cosine_distance"
   ]
  },
  {
   "cell_type": "markdown",
   "metadata": {
    "id": "wl4xaeHsLt7i"
   },
   "source": [
    "####Choose 5 Democratic and 5 Republican (or more) senators."
   ]
  },
  {
   "cell_type": "code",
   "execution_count": 20,
   "metadata": {
    "colab": {
     "base_uri": "https://localhost:8080/",
     "height": 236
    },
    "id": "oJD5ESvCL0Kh",
    "outputId": "dadeded2-443b-4f74-8c01-85162dfdebdd"
   },
   "outputs": [
    {
     "data": {
      "text/html": [
       "<div>\n",
       "<style scoped>\n",
       "    .dataframe tbody tr th:only-of-type {\n",
       "        vertical-align: middle;\n",
       "    }\n",
       "\n",
       "    .dataframe tbody tr th {\n",
       "        vertical-align: top;\n",
       "    }\n",
       "\n",
       "    .dataframe thead th {\n",
       "        text-align: right;\n",
       "    }\n",
       "</style>\n",
       "<table border=\"1\" class=\"dataframe\">\n",
       "  <thead>\n",
       "    <tr style=\"text-align: right;\">\n",
       "      <th></th>\n",
       "      <th>Name</th>\n",
       "      <th>Party</th>\n",
       "      <th>State</th>\n",
       "      <th>B1</th>\n",
       "      <th>B2</th>\n",
       "      <th>B3</th>\n",
       "      <th>B4</th>\n",
       "      <th>B5</th>\n",
       "      <th>B6</th>\n",
       "      <th>B7</th>\n",
       "      <th>...</th>\n",
       "      <th>B37</th>\n",
       "      <th>B38</th>\n",
       "      <th>B39</th>\n",
       "      <th>B40</th>\n",
       "      <th>B41</th>\n",
       "      <th>B42</th>\n",
       "      <th>B43</th>\n",
       "      <th>B44</th>\n",
       "      <th>B45</th>\n",
       "      <th>B46</th>\n",
       "    </tr>\n",
       "  </thead>\n",
       "  <tbody>\n",
       "    <tr>\n",
       "      <th>49</th>\n",
       "      <td>Inhofe</td>\n",
       "      <td>R</td>\n",
       "      <td>OK</td>\n",
       "      <td>1</td>\n",
       "      <td>1</td>\n",
       "      <td>1</td>\n",
       "      <td>1</td>\n",
       "      <td>1</td>\n",
       "      <td>1</td>\n",
       "      <td>1</td>\n",
       "      <td>...</td>\n",
       "      <td>1</td>\n",
       "      <td>1</td>\n",
       "      <td>1</td>\n",
       "      <td>1</td>\n",
       "      <td>0</td>\n",
       "      <td>-1</td>\n",
       "      <td>1</td>\n",
       "      <td>1</td>\n",
       "      <td>1</td>\n",
       "      <td>1</td>\n",
       "    </tr>\n",
       "    <tr>\n",
       "      <th>11</th>\n",
       "      <td>Brownback</td>\n",
       "      <td>R</td>\n",
       "      <td>KS</td>\n",
       "      <td>1</td>\n",
       "      <td>1</td>\n",
       "      <td>1</td>\n",
       "      <td>1</td>\n",
       "      <td>1</td>\n",
       "      <td>1</td>\n",
       "      <td>1</td>\n",
       "      <td>...</td>\n",
       "      <td>1</td>\n",
       "      <td>1</td>\n",
       "      <td>1</td>\n",
       "      <td>1</td>\n",
       "      <td>1</td>\n",
       "      <td>1</td>\n",
       "      <td>1</td>\n",
       "      <td>1</td>\n",
       "      <td>1</td>\n",
       "      <td>1</td>\n",
       "    </tr>\n",
       "    <tr>\n",
       "      <th>51</th>\n",
       "      <td>Isakson</td>\n",
       "      <td>R</td>\n",
       "      <td>GA</td>\n",
       "      <td>1</td>\n",
       "      <td>1</td>\n",
       "      <td>1</td>\n",
       "      <td>1</td>\n",
       "      <td>1</td>\n",
       "      <td>1</td>\n",
       "      <td>1</td>\n",
       "      <td>...</td>\n",
       "      <td>1</td>\n",
       "      <td>1</td>\n",
       "      <td>1</td>\n",
       "      <td>1</td>\n",
       "      <td>1</td>\n",
       "      <td>1</td>\n",
       "      <td>1</td>\n",
       "      <td>1</td>\n",
       "      <td>1</td>\n",
       "      <td>1</td>\n",
       "    </tr>\n",
       "    <tr>\n",
       "      <th>23</th>\n",
       "      <td>Coleman</td>\n",
       "      <td>R</td>\n",
       "      <td>MN</td>\n",
       "      <td>1</td>\n",
       "      <td>1</td>\n",
       "      <td>1</td>\n",
       "      <td>1</td>\n",
       "      <td>1</td>\n",
       "      <td>1</td>\n",
       "      <td>-1</td>\n",
       "      <td>...</td>\n",
       "      <td>1</td>\n",
       "      <td>1</td>\n",
       "      <td>1</td>\n",
       "      <td>1</td>\n",
       "      <td>1</td>\n",
       "      <td>1</td>\n",
       "      <td>-1</td>\n",
       "      <td>1</td>\n",
       "      <td>1</td>\n",
       "      <td>1</td>\n",
       "    </tr>\n",
       "    <tr>\n",
       "      <th>31</th>\n",
       "      <td>DeWine</td>\n",
       "      <td>R</td>\n",
       "      <td>OH</td>\n",
       "      <td>1</td>\n",
       "      <td>1</td>\n",
       "      <td>1</td>\n",
       "      <td>1</td>\n",
       "      <td>1</td>\n",
       "      <td>1</td>\n",
       "      <td>-1</td>\n",
       "      <td>...</td>\n",
       "      <td>1</td>\n",
       "      <td>1</td>\n",
       "      <td>1</td>\n",
       "      <td>1</td>\n",
       "      <td>1</td>\n",
       "      <td>1</td>\n",
       "      <td>-1</td>\n",
       "      <td>1</td>\n",
       "      <td>1</td>\n",
       "      <td>1</td>\n",
       "    </tr>\n",
       "  </tbody>\n",
       "</table>\n",
       "<p>5 rows × 49 columns</p>\n",
       "</div>"
      ],
      "text/plain": [
       "         Name Party State  B1  B2  B3  B4  B5  B6  B7  ...  B37  B38  B39  \\\n",
       "49     Inhofe     R    OK   1   1   1   1   1   1   1  ...    1    1    1   \n",
       "11  Brownback     R    KS   1   1   1   1   1   1   1  ...    1    1    1   \n",
       "51    Isakson     R    GA   1   1   1   1   1   1   1  ...    1    1    1   \n",
       "23    Coleman     R    MN   1   1   1   1   1   1  -1  ...    1    1    1   \n",
       "31     DeWine     R    OH   1   1   1   1   1   1  -1  ...    1    1    1   \n",
       "\n",
       "    B40  B41  B42  B43  B44  B45  B46  \n",
       "49    1    0   -1    1    1    1    1  \n",
       "11    1    1    1    1    1    1    1  \n",
       "51    1    1    1    1    1    1    1  \n",
       "23    1    1    1   -1    1    1    1  \n",
       "31    1    1    1   -1    1    1    1  \n",
       "\n",
       "[5 rows x 49 columns]"
      ]
     },
     "execution_count": 20,
     "metadata": {},
     "output_type": "execute_result"
    }
   ],
   "source": [
    "from random import sample\n",
    "\n",
    "republican_list  = df[df['Party']=='R'].sample(5, random_state = 42)\n",
    "republican_list"
   ]
  },
  {
   "cell_type": "code",
   "execution_count": 21,
   "metadata": {
    "colab": {
     "base_uri": "https://localhost:8080/",
     "height": 236
    },
    "id": "rNJfS3KMMzxF",
    "outputId": "428dc7c4-c779-4ab8-d6ba-9edaf7109be3"
   },
   "outputs": [
    {
     "data": {
      "text/html": [
       "<div>\n",
       "<style scoped>\n",
       "    .dataframe tbody tr th:only-of-type {\n",
       "        vertical-align: middle;\n",
       "    }\n",
       "\n",
       "    .dataframe tbody tr th {\n",
       "        vertical-align: top;\n",
       "    }\n",
       "\n",
       "    .dataframe thead th {\n",
       "        text-align: right;\n",
       "    }\n",
       "</style>\n",
       "<table border=\"1\" class=\"dataframe\">\n",
       "  <thead>\n",
       "    <tr style=\"text-align: right;\">\n",
       "      <th></th>\n",
       "      <th>Name</th>\n",
       "      <th>Party</th>\n",
       "      <th>State</th>\n",
       "      <th>B1</th>\n",
       "      <th>B2</th>\n",
       "      <th>B3</th>\n",
       "      <th>B4</th>\n",
       "      <th>B5</th>\n",
       "      <th>B6</th>\n",
       "      <th>B7</th>\n",
       "      <th>...</th>\n",
       "      <th>B37</th>\n",
       "      <th>B38</th>\n",
       "      <th>B39</th>\n",
       "      <th>B40</th>\n",
       "      <th>B41</th>\n",
       "      <th>B42</th>\n",
       "      <th>B43</th>\n",
       "      <th>B44</th>\n",
       "      <th>B45</th>\n",
       "      <th>B46</th>\n",
       "    </tr>\n",
       "  </thead>\n",
       "  <tbody>\n",
       "    <tr>\n",
       "      <th>79</th>\n",
       "      <td>Rockefeller</td>\n",
       "      <td>D</td>\n",
       "      <td>WV</td>\n",
       "      <td>1</td>\n",
       "      <td>1</td>\n",
       "      <td>1</td>\n",
       "      <td>1</td>\n",
       "      <td>1</td>\n",
       "      <td>-1</td>\n",
       "      <td>-1</td>\n",
       "      <td>...</td>\n",
       "      <td>1</td>\n",
       "      <td>1</td>\n",
       "      <td>1</td>\n",
       "      <td>1</td>\n",
       "      <td>1</td>\n",
       "      <td>0</td>\n",
       "      <td>-1</td>\n",
       "      <td>1</td>\n",
       "      <td>1</td>\n",
       "      <td>-1</td>\n",
       "    </tr>\n",
       "    <tr>\n",
       "      <th>59</th>\n",
       "      <td>Lautenberg</td>\n",
       "      <td>D</td>\n",
       "      <td>NJ</td>\n",
       "      <td>-1</td>\n",
       "      <td>-1</td>\n",
       "      <td>1</td>\n",
       "      <td>1</td>\n",
       "      <td>1</td>\n",
       "      <td>-1</td>\n",
       "      <td>-1</td>\n",
       "      <td>...</td>\n",
       "      <td>1</td>\n",
       "      <td>1</td>\n",
       "      <td>-1</td>\n",
       "      <td>1</td>\n",
       "      <td>1</td>\n",
       "      <td>1</td>\n",
       "      <td>-1</td>\n",
       "      <td>1</td>\n",
       "      <td>1</td>\n",
       "      <td>-1</td>\n",
       "    </tr>\n",
       "    <tr>\n",
       "      <th>60</th>\n",
       "      <td>Leahy</td>\n",
       "      <td>D</td>\n",
       "      <td>VT</td>\n",
       "      <td>-1</td>\n",
       "      <td>-1</td>\n",
       "      <td>1</td>\n",
       "      <td>1</td>\n",
       "      <td>1</td>\n",
       "      <td>-1</td>\n",
       "      <td>-1</td>\n",
       "      <td>...</td>\n",
       "      <td>0</td>\n",
       "      <td>-1</td>\n",
       "      <td>-1</td>\n",
       "      <td>1</td>\n",
       "      <td>-1</td>\n",
       "      <td>1</td>\n",
       "      <td>-1</td>\n",
       "      <td>1</td>\n",
       "      <td>1</td>\n",
       "      <td>-1</td>\n",
       "    </tr>\n",
       "    <tr>\n",
       "      <th>77</th>\n",
       "      <td>Reid</td>\n",
       "      <td>D</td>\n",
       "      <td>NV</td>\n",
       "      <td>-1</td>\n",
       "      <td>-1</td>\n",
       "      <td>1</td>\n",
       "      <td>1</td>\n",
       "      <td>1</td>\n",
       "      <td>1</td>\n",
       "      <td>-1</td>\n",
       "      <td>...</td>\n",
       "      <td>1</td>\n",
       "      <td>-1</td>\n",
       "      <td>-1</td>\n",
       "      <td>1</td>\n",
       "      <td>1</td>\n",
       "      <td>1</td>\n",
       "      <td>-1</td>\n",
       "      <td>1</td>\n",
       "      <td>1</td>\n",
       "      <td>-1</td>\n",
       "    </tr>\n",
       "    <tr>\n",
       "      <th>75</th>\n",
       "      <td>Pryor</td>\n",
       "      <td>D</td>\n",
       "      <td>AR</td>\n",
       "      <td>-1</td>\n",
       "      <td>1</td>\n",
       "      <td>1</td>\n",
       "      <td>1</td>\n",
       "      <td>1</td>\n",
       "      <td>1</td>\n",
       "      <td>-1</td>\n",
       "      <td>...</td>\n",
       "      <td>1</td>\n",
       "      <td>1</td>\n",
       "      <td>1</td>\n",
       "      <td>1</td>\n",
       "      <td>1</td>\n",
       "      <td>1</td>\n",
       "      <td>-1</td>\n",
       "      <td>1</td>\n",
       "      <td>1</td>\n",
       "      <td>1</td>\n",
       "    </tr>\n",
       "  </tbody>\n",
       "</table>\n",
       "<p>5 rows × 49 columns</p>\n",
       "</div>"
      ],
      "text/plain": [
       "           Name Party State  B1  B2  B3  B4  B5  B6  B7  ...  B37  B38  B39  \\\n",
       "79  Rockefeller     D    WV   1   1   1   1   1  -1  -1  ...    1    1    1   \n",
       "59   Lautenberg     D    NJ  -1  -1   1   1   1  -1  -1  ...    1    1   -1   \n",
       "60        Leahy     D    VT  -1  -1   1   1   1  -1  -1  ...    0   -1   -1   \n",
       "77         Reid     D    NV  -1  -1   1   1   1   1  -1  ...    1   -1   -1   \n",
       "75        Pryor     D    AR  -1   1   1   1   1   1  -1  ...    1    1    1   \n",
       "\n",
       "    B40  B41  B42  B43  B44  B45  B46  \n",
       "79    1    1    0   -1    1    1   -1  \n",
       "59    1    1    1   -1    1    1   -1  \n",
       "60    1   -1    1   -1    1    1   -1  \n",
       "77    1    1    1   -1    1    1   -1  \n",
       "75    1    1    1   -1    1    1    1  \n",
       "\n",
       "[5 rows x 49 columns]"
      ]
     },
     "execution_count": 21,
     "metadata": {},
     "output_type": "execute_result"
    }
   ],
   "source": [
    "democratic_list  = df[df['Party']=='D'].sample(5, random_state = 42)\n",
    "democratic_list"
   ]
  },
  {
   "cell_type": "markdown",
   "metadata": {
    "id": "8coJFmAnM_K5"
   },
   "source": [
    "####Compare Jefford's record with each of these 10 senators."
   ]
  },
  {
   "cell_type": "code",
   "execution_count": 23,
   "metadata": {
    "colab": {
     "base_uri": "https://localhost:8080/"
    },
    "id": "_LyYggNHO0GY",
    "outputId": "e6f13a3c-f37e-4ff7-af8a-9c3b2b6b412e"
   },
   "outputs": [
    {
     "data": {
      "text/plain": [
       "array([ 1, -1,  1, -1,  1,  1, -1,  1,  1,  1,  1,  1,  1,  1,  1,  1,  1,\n",
       "        1,  1,  1,  1,  1,  1,  1,  1,  1, -1,  1,  1,  1,  1,  1,  1,  1,\n",
       "        1,  1,  1, -1, -1,  1,  0,  1, -1,  1,  1, -1], dtype=int64)"
      ]
     },
     "execution_count": 23,
     "metadata": {},
     "output_type": "execute_result"
    }
   ],
   "source": [
    "jeffords_senator = df[df['Name'] == 'Jeffords'].iloc[:,3:].to_numpy()[0]\n",
    "jeffords_senator"
   ]
  },
  {
   "cell_type": "code",
   "execution_count": 24,
   "metadata": {
    "id": "eK_YNB07QNyj"
   },
   "outputs": [],
   "source": [
    "republican_list = republican_list.iloc[:,3:].to_numpy()\n",
    "democratic_list = democratic_list.iloc[:,3:].to_numpy()"
   ]
  },
  {
   "cell_type": "code",
   "execution_count": 25,
   "metadata": {
    "id": "jZ1jEsT6e-Mf"
   },
   "outputs": [],
   "source": [
    "def cosine_distance(x, A):\n",
    "    # Calculate cosine distances between x and all rows in A at once\n",
    "    cosine_distances = cdist([x], A, metric='cosine')[0]\n",
    "\n",
    "    return cosine_distances"
   ]
  },
  {
   "cell_type": "code",
   "execution_count": 26,
   "metadata": {
    "colab": {
     "base_uri": "https://localhost:8080/"
    },
    "id": "JSOgeKliNDrJ",
    "outputId": "55321499-488e-4f9a-850c-df4a5ca69b47"
   },
   "outputs": [
    {
     "data": {
      "text/plain": [
       "array([0.66666667, 0.45051627, 0.49447497, 0.33333333, 0.31864018])"
      ]
     },
     "execution_count": 26,
     "metadata": {},
     "output_type": "execute_result"
    }
   ],
   "source": [
    "republican_distance = cosine_distance(jeffords_senator,republican_list)\n",
    "republican_distance"
   ]
  },
  {
   "cell_type": "code",
   "execution_count": 27,
   "metadata": {
    "colab": {
     "base_uri": "https://localhost:8080/"
    },
    "id": "-rtTWhctSgue",
    "outputId": "fb623150-f638-4e95-91e1-b2e80fc31013"
   },
   "outputs": [
    {
     "data": {
      "text/plain": [
       "array([0.50502525, 0.45051627, 0.34827347, 0.31864018, 0.31864018])"
      ]
     },
     "execution_count": 27,
     "metadata": {},
     "output_type": "execute_result"
    }
   ],
   "source": [
    "democratic_distance = cosine_distance(jeffords_senator,democratic_list)\n",
    "democratic_distance"
   ]
  },
  {
   "cell_type": "markdown",
   "metadata": {
    "id": "lW49EhqJSyWU"
   },
   "source": [
    "Bacause mostly republican_distance > democratic_distance => Jim Jeffords near to be a Democratic"
   ]
  }
 ],
 "metadata": {
  "colab": {
   "provenance": []
  },
  "kernelspec": {
   "display_name": "Python 3 (ipykernel)",
   "language": "python",
   "name": "python3"
  },
  "language_info": {
   "codemirror_mode": {
    "name": "ipython",
    "version": 3
   },
   "file_extension": ".py",
   "mimetype": "text/x-python",
   "name": "python",
   "nbconvert_exporter": "python",
   "pygments_lexer": "ipython3",
   "version": "3.12.4"
  }
 },
 "nbformat": 4,
 "nbformat_minor": 4
}
