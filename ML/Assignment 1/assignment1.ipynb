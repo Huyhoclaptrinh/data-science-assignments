{
 "cells": [
  {
   "cell_type": "markdown",
   "id": "9f3eca20-6f30-453a-b70d-902bb2cf3c01",
   "metadata": {},
   "source": [
    "# Assignment 1"
   ]
  },
  {
   "cell_type": "markdown",
   "id": "cd44295a-59a0-443d-8e6d-546049960b44",
   "metadata": {},
   "source": [
    "## Number 1"
   ]
  },
  {
   "cell_type": "markdown",
   "id": "47cd5526-e243-409f-b174-2e258256fbe8",
   "metadata": {},
   "source": [
    "Give 3 real-world examples each of supervised and unsupervised learning, different from those discussed in the lecture notes. Clearly explain why each example falls into its respective category, highlighting the key distinction between labeled and unlabeled data in their application.\n",
    "\n",
    "1. Supervised Learning:\n",
    "   \n",
    "   a. Regression:\n",
    "   - Employee performance prediction: Based on several input features such as training, working quality, hours of working on a person relate to his/her career, it can predict his/her performance.\n",
    "   - Impact of a particular language in a country: Based on some data, for example, number of people using that language, rating, it can calculate and then predict the outcome which is language impactation in a nation.\n",
    "   - Estimate soccer league: By using various data such as number of win, lose or draw matches, total goals, assists, it can estimate the result of the league.\n",
    "   \n",
    "   b. Classification:\n",
    "   - Animal recognition: By using some pictures which have label for the target data, the learning model can process and detect many type of animals.\n",
    "   - Ethnical classification: With characteristics of human appearance, it can classify for each group of ethics which has been labelled.\n",
    "   - Match result prediction: By using some data such as history dual, performance in lastest matches, it can predict a team with one of three categories: win, lost or draw.\n",
    "     \n",
    "\n",
    "2. Unsupervised Learning\n",
    "   a. Clustering:\n",
    "   - Music type classification: Based on some details such as frequency, pitch, amplitude, the model should try to define those to be some unknown groups.\n",
    "   - Vehicle detection: With the size, number of tries in each type of vehicle or somethings else, it will find the output data without label and divide those to several groups for detecting if there are new data provided.\n",
    "   - Recommendation system in social media: Based on user preferences when search or surfing on social media, the system will show more information that users mostly observe.\n",
    "   \n",
    "\r\n",
    "\r\n"
   ]
  },
  {
   "cell_type": "markdown",
   "id": "5abbe4a8-7e73-4951-a2fc-6c3e81fc5fa8",
   "metadata": {},
   "source": [
    "## Number 2"
   ]
  },
  {
   "cell_type": "markdown",
   "id": "c53fc25a-fe17-4c06-b1a9-651842440fc4",
   "metadata": {},
   "source": [
    "### Part 1"
   ]
  },
  {
   "cell_type": "code",
   "execution_count": 647,
   "id": "d7309eb6-9214-42e3-9d94-c82ed7765b6a",
   "metadata": {},
   "outputs": [],
   "source": [
    "import numpy as np\n",
    "import pandas as pd"
   ]
  },
  {
   "cell_type": "code",
   "execution_count": 648,
   "id": "05151d19-07d8-49c4-8e15-b56215382b5f",
   "metadata": {},
   "outputs": [
    {
     "data": {
      "text/plain": [
       "(6, 3)"
      ]
     },
     "execution_count": 648,
     "metadata": {},
     "output_type": "execute_result"
    }
   ],
   "source": [
    "A = np.array([[1,2,3],\n",
    "             [1,0,1],\n",
    "             [4,1,2],\n",
    "             [2,3,0],\n",
    "             [5,2,4],\n",
    "             [0,2,5]])\n",
    "A.shape"
   ]
  },
  {
   "cell_type": "code",
   "execution_count": 649,
   "id": "76d2e423-67cc-44e0-9dee-382178e3a777",
   "metadata": {},
   "outputs": [
    {
     "data": {
      "text/plain": [
       "(3, 3)"
      ]
     },
     "execution_count": 649,
     "metadata": {},
     "output_type": "execute_result"
    }
   ],
   "source": [
    "B = np.array([[2,1,2],\n",
    "              [1,3,0],\n",
    "              [2,0,5]])\n",
    "B.shape"
   ]
  },
  {
   "cell_type": "code",
   "execution_count": 650,
   "id": "3e12fb8b-536e-471b-a629-5337f9b74384",
   "metadata": {},
   "outputs": [
    {
     "data": {
      "text/html": [
       "<div>\n",
       "<style scoped>\n",
       "    .dataframe tbody tr th:only-of-type {\n",
       "        vertical-align: middle;\n",
       "    }\n",
       "\n",
       "    .dataframe tbody tr th {\n",
       "        vertical-align: top;\n",
       "    }\n",
       "\n",
       "    .dataframe thead th {\n",
       "        text-align: right;\n",
       "    }\n",
       "</style>\n",
       "<table border=\"1\" class=\"dataframe\">\n",
       "  <thead>\n",
       "    <tr style=\"text-align: right;\">\n",
       "      <th></th>\n",
       "      <th>Action</th>\n",
       "      <th>Drama</th>\n",
       "      <th>Documentary</th>\n",
       "    </tr>\n",
       "  </thead>\n",
       "  <tbody>\n",
       "    <tr>\n",
       "      <th>0</th>\n",
       "      <td>1</td>\n",
       "      <td>2</td>\n",
       "      <td>3</td>\n",
       "    </tr>\n",
       "    <tr>\n",
       "      <th>1</th>\n",
       "      <td>1</td>\n",
       "      <td>0</td>\n",
       "      <td>1</td>\n",
       "    </tr>\n",
       "    <tr>\n",
       "      <th>2</th>\n",
       "      <td>4</td>\n",
       "      <td>1</td>\n",
       "      <td>2</td>\n",
       "    </tr>\n",
       "    <tr>\n",
       "      <th>3</th>\n",
       "      <td>2</td>\n",
       "      <td>3</td>\n",
       "      <td>0</td>\n",
       "    </tr>\n",
       "    <tr>\n",
       "      <th>4</th>\n",
       "      <td>5</td>\n",
       "      <td>2</td>\n",
       "      <td>4</td>\n",
       "    </tr>\n",
       "    <tr>\n",
       "      <th>5</th>\n",
       "      <td>0</td>\n",
       "      <td>2</td>\n",
       "      <td>5</td>\n",
       "    </tr>\n",
       "  </tbody>\n",
       "</table>\n",
       "</div>"
      ],
      "text/plain": [
       "   Action  Drama  Documentary\n",
       "0       1      2            3\n",
       "1       1      0            1\n",
       "2       4      1            2\n",
       "3       2      3            0\n",
       "4       5      2            4\n",
       "5       0      2            5"
      ]
     },
     "execution_count": 650,
     "metadata": {},
     "output_type": "execute_result"
    }
   ],
   "source": [
    "column_1 = ['Action','Drama','Documentary']\n",
    "df1 = pd.DataFrame(data=A,columns=column_1)\n",
    "df1"
   ]
  },
  {
   "cell_type": "code",
   "execution_count": 651,
   "id": "1ccb5c75-d104-4128-a544-1f93f26d089a",
   "metadata": {},
   "outputs": [
    {
     "data": {
      "text/html": [
       "<div>\n",
       "<style scoped>\n",
       "    .dataframe tbody tr th:only-of-type {\n",
       "        vertical-align: middle;\n",
       "    }\n",
       "\n",
       "    .dataframe tbody tr th {\n",
       "        vertical-align: top;\n",
       "    }\n",
       "\n",
       "    .dataframe thead th {\n",
       "        text-align: right;\n",
       "    }\n",
       "</style>\n",
       "<table border=\"1\" class=\"dataframe\">\n",
       "  <thead>\n",
       "    <tr style=\"text-align: right;\">\n",
       "      <th></th>\n",
       "      <th>The Batman</th>\n",
       "      <th>Mickey 17</th>\n",
       "      <th>Bowling for Columbine</th>\n",
       "    </tr>\n",
       "  </thead>\n",
       "  <tbody>\n",
       "    <tr>\n",
       "      <th>0</th>\n",
       "      <td>2</td>\n",
       "      <td>1</td>\n",
       "      <td>2</td>\n",
       "    </tr>\n",
       "    <tr>\n",
       "      <th>1</th>\n",
       "      <td>1</td>\n",
       "      <td>3</td>\n",
       "      <td>0</td>\n",
       "    </tr>\n",
       "    <tr>\n",
       "      <th>2</th>\n",
       "      <td>2</td>\n",
       "      <td>0</td>\n",
       "      <td>5</td>\n",
       "    </tr>\n",
       "  </tbody>\n",
       "</table>\n",
       "</div>"
      ],
      "text/plain": [
       "   The Batman  Mickey 17  Bowling for Columbine\n",
       "0           2          1                      2\n",
       "1           1          3                      0\n",
       "2           2          0                      5"
      ]
     },
     "execution_count": 651,
     "metadata": {},
     "output_type": "execute_result"
    }
   ],
   "source": [
    "column_2 = ['The Batman','Mickey 17','Bowling for Columbine']\n",
    "df2 = pd.DataFrame(data=B,columns=column_2)\n",
    "df2"
   ]
  },
  {
   "cell_type": "markdown",
   "id": "0c0664ce-fcea-4ab3-b89a-b21868c54981",
   "metadata": {},
   "source": [
    "### Part 2"
   ]
  },
  {
   "cell_type": "code",
   "execution_count": 801,
   "id": "9e9376bd-f6dc-4cba-ae9a-5a67b7c41583",
   "metadata": {},
   "outputs": [],
   "source": [
    "def matrix_multi(a,b):\n",
    "    try:\n",
    "        result = a @ b\n",
    "        print('rows x columns',result.shape)\n",
    "        return result\n",
    "    except:\n",
    "        print(\"Incompatible\")    "
   ]
  },
  {
   "cell_type": "code",
   "execution_count": 803,
   "id": "7ded7421-0136-44a2-a985-e520e3b65098",
   "metadata": {},
   "outputs": [
    {
     "name": "stdout",
     "output_type": "stream",
     "text": [
      "Incompatible\n"
     ]
    }
   ],
   "source": [
    "pos_1 = matrix_multi(A,A)"
   ]
  },
  {
   "cell_type": "code",
   "execution_count": 805,
   "id": "5e4f9a76-eead-4cab-815a-511e52a37b83",
   "metadata": {},
   "outputs": [
    {
     "name": "stdout",
     "output_type": "stream",
     "text": [
      "rows x columns (6, 6)\n"
     ]
    },
    {
     "data": {
      "text/plain": [
       "array([[14,  4, 12,  8, 21, 19],\n",
       "       [ 4,  2,  6,  2,  9,  5],\n",
       "       [12,  6, 21, 11, 30, 12],\n",
       "       [ 8,  2, 11, 13, 16,  6],\n",
       "       [21,  9, 30, 16, 45, 24],\n",
       "       [19,  5, 12,  6, 24, 29]])"
      ]
     },
     "execution_count": 805,
     "metadata": {},
     "output_type": "execute_result"
    }
   ],
   "source": [
    "pos_2 = matrix_multi(A,A.transpose())\n",
    "pos_2"
   ]
  },
  {
   "cell_type": "code",
   "execution_count": 807,
   "id": "796e0617-2c27-41cd-a936-1b226d65ebe3",
   "metadata": {},
   "outputs": [
    {
     "name": "stdout",
     "output_type": "stream",
     "text": [
      "rows x columns (3, 3)\n"
     ]
    },
    {
     "data": {
      "text/plain": [
       "array([[47, 22, 32],\n",
       "       [22, 22, 26],\n",
       "       [32, 26, 55]])"
      ]
     },
     "execution_count": 807,
     "metadata": {},
     "output_type": "execute_result"
    }
   ],
   "source": [
    "pos_3 = matrix_multi(A.transpose(),A)\n",
    "pos_3"
   ]
  },
  {
   "cell_type": "code",
   "execution_count": 809,
   "id": "fa92150d-aa11-4b5f-ab71-40df4080a779",
   "metadata": {},
   "outputs": [
    {
     "name": "stdout",
     "output_type": "stream",
     "text": [
      "Incompatible\n"
     ]
    }
   ],
   "source": [
    "pos_4 = matrix_multi(A.transpose(),A.transpose())\n",
    "pos_4"
   ]
  },
  {
   "cell_type": "code",
   "execution_count": 811,
   "id": "fd9ab813-2704-4db1-b22e-384ed3c5c595",
   "metadata": {},
   "outputs": [
    {
     "name": "stdout",
     "output_type": "stream",
     "text": [
      "rows x columns (3, 3)\n"
     ]
    },
    {
     "data": {
      "text/plain": [
       "array([[ 9,  5, 14],\n",
       "       [ 5, 10,  2],\n",
       "       [14,  2, 29]])"
      ]
     },
     "execution_count": 811,
     "metadata": {},
     "output_type": "execute_result"
    }
   ],
   "source": [
    "pos_5 = matrix_multi(B,B)\n",
    "pos_5"
   ]
  },
  {
   "cell_type": "code",
   "execution_count": 813,
   "id": "a88f6772-9b5d-402a-9141-6a6ddf2f9e76",
   "metadata": {},
   "outputs": [
    {
     "name": "stdout",
     "output_type": "stream",
     "text": [
      "rows x columns (3, 3)\n"
     ]
    },
    {
     "data": {
      "text/plain": [
       "array([[ 9,  5, 14],\n",
       "       [ 5, 10,  2],\n",
       "       [14,  2, 29]])"
      ]
     },
     "execution_count": 813,
     "metadata": {},
     "output_type": "execute_result"
    }
   ],
   "source": [
    "pos_6 = matrix_multi(B,B.transpose())\n",
    "pos_6"
   ]
  },
  {
   "cell_type": "code",
   "execution_count": 815,
   "id": "7fd73562-6dcb-4e85-b8d7-889451104b97",
   "metadata": {},
   "outputs": [
    {
     "name": "stdout",
     "output_type": "stream",
     "text": [
      "rows x columns (3, 3)\n"
     ]
    },
    {
     "data": {
      "text/plain": [
       "array([[ 9,  5, 14],\n",
       "       [ 5, 10,  2],\n",
       "       [14,  2, 29]])"
      ]
     },
     "execution_count": 815,
     "metadata": {},
     "output_type": "execute_result"
    }
   ],
   "source": [
    "pos_7 = matrix_multi(B.transpose(),B)\n",
    "pos_7"
   ]
  },
  {
   "cell_type": "code",
   "execution_count": 817,
   "id": "69e0f48c-c3b8-42e3-8a57-1b0e8731f4df",
   "metadata": {},
   "outputs": [
    {
     "name": "stdout",
     "output_type": "stream",
     "text": [
      "rows x columns (3, 3)\n"
     ]
    },
    {
     "data": {
      "text/plain": [
       "array([[ 9,  5, 14],\n",
       "       [ 5, 10,  2],\n",
       "       [14,  2, 29]])"
      ]
     },
     "execution_count": 817,
     "metadata": {},
     "output_type": "execute_result"
    }
   ],
   "source": [
    "pos_8 = matrix_multi(B.transpose(),B.transpose())\n",
    "pos_8"
   ]
  },
  {
   "cell_type": "code",
   "execution_count": 819,
   "id": "d915187b-76bc-4aa0-8e24-83d7b7515941",
   "metadata": {},
   "outputs": [
    {
     "name": "stdout",
     "output_type": "stream",
     "text": [
      "rows x columns (6, 3)\n"
     ]
    },
    {
     "data": {
      "text/plain": [
       "array([[10,  7, 17],\n",
       "       [ 4,  1,  7],\n",
       "       [13,  7, 18],\n",
       "       [ 7, 11,  4],\n",
       "       [20, 11, 30],\n",
       "       [12,  6, 25]])"
      ]
     },
     "execution_count": 819,
     "metadata": {},
     "output_type": "execute_result"
    }
   ],
   "source": [
    "pos_9 = matrix_multi(A,B)\n",
    "pos_9"
   ]
  },
  {
   "cell_type": "code",
   "execution_count": 821,
   "id": "9e3a9049-a4ac-4328-9ffa-72531a96980e",
   "metadata": {},
   "outputs": [
    {
     "name": "stdout",
     "output_type": "stream",
     "text": [
      "Incompatible\n"
     ]
    }
   ],
   "source": [
    "pos_10 = matrix_multi(B,A)\n",
    "pos_10"
   ]
  },
  {
   "cell_type": "code",
   "execution_count": 823,
   "id": "642abf2f-3826-4e30-9b6f-8b0539a947e4",
   "metadata": {},
   "outputs": [
    {
     "name": "stdout",
     "output_type": "stream",
     "text": [
      "Incompatible\n"
     ]
    }
   ],
   "source": [
    "pos_11 = matrix_multi(B.transpose(),A)\n",
    "pos_11"
   ]
  },
  {
   "cell_type": "code",
   "execution_count": 825,
   "id": "cc24a576-1180-47a9-931a-f14e4b3aa036",
   "metadata": {},
   "outputs": [
    {
     "name": "stdout",
     "output_type": "stream",
     "text": [
      "rows x columns (6, 3)\n"
     ]
    },
    {
     "data": {
      "text/plain": [
       "array([[10,  7, 17],\n",
       "       [ 4,  1,  7],\n",
       "       [13,  7, 18],\n",
       "       [ 7, 11,  4],\n",
       "       [20, 11, 30],\n",
       "       [12,  6, 25]])"
      ]
     },
     "execution_count": 825,
     "metadata": {},
     "output_type": "execute_result"
    }
   ],
   "source": [
    "pos_12 = matrix_multi(A,B.transpose())\n",
    "pos_12"
   ]
  },
  {
   "cell_type": "code",
   "execution_count": 827,
   "id": "0e996d8e-e680-4e8a-aa7d-8df95f53085a",
   "metadata": {},
   "outputs": [
    {
     "name": "stdout",
     "output_type": "stream",
     "text": [
      "Incompatible\n"
     ]
    }
   ],
   "source": [
    "pos_13 = matrix_multi(A.transpose(),B)\n",
    "pos_13"
   ]
  },
  {
   "cell_type": "code",
   "execution_count": 829,
   "id": "6c9c4f6e-fe36-47dc-acab-ddf24576387b",
   "metadata": {},
   "outputs": [
    {
     "name": "stdout",
     "output_type": "stream",
     "text": [
      "rows x columns (3, 6)\n"
     ]
    },
    {
     "data": {
      "text/plain": [
       "array([[10,  4, 13,  7, 20, 12],\n",
       "       [ 7,  1,  7, 11, 11,  6],\n",
       "       [17,  7, 18,  4, 30, 25]])"
      ]
     },
     "execution_count": 829,
     "metadata": {},
     "output_type": "execute_result"
    }
   ],
   "source": [
    "pos_14 = matrix_multi(B,A.transpose())\n",
    "pos_14"
   ]
  },
  {
   "cell_type": "code",
   "execution_count": 831,
   "id": "a5ec11b9-f128-4365-9889-d06ab458e3c6",
   "metadata": {},
   "outputs": [
    {
     "name": "stdout",
     "output_type": "stream",
     "text": [
      "rows x columns (3, 6)\n"
     ]
    },
    {
     "data": {
      "text/plain": [
       "array([[10,  4, 13,  7, 20, 12],\n",
       "       [ 7,  1,  7, 11, 11,  6],\n",
       "       [17,  7, 18,  4, 30, 25]])"
      ]
     },
     "execution_count": 831,
     "metadata": {},
     "output_type": "execute_result"
    }
   ],
   "source": [
    "pos_15 = matrix_multi(B.transpose(),A.transpose())\n",
    "pos_15"
   ]
  },
  {
   "cell_type": "code",
   "execution_count": 833,
   "id": "acf665e1-1538-4af0-861d-30b506b61824",
   "metadata": {},
   "outputs": [
    {
     "name": "stdout",
     "output_type": "stream",
     "text": [
      "Incompatible\n"
     ]
    }
   ],
   "source": [
    "pos_16 = matrix_multi(A.transpose(),B.transpose())\n",
    "pos_16"
   ]
  },
  {
   "cell_type": "code",
   "execution_count": 911,
   "id": "2068557f-76ec-4ea8-8bd2-397c570c3631",
   "metadata": {},
   "outputs": [],
   "source": [
    "def dot_compare(a, b):\n",
    "    if a is None or b is None:\n",
    "        print(\"There are at least one incompatible in these matrices\")\n",
    "    elif np.array_equal(a, b):\n",
    "        print(f\"These products are equal with:\\n{a}\")\n",
    "    else:\n",
    "        print(\"These products aren't equal\")"
   ]
  },
  {
   "cell_type": "markdown",
   "id": "6dc63dad-cffc-4fbc-a484-4abc31ea80ac",
   "metadata": {},
   "source": [
    "#### All products that has at least equal with one of the other products"
   ]
  },
  {
   "cell_type": "code",
   "execution_count": 914,
   "id": "7b04bdc0-5f69-489e-abe0-9ccbb56a9a05",
   "metadata": {},
   "outputs": [
    {
     "name": "stdout",
     "output_type": "stream",
     "text": [
      "These products are equal with:\n",
      "[[ 9  5 14]\n",
      " [ 5 10  2]\n",
      " [14  2 29]]\n"
     ]
    }
   ],
   "source": [
    "dot_compare(pos_6,pos_5)"
   ]
  },
  {
   "cell_type": "code",
   "execution_count": 916,
   "id": "1fbbfe34-fff6-4539-a7e1-f451ac6d4aec",
   "metadata": {},
   "outputs": [
    {
     "name": "stdout",
     "output_type": "stream",
     "text": [
      "These products are equal with:\n",
      "[[ 9  5 14]\n",
      " [ 5 10  2]\n",
      " [14  2 29]]\n"
     ]
    }
   ],
   "source": [
    "dot_compare(pos_6,pos_7)"
   ]
  },
  {
   "cell_type": "code",
   "execution_count": 918,
   "id": "cc1e31c4-1268-47d1-be9a-1a24ea82fa53",
   "metadata": {},
   "outputs": [
    {
     "name": "stdout",
     "output_type": "stream",
     "text": [
      "These products are equal with:\n",
      "[[ 9  5 14]\n",
      " [ 5 10  2]\n",
      " [14  2 29]]\n"
     ]
    }
   ],
   "source": [
    "dot_compare(pos_6,pos_8)"
   ]
  },
  {
   "cell_type": "code",
   "execution_count": 920,
   "id": "c5359075-b06c-4911-83d1-3891327a451d",
   "metadata": {},
   "outputs": [
    {
     "name": "stdout",
     "output_type": "stream",
     "text": [
      "These products are equal with:\n",
      "[[ 9  5 14]\n",
      " [ 5 10  2]\n",
      " [14  2 29]]\n"
     ]
    }
   ],
   "source": [
    "dot_compare(pos_5,pos_7)"
   ]
  },
  {
   "cell_type": "code",
   "execution_count": 922,
   "id": "d6fc186e-36db-4dca-80f0-bc1598d4da29",
   "metadata": {},
   "outputs": [
    {
     "name": "stdout",
     "output_type": "stream",
     "text": [
      "These products are equal with:\n",
      "[[ 9  5 14]\n",
      " [ 5 10  2]\n",
      " [14  2 29]]\n"
     ]
    }
   ],
   "source": [
    "dot_compare(pos_5,pos_8)"
   ]
  },
  {
   "cell_type": "code",
   "execution_count": 924,
   "id": "1f414d15-3de7-4528-8669-90074557392b",
   "metadata": {},
   "outputs": [
    {
     "name": "stdout",
     "output_type": "stream",
     "text": [
      "These products are equal with:\n",
      "[[ 9  5 14]\n",
      " [ 5 10  2]\n",
      " [14  2 29]]\n"
     ]
    }
   ],
   "source": [
    "dot_compare(pos_7,pos_8)"
   ]
  },
  {
   "cell_type": "code",
   "execution_count": 926,
   "id": "6666aaf6-148f-45ba-a943-18f288af6370",
   "metadata": {},
   "outputs": [
    {
     "name": "stdout",
     "output_type": "stream",
     "text": [
      "These products are equal with:\n",
      "[[10  7 17]\n",
      " [ 4  1  7]\n",
      " [13  7 18]\n",
      " [ 7 11  4]\n",
      " [20 11 30]\n",
      " [12  6 25]]\n"
     ]
    }
   ],
   "source": [
    "dot_compare(pos_9,pos_12)"
   ]
  },
  {
   "cell_type": "code",
   "execution_count": 928,
   "id": "c724978b-c0a8-4734-9f35-d9321ff41970",
   "metadata": {},
   "outputs": [
    {
     "name": "stdout",
     "output_type": "stream",
     "text": [
      "These products are equal with:\n",
      "[[10  4 13  7 20 12]\n",
      " [ 7  1  7 11 11  6]\n",
      " [17  7 18  4 30 25]]\n"
     ]
    }
   ],
   "source": [
    "dot_compare(pos_14,pos_15)"
   ]
  },
  {
   "cell_type": "markdown",
   "id": "d6594449-4c1c-4430-af38-abafe09968dc",
   "metadata": {},
   "source": [
    "#### Additional Note"
   ]
  },
  {
   "cell_type": "markdown",
   "id": "8fc9135d-32b2-4255-80e1-9260baab5a3f",
   "metadata": {},
   "source": [
    "##### If not equal"
   ]
  },
  {
   "cell_type": "code",
   "execution_count": 932,
   "id": "4016f099-521b-4c99-8414-e3a9e493ab1a",
   "metadata": {},
   "outputs": [
    {
     "name": "stdout",
     "output_type": "stream",
     "text": [
      "These products aren't equal\n"
     ]
    }
   ],
   "source": [
    "dot_compare(pos_3,pos_15)"
   ]
  },
  {
   "cell_type": "code",
   "execution_count": 939,
   "id": "195df50b-4f5c-4013-a459-48e5657abf52",
   "metadata": {},
   "outputs": [
    {
     "name": "stdout",
     "output_type": "stream",
     "text": [
      "These products aren't equal\n"
     ]
    }
   ],
   "source": [
    "dot_compare(pos_3,pos_5)"
   ]
  },
  {
   "cell_type": "markdown",
   "id": "2f5d4e75-85ee-42ba-92d3-63ca4952f02a",
   "metadata": {},
   "source": [
    "##### If at least one is Incompatible"
   ]
  },
  {
   "cell_type": "code",
   "execution_count": 935,
   "id": "46c28fcd-2605-4dbe-9556-b8a145e6cb7e",
   "metadata": {},
   "outputs": [
    {
     "name": "stdout",
     "output_type": "stream",
     "text": [
      "There are at least one incompatible in these matrices\n"
     ]
    }
   ],
   "source": [
    "dot_compare(pos_1,pos_15)"
   ]
  },
  {
   "cell_type": "code",
   "execution_count": null,
   "id": "db5159eb-f59a-4949-96c3-63606bc2f5c0",
   "metadata": {},
   "outputs": [],
   "source": []
  }
 ],
 "metadata": {
  "kernelspec": {
   "display_name": "Python 3 (ipykernel)",
   "language": "python",
   "name": "python3"
  },
  "language_info": {
   "codemirror_mode": {
    "name": "ipython",
    "version": 3
   },
   "file_extension": ".py",
   "mimetype": "text/x-python",
   "name": "python",
   "nbconvert_exporter": "python",
   "pygments_lexer": "ipython3",
   "version": "3.12.4"
  }
 },
 "nbformat": 4,
 "nbformat_minor": 5
}
